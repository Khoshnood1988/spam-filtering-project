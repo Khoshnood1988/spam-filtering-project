{
  "cells": [
    {
      "cell_type": "code",
      "execution_count": 1,
      "metadata": {
        "id": "zIOOq1j1p6cN"
      },
      "outputs": [
        {
          "name": "stdout",
          "output_type": "stream",
          "text": [
            "   Message ID                       Subject  \\\n",
            "0           0  christmas tree farm pictures   \n",
            "1           1      vastar resources , inc .   \n",
            "2           2  calpine daily gas nomination   \n",
            "3           3                    re : issue   \n",
            "4           4     meter 7268 nov allocation   \n",
            "\n",
            "                                             Message Spam/Ham        Date  \n",
            "0                                                NaN      ham  1999-12-10  \n",
            "1  gary , production from the high island larger ...      ham  1999-12-13  \n",
            "2             - calpine daily gas nomination 1 . doc      ham  1999-12-14  \n",
            "3  fyi - see note below - already done .\\nstella\\...      ham  1999-12-14  \n",
            "4  fyi .\\n- - - - - - - - - - - - - - - - - - - -...      ham  1999-12-14  \n"
          ]
        }
      ],
      "source": [
        "import pandas as pd\n",
        "df = pd.read_csv('.\\\\enron_spam_data.csv')\n",
        "print(df.head())"
      ]
    },
    {
      "cell_type": "code",
      "execution_count": 2,
      "metadata": {
        "id": "CD9dWELIp_AN"
      },
      "outputs": [
        {
          "name": "stdout",
          "output_type": "stream",
          "text": [
            "       Message ID                                            Subject  \\\n",
            "0               0                       christmas tree farm pictures   \n",
            "1               1                           vastar resources , inc .   \n",
            "2               2                       calpine daily gas nomination   \n",
            "3               3                                         re : issue   \n",
            "4               4                          meter 7268 nov allocation   \n",
            "...           ...                                                ...   \n",
            "33711       33711  = ? iso - 8859 - 1 ? q ? good _ news _ c = eda...   \n",
            "33712       33712  all prescript medicines are on special . to be...   \n",
            "33713       33713              the next generation online pharmacy .   \n",
            "33714       33714                     bloow in 5 - 10 times the time   \n",
            "33715       33715                   dear sir , i am interested in it   \n",
            "\n",
            "                                                 Message  Spam/Ham        Date  \n",
            "0                                                    NaN         0  1999-12-10  \n",
            "1      gary , production from the high island larger ...         0  1999-12-13  \n",
            "2                 - calpine daily gas nomination 1 . doc         0  1999-12-14  \n",
            "3      fyi - see note below - already done .\\nstella\\...         0  1999-12-14  \n",
            "4      fyi .\\n- - - - - - - - - - - - - - - - - - - -...         0  1999-12-14  \n",
            "...                                                  ...       ...         ...  \n",
            "33711  hello , welcome to gigapharm onlinne shop .\\np...         1  2005-07-29  \n",
            "33712  i got it earlier than expected and it was wrap...         1  2005-07-29  \n",
            "33713  are you ready to rock on ? let the man in you ...         1  2005-07-30  \n",
            "33714  learn how to last 5 - 10 times longer in\\nbed ...         1  2005-07-30  \n",
            "33715  hi : )\\ndo you need some softwares ? i can giv...         1  2005-07-31  \n",
            "\n",
            "[33716 rows x 5 columns]\n"
          ]
        },
        {
          "name": "stderr",
          "output_type": "stream",
          "text": [
            "C:\\Users\\Esmaeil Khoshnood\\AppData\\Local\\Temp\\ipykernel_10476\\3462420828.py:3: FutureWarning: Downcasting behavior in `replace` is deprecated and will be removed in a future version. To retain the old behavior, explicitly call `result.infer_objects(copy=False)`. To opt-in to the future behavior, set `pd.set_option('future.no_silent_downcasting', True)`\n",
            "  df['Spam/Ham'] = df['Spam/Ham'].replace(['ham', 'spam'], [0, 1])\n"
          ]
        }
      ],
      "source": [
        "# prompt: change the value ham and spam in Spam/Ham column to 0 and 1\n",
        "\n",
        "df['Spam/Ham'] = df['Spam/Ham'].replace(['ham', 'spam'], [0, 1])\n",
        "print(df)\n",
        "\n"
      ]
    },
    {
      "cell_type": "code",
      "execution_count": 3,
      "metadata": {
        "id": "BcySugkEp_Dl"
      },
      "outputs": [
        {
          "name": "stdout",
          "output_type": "stream",
          "text": [
            "                                                 Subject  \\\n",
            "0                           christmas tree farm pictures   \n",
            "1                               vastar resources , inc .   \n",
            "2                           calpine daily gas nomination   \n",
            "3                                             re : issue   \n",
            "4                              meter 7268 nov allocation   \n",
            "...                                                  ...   \n",
            "33711  = ? iso - 8859 - 1 ? q ? good _ news _ c = eda...   \n",
            "33712  all prescript medicines are on special . to be...   \n",
            "33713              the next generation online pharmacy .   \n",
            "33714                     bloow in 5 - 10 times the time   \n",
            "33715                   dear sir , i am interested in it   \n",
            "\n",
            "                                                 Message  Spam/Ham  \n",
            "0                                                    NaN         0  \n",
            "1      gary , production from the high island larger ...         0  \n",
            "2                 - calpine daily gas nomination 1 . doc         0  \n",
            "3      fyi - see note below - already done .\\nstella\\...         0  \n",
            "4      fyi .\\n- - - - - - - - - - - - - - - - - - - -...         0  \n",
            "...                                                  ...       ...  \n",
            "33711  hello , welcome to gigapharm onlinne shop .\\np...         1  \n",
            "33712  i got it earlier than expected and it was wrap...         1  \n",
            "33713  are you ready to rock on ? let the man in you ...         1  \n",
            "33714  learn how to last 5 - 10 times longer in\\nbed ...         1  \n",
            "33715  hi : )\\ndo you need some softwares ? i can giv...         1  \n",
            "\n",
            "[33716 rows x 3 columns]\n"
          ]
        }
      ],
      "source": [
        "# prompt: remove the column ID and Date and show the dataset as a table\n",
        "\n",
        "df = df.drop(['Message ID', 'Date'], axis=1)\n",
        "print(df)\n"
      ]
    },
    {
      "cell_type": "code",
      "execution_count": 4,
      "metadata": {
        "id": "kXaOmJ7Ep_Hn"
      },
      "outputs": [
        {
          "name": "stdout",
          "output_type": "stream",
          "text": [
            "X_train shape: (26972,)\n",
            "X_test shape: (6744,)\n",
            "y_train shape: (26972,)\n",
            "y_test shape: (6744,)\n"
          ]
        }
      ],
      "source": [
        "import pandas as pd\n",
        "from sklearn.model_selection import train_test_split\n",
        "\n",
        "# Split the DataFrame into X (features) and y (target)\n",
        "X = df['Message']  # Features\n",
        "y = df['Spam/Ham']  # Target variable\n",
        "\n",
        "# Split the dataset into training and testing sets\n",
        "x_train, x_test, y_train, y_test = train_test_split(X, y, test_size=0.2, random_state=42)\n",
        "\n",
        "# Display the shapes of the resulting datasets\n",
        "print(f\"X_train shape: {x_train.shape}\")\n",
        "print(f\"X_test shape: {x_test.shape}\")\n",
        "print(f\"y_train shape: {y_train.shape}\")\n",
        "print(f\"y_test shape: {y_test.shape}\")\n"
      ]
    },
    {
      "cell_type": "code",
      "execution_count": 5,
      "metadata": {},
      "outputs": [],
      "source": [
        "def remove_null(datas,labels):\n",
        "    not_null_idx = [i for i,o in enumerate(datas) if o is not None]\n",
        "    return np.array(datas)[not_null_idx],np.array(labels)[not_null_idx]"
      ]
    },
    {
      "cell_type": "code",
      "execution_count": 6,
      "metadata": {},
      "outputs": [],
      "source": [
        "import numpy as np\n",
        "x_train,y_train = remove_null(x_train,y_train)\n",
        "x_test,y_test = remove_null(x_test,y_test)"
      ]
    },
    {
      "cell_type": "markdown",
      "metadata": {},
      "source": [
        "# Preprocessing"
      ]
    },
    {
      "cell_type": "markdown",
      "metadata": {},
      "source": [
        "## Process sentence"
      ]
    },
    {
      "cell_type": "code",
      "execution_count": 7,
      "metadata": {},
      "outputs": [],
      "source": [
        "import re\n",
        "import string\n",
        "from nltk.tokenize import word_tokenize"
      ]
    },
    {
      "cell_type": "code",
      "execution_count": 8,
      "metadata": {},
      "outputs": [],
      "source": [
        "def remove_hyperlink(word):\n",
        "    return  re.sub(r\"http\\S+\", \"\", word)"
      ]
    },
    {
      "cell_type": "code",
      "execution_count": 9,
      "metadata": {},
      "outputs": [],
      "source": [
        "def to_lower(word):\n",
        "    result = word.lower()\n",
        "    return result"
      ]
    },
    {
      "cell_type": "code",
      "execution_count": 10,
      "metadata": {},
      "outputs": [],
      "source": [
        "def remove_number(word):\n",
        "    result = re.sub(r'\\d+', '', word)\n",
        "    return result"
      ]
    },
    {
      "cell_type": "code",
      "execution_count": 11,
      "metadata": {},
      "outputs": [],
      "source": [
        "def remove_punctuation(word):\n",
        "    result = word.translate(str.maketrans(dict.fromkeys(string.punctuation)))\n",
        "    return result"
      ]
    },
    {
      "cell_type": "code",
      "execution_count": 12,
      "metadata": {},
      "outputs": [],
      "source": [
        "def remove_whitespace(word):\n",
        "    result = word.strip()\n",
        "    return result"
      ]
    },
    {
      "cell_type": "code",
      "execution_count": 13,
      "metadata": {},
      "outputs": [],
      "source": [
        "def replace_newline(word):\n",
        "    return word.replace('\\n','')"
      ]
    },
    {
      "cell_type": "code",
      "execution_count": 14,
      "metadata": {},
      "outputs": [],
      "source": [
        "def clean_up_pipeline(sentence):\n",
        "    if not isinstance(sentence, str):\n",
        "        return sentence  # Return the sentence unchanged if it is not a string\n",
        "    cleaning_utils = [remove_hyperlink,\n",
        "                      replace_newline,\n",
        "                      to_lower,\n",
        "                      remove_number,\n",
        "                      remove_punctuation,\n",
        "                      remove_whitespace]\n",
        "    for o in cleaning_utils:\n",
        "        sentence = o(sentence)\n",
        "    return sentence"
      ]
    },
    {
      "cell_type": "code",
      "execution_count": 15,
      "metadata": {},
      "outputs": [],
      "source": [
        "x_train = [clean_up_pipeline(o) for o in x_train]\n",
        "x_test = [clean_up_pipeline(o) for o in x_test]"
      ]
    },
    {
      "cell_type": "markdown",
      "metadata": {},
      "source": [
        "## Process word by word"
      ]
    },
    {
      "cell_type": "code",
      "execution_count": 16,
      "metadata": {},
      "outputs": [],
      "source": [
        "from nltk.tokenize import word_tokenize\n",
        "from sklearn.feature_extraction.text import ENGLISH_STOP_WORDS as sklearn_stop_words\n",
        "from nltk.stem import PorterStemmer\n",
        "from nltk.stem import WordNetLemmatizer"
      ]
    },
    {
      "cell_type": "code",
      "execution_count": 17,
      "metadata": {},
      "outputs": [],
      "source": [
        "stemmer = PorterStemmer()\n",
        "lemmatizer = WordNetLemmatizer()"
      ]
    },
    {
      "cell_type": "code",
      "execution_count": 18,
      "metadata": {},
      "outputs": [],
      "source": [
        "from nltk.tokenize import word_tokenize as nltk_word_tokenize\n",
        "\n",
        "def word_tokenize(sentence):\n",
        "    if not isinstance(sentence, str):\n",
        "        return []  # Return an empty list if the input is not a string\n",
        "    return nltk_word_tokenize(sentence)\n",
        "\n",
        "x_train = [word_tokenize(o) for o in x_train]\n",
        "x_test = [word_tokenize(o) for o in x_test]\n"
      ]
    },
    {
      "cell_type": "code",
      "execution_count": 19,
      "metadata": {},
      "outputs": [],
      "source": [
        "def remove_stop_words(words):\n",
        "    result = [i for i in words if i not in sklearn_stop_words]\n",
        "    return result"
      ]
    },
    {
      "cell_type": "code",
      "execution_count": 20,
      "metadata": {},
      "outputs": [],
      "source": [
        "def word_stemmer(words):\n",
        "    return [stemmer.stem(o) for o in words]"
      ]
    },
    {
      "cell_type": "code",
      "execution_count": 21,
      "metadata": {},
      "outputs": [],
      "source": [
        "def word_lemmatizer(words):\n",
        "    return [lemmatizer.lemmatize(o) for o in words]"
      ]
    },
    {
      "cell_type": "code",
      "execution_count": 22,
      "metadata": {},
      "outputs": [],
      "source": [
        "def clean_token_pipeline(words):\n",
        "    cleaning_utils = [remove_stop_words,word_stemmer,word_lemmatizer]\n",
        "    for o in cleaning_utils:\n",
        "        words = o(words)\n",
        "    return words"
      ]
    },
    {
      "cell_type": "code",
      "execution_count": 23,
      "metadata": {},
      "outputs": [],
      "source": [
        "x_train = [clean_token_pipeline(o) for o in x_train]\n",
        "x_test = [clean_token_pipeline(o) for o in x_test]"
      ]
    },
    {
      "cell_type": "code",
      "execution_count": 25,
      "metadata": {},
      "outputs": [
        {
          "name": "stdout",
          "output_type": "stream",
          "text": [
            "Requirement already satisfied: gensim in c:\\users\\user\\appdata\\local\\programs\\python\\python311\\lib\\site-packages (4.3.2)\n",
            "Requirement already satisfied: numpy>=1.18.5 in c:\\users\\user\\appdata\\local\\programs\\python\\python311\\lib\\site-packages (from gensim) (1.23.5)\n",
            "Requirement already satisfied: scipy>=1.7.0 in c:\\users\\user\\appdata\\local\\programs\\python\\python311\\lib\\site-packages (from gensim) (1.11.3)\n",
            "Requirement already satisfied: smart-open>=1.8.1 in c:\\users\\user\\appdata\\local\\programs\\python\\python311\\lib\\site-packages (from gensim) (7.0.4)\n",
            "Requirement already satisfied: wrapt in c:\\users\\user\\appdata\\local\\programs\\python\\python311\\lib\\site-packages (from smart-open>=1.8.1->gensim) (1.14.1)\n"
          ]
        },
        {
          "name": "stderr",
          "output_type": "stream",
          "text": [
            "\n",
            "[notice] A new release of pip is available: 24.1.2 -> 24.2\n",
            "[notice] To update, run: python.exe -m pip install --upgrade pip\n"
          ]
        }
      ],
      "source": [
        "! pip install gensim\n"
      ]
    },
    {
      "cell_type": "markdown",
      "metadata": {},
      "source": [
        "# Neural Network w Embedding From Scratch\n"
      ]
    },
    {
      "cell_type": "code",
      "execution_count": 24,
      "metadata": {},
      "outputs": [],
      "source": [
        "import matplotlib.pyplot as plt\n",
        "from tensorflow.keras.preprocessing.text import Tokenizer\n",
        "from tensorflow.keras.utils import pad_sequences\n",
        "from tensorflow.keras.layers import Dense, Input, LSTM, Embedding, Dropout, Activation, Conv1D, GRU\n",
        "from tensorflow.keras.layers import Bidirectional, GlobalMaxPool1D\n",
        "from tensorflow.keras.models import Model\n",
        "from tensorflow.keras import initializers, regularizers, constraints, optimizers, layers\n"
      ]
    },
    {
      "cell_type": "code",
      "execution_count": 25,
      "metadata": {},
      "outputs": [],
      "source": [
        "## some config values \n",
        "embed_size = 100 # how big is each word vector\n",
        "max_feature = 50000 # how many unique words to use (i.e num rows in embedding vector)\n",
        "max_len = 2000 # max number of words in a question to use"
      ]
    },
    {
      "cell_type": "code",
      "execution_count": 26,
      "metadata": {},
      "outputs": [],
      "source": [
        "tokenizer = Tokenizer(num_words=max_feature)"
      ]
    },
    {
      "cell_type": "code",
      "execution_count": 27,
      "metadata": {},
      "outputs": [],
      "source": [
        "tokenizer.fit_on_texts(x_train)"
      ]
    },
    {
      "cell_type": "code",
      "execution_count": 29,
      "metadata": {},
      "outputs": [],
      "source": [
        "from tensorflow.keras.preprocessing.sequence import pad_sequences\n",
        "\n",
        "import numpy as np\n",
        "\n",
        "\n",
        "\n",
        "# Tokenizing the text data\n",
        "\n",
        "tokenizer = Tokenizer(num_words=max_feature)\n",
        "\n",
        "tokenizer.fit_on_texts(x_train)\n",
        "\n",
        "\n",
        "\n",
        "# Convert text to sequences\n",
        "\n",
        "x_train_sequences = tokenizer.texts_to_sequences(x_train)\n",
        "\n",
        "x_test_sequences = tokenizer.texts_to_sequences(x_test)\n",
        "\n",
        "\n",
        "\n",
        "# Pad the sequences to ensure uniform input size\n",
        "\n",
        "x_train_features = pad_sequences(x_train_sequences, maxlen=max_len)\n",
        "\n",
        "x_test_features = pad_sequences(x_test_sequences, maxlen=max_len)\n",
        "\n",
        "\n",
        "\n",
        "# Now x_train_features and x_test_features can be used as input to a neural network\n",
        "\n"
      ]
    },
    {
      "cell_type": "code",
      "execution_count": 30,
      "metadata": {},
      "outputs": [],
      "source": [
        "x_train_features = pad_sequences(x_train_features,maxlen=max_len)\n",
        "x_test_features = pad_sequences(x_test_features,maxlen=max_len)"
      ]
    },
    {
      "cell_type": "code",
      "execution_count": 31,
      "metadata": {},
      "outputs": [
        {
          "data": {
            "text/html": [
              "<pre style=\"white-space:pre;overflow-x:auto;line-height:normal;font-family:Menlo,'DejaVu Sans Mono',consolas,'Courier New',monospace\"><span style=\"font-weight: bold\">Model: \"functional\"</span>\n",
              "</pre>\n"
            ],
            "text/plain": [
              "\u001b[1mModel: \"functional\"\u001b[0m\n"
            ]
          },
          "metadata": {},
          "output_type": "display_data"
        },
        {
          "data": {
            "text/html": [
              "<pre style=\"white-space:pre;overflow-x:auto;line-height:normal;font-family:Menlo,'DejaVu Sans Mono',consolas,'Courier New',monospace\">┏━━━━━━━━━━━━━━━━━━━━━━━━━━━━━━━━━┳━━━━━━━━━━━━━━━━━━━━━━━━┳━━━━━━━━━━━━━━━┓\n",
              "┃<span style=\"font-weight: bold\"> Layer (type)                    </span>┃<span style=\"font-weight: bold\"> Output Shape           </span>┃<span style=\"font-weight: bold\">       Param # </span>┃\n",
              "┡━━━━━━━━━━━━━━━━━━━━━━━━━━━━━━━━━╇━━━━━━━━━━━━━━━━━━━━━━━━╇━━━━━━━━━━━━━━━┩\n",
              "│ input_layer (<span style=\"color: #0087ff; text-decoration-color: #0087ff\">InputLayer</span>)        │ (<span style=\"color: #00d7ff; text-decoration-color: #00d7ff\">None</span>, <span style=\"color: #00af00; text-decoration-color: #00af00\">2000</span>)           │             <span style=\"color: #00af00; text-decoration-color: #00af00\">0</span> │\n",
              "├─────────────────────────────────┼────────────────────────┼───────────────┤\n",
              "│ embedding (<span style=\"color: #0087ff; text-decoration-color: #0087ff\">Embedding</span>)           │ (<span style=\"color: #00d7ff; text-decoration-color: #00d7ff\">None</span>, <span style=\"color: #00af00; text-decoration-color: #00af00\">2000</span>, <span style=\"color: #00af00; text-decoration-color: #00af00\">100</span>)      │     <span style=\"color: #00af00; text-decoration-color: #00af00\">5,000,000</span> │\n",
              "├─────────────────────────────────┼────────────────────────┼───────────────┤\n",
              "│ bidirectional (<span style=\"color: #0087ff; text-decoration-color: #0087ff\">Bidirectional</span>)   │ (<span style=\"color: #00d7ff; text-decoration-color: #00d7ff\">None</span>, <span style=\"color: #00af00; text-decoration-color: #00af00\">2000</span>, <span style=\"color: #00af00; text-decoration-color: #00af00\">128</span>)      │        <span style=\"color: #00af00; text-decoration-color: #00af00\">63,744</span> │\n",
              "├─────────────────────────────────┼────────────────────────┼───────────────┤\n",
              "│ global_max_pooling1d            │ (<span style=\"color: #00d7ff; text-decoration-color: #00d7ff\">None</span>, <span style=\"color: #00af00; text-decoration-color: #00af00\">128</span>)            │             <span style=\"color: #00af00; text-decoration-color: #00af00\">0</span> │\n",
              "│ (<span style=\"color: #0087ff; text-decoration-color: #0087ff\">GlobalMaxPooling1D</span>)            │                        │               │\n",
              "├─────────────────────────────────┼────────────────────────┼───────────────┤\n",
              "│ dense (<span style=\"color: #0087ff; text-decoration-color: #0087ff\">Dense</span>)                   │ (<span style=\"color: #00d7ff; text-decoration-color: #00d7ff\">None</span>, <span style=\"color: #00af00; text-decoration-color: #00af00\">16</span>)             │         <span style=\"color: #00af00; text-decoration-color: #00af00\">2,064</span> │\n",
              "├─────────────────────────────────┼────────────────────────┼───────────────┤\n",
              "│ dropout (<span style=\"color: #0087ff; text-decoration-color: #0087ff\">Dropout</span>)               │ (<span style=\"color: #00d7ff; text-decoration-color: #00d7ff\">None</span>, <span style=\"color: #00af00; text-decoration-color: #00af00\">16</span>)             │             <span style=\"color: #00af00; text-decoration-color: #00af00\">0</span> │\n",
              "├─────────────────────────────────┼────────────────────────┼───────────────┤\n",
              "│ dense_1 (<span style=\"color: #0087ff; text-decoration-color: #0087ff\">Dense</span>)                 │ (<span style=\"color: #00d7ff; text-decoration-color: #00d7ff\">None</span>, <span style=\"color: #00af00; text-decoration-color: #00af00\">1</span>)              │            <span style=\"color: #00af00; text-decoration-color: #00af00\">17</span> │\n",
              "└─────────────────────────────────┴────────────────────────┴───────────────┘\n",
              "</pre>\n"
            ],
            "text/plain": [
              "┏━━━━━━━━━━━━━━━━━━━━━━━━━━━━━━━━━┳━━━━━━━━━━━━━━━━━━━━━━━━┳━━━━━━━━━━━━━━━┓\n",
              "┃\u001b[1m \u001b[0m\u001b[1mLayer (type)                   \u001b[0m\u001b[1m \u001b[0m┃\u001b[1m \u001b[0m\u001b[1mOutput Shape          \u001b[0m\u001b[1m \u001b[0m┃\u001b[1m \u001b[0m\u001b[1m      Param #\u001b[0m\u001b[1m \u001b[0m┃\n",
              "┡━━━━━━━━━━━━━━━━━━━━━━━━━━━━━━━━━╇━━━━━━━━━━━━━━━━━━━━━━━━╇━━━━━━━━━━━━━━━┩\n",
              "│ input_layer (\u001b[38;5;33mInputLayer\u001b[0m)        │ (\u001b[38;5;45mNone\u001b[0m, \u001b[38;5;34m2000\u001b[0m)           │             \u001b[38;5;34m0\u001b[0m │\n",
              "├─────────────────────────────────┼────────────────────────┼───────────────┤\n",
              "│ embedding (\u001b[38;5;33mEmbedding\u001b[0m)           │ (\u001b[38;5;45mNone\u001b[0m, \u001b[38;5;34m2000\u001b[0m, \u001b[38;5;34m100\u001b[0m)      │     \u001b[38;5;34m5,000,000\u001b[0m │\n",
              "├─────────────────────────────────┼────────────────────────┼───────────────┤\n",
              "│ bidirectional (\u001b[38;5;33mBidirectional\u001b[0m)   │ (\u001b[38;5;45mNone\u001b[0m, \u001b[38;5;34m2000\u001b[0m, \u001b[38;5;34m128\u001b[0m)      │        \u001b[38;5;34m63,744\u001b[0m │\n",
              "├─────────────────────────────────┼────────────────────────┼───────────────┤\n",
              "│ global_max_pooling1d            │ (\u001b[38;5;45mNone\u001b[0m, \u001b[38;5;34m128\u001b[0m)            │             \u001b[38;5;34m0\u001b[0m │\n",
              "│ (\u001b[38;5;33mGlobalMaxPooling1D\u001b[0m)            │                        │               │\n",
              "├─────────────────────────────────┼────────────────────────┼───────────────┤\n",
              "│ dense (\u001b[38;5;33mDense\u001b[0m)                   │ (\u001b[38;5;45mNone\u001b[0m, \u001b[38;5;34m16\u001b[0m)             │         \u001b[38;5;34m2,064\u001b[0m │\n",
              "├─────────────────────────────────┼────────────────────────┼───────────────┤\n",
              "│ dropout (\u001b[38;5;33mDropout\u001b[0m)               │ (\u001b[38;5;45mNone\u001b[0m, \u001b[38;5;34m16\u001b[0m)             │             \u001b[38;5;34m0\u001b[0m │\n",
              "├─────────────────────────────────┼────────────────────────┼───────────────┤\n",
              "│ dense_1 (\u001b[38;5;33mDense\u001b[0m)                 │ (\u001b[38;5;45mNone\u001b[0m, \u001b[38;5;34m1\u001b[0m)              │            \u001b[38;5;34m17\u001b[0m │\n",
              "└─────────────────────────────────┴────────────────────────┴───────────────┘\n"
            ]
          },
          "metadata": {},
          "output_type": "display_data"
        },
        {
          "data": {
            "text/html": [
              "<pre style=\"white-space:pre;overflow-x:auto;line-height:normal;font-family:Menlo,'DejaVu Sans Mono',consolas,'Courier New',monospace\"><span style=\"font-weight: bold\"> Total params: </span><span style=\"color: #00af00; text-decoration-color: #00af00\">5,065,825</span> (19.32 MB)\n",
              "</pre>\n"
            ],
            "text/plain": [
              "\u001b[1m Total params: \u001b[0m\u001b[38;5;34m5,065,825\u001b[0m (19.32 MB)\n"
            ]
          },
          "metadata": {},
          "output_type": "display_data"
        },
        {
          "data": {
            "text/html": [
              "<pre style=\"white-space:pre;overflow-x:auto;line-height:normal;font-family:Menlo,'DejaVu Sans Mono',consolas,'Courier New',monospace\"><span style=\"font-weight: bold\"> Trainable params: </span><span style=\"color: #00af00; text-decoration-color: #00af00\">5,065,825</span> (19.32 MB)\n",
              "</pre>\n"
            ],
            "text/plain": [
              "\u001b[1m Trainable params: \u001b[0m\u001b[38;5;34m5,065,825\u001b[0m (19.32 MB)\n"
            ]
          },
          "metadata": {},
          "output_type": "display_data"
        },
        {
          "data": {
            "text/html": [
              "<pre style=\"white-space:pre;overflow-x:auto;line-height:normal;font-family:Menlo,'DejaVu Sans Mono',consolas,'Courier New',monospace\"><span style=\"font-weight: bold\"> Non-trainable params: </span><span style=\"color: #00af00; text-decoration-color: #00af00\">0</span> (0.00 B)\n",
              "</pre>\n"
            ],
            "text/plain": [
              "\u001b[1m Non-trainable params: \u001b[0m\u001b[38;5;34m0\u001b[0m (0.00 B)\n"
            ]
          },
          "metadata": {},
          "output_type": "display_data"
        },
        {
          "name": "stdout",
          "output_type": "stream",
          "text": [
            "None\n"
          ]
        }
      ],
      "source": [
        "embed_size = 100\n",
        "\n",
        "inp = Input(shape=(max_len,))\n",
        "x = Embedding(max_feature, embed_size)(inp)\n",
        "x = Bidirectional(GRU(64, return_sequences=True))(x)\n",
        "x = GlobalMaxPool1D()(x)\n",
        "x = Dense(16, activation=\"relu\")(x)\n",
        "x = Dropout(0.1)(x)\n",
        "x = Dense(1, activation=\"sigmoid\")(x)\n",
        "model = Model(inputs=inp, outputs=x)\n",
        "model.compile(loss='binary_crossentropy', optimizer='adam', metrics=['accuracy'])\n",
        "\n",
        "print(model.summary())"
      ]
    },
    {
      "cell_type": "code",
      "execution_count": 32,
      "metadata": {},
      "outputs": [
        {
          "name": "stdout",
          "output_type": "stream",
          "text": [
            "Epoch 1/20\n",
            "\u001b[1m53/53\u001b[0m \u001b[32m━━━━━━━━━━━━━━━━━━━━\u001b[0m\u001b[37m\u001b[0m \u001b[1m583s\u001b[0m 11s/step - accuracy: 0.7790 - loss: 0.5579 - val_accuracy: 0.9650 - val_loss: 0.0840\n",
            "Epoch 2/20\n",
            "\u001b[1m53/53\u001b[0m \u001b[32m━━━━━━━━━━━━━━━━━━━━\u001b[0m\u001b[37m\u001b[0m \u001b[1m564s\u001b[0m 11s/step - accuracy: 0.9817 - loss: 0.0631 - val_accuracy: 0.9831 - val_loss: 0.0486\n",
            "Epoch 3/20\n",
            "\u001b[1m53/53\u001b[0m \u001b[32m━━━━━━━━━━━━━━━━━━━━\u001b[0m\u001b[37m\u001b[0m \u001b[1m560s\u001b[0m 11s/step - accuracy: 0.9927 - loss: 0.0284 - val_accuracy: 0.9849 - val_loss: 0.0428\n",
            "Epoch 4/20\n",
            "\u001b[1m53/53\u001b[0m \u001b[32m━━━━━━━━━━━━━━━━━━━━\u001b[0m\u001b[37m\u001b[0m \u001b[1m562s\u001b[0m 11s/step - accuracy: 0.9951 - loss: 0.0180 - val_accuracy: 0.9858 - val_loss: 0.0417\n",
            "Epoch 5/20\n",
            "\u001b[1m53/53\u001b[0m \u001b[32m━━━━━━━━━━━━━━━━━━━━\u001b[0m\u001b[37m\u001b[0m \u001b[1m544s\u001b[0m 10s/step - accuracy: 0.9960 - loss: 0.0145 - val_accuracy: 0.9859 - val_loss: 0.0428\n",
            "Epoch 6/20\n",
            "\u001b[1m53/53\u001b[0m \u001b[32m━━━━━━━━━━━━━━━━━━━━\u001b[0m\u001b[37m\u001b[0m \u001b[1m546s\u001b[0m 10s/step - accuracy: 0.9976 - loss: 0.0097 - val_accuracy: 0.9861 - val_loss: 0.0459\n",
            "Epoch 7/20\n",
            "\u001b[1m53/53\u001b[0m \u001b[32m━━━━━━━━━━━━━━━━━━━━\u001b[0m\u001b[37m\u001b[0m \u001b[1m553s\u001b[0m 10s/step - accuracy: 0.9970 - loss: 0.0106 - val_accuracy: 0.9849 - val_loss: 0.0567\n",
            "Epoch 8/20\n",
            "\u001b[1m53/53\u001b[0m \u001b[32m━━━━━━━━━━━━━━━━━━━━\u001b[0m\u001b[37m\u001b[0m \u001b[1m547s\u001b[0m 10s/step - accuracy: 0.9975 - loss: 0.0082 - val_accuracy: 0.9861 - val_loss: 0.0507\n",
            "Epoch 9/20\n",
            "\u001b[1m53/53\u001b[0m \u001b[32m━━━━━━━━━━━━━━━━━━━━\u001b[0m\u001b[37m\u001b[0m \u001b[1m545s\u001b[0m 10s/step - accuracy: 0.9972 - loss: 0.0088 - val_accuracy: 0.9862 - val_loss: 0.0505\n",
            "Epoch 10/20\n",
            "\u001b[1m53/53\u001b[0m \u001b[32m━━━━━━━━━━━━━━━━━━━━\u001b[0m\u001b[37m\u001b[0m \u001b[1m559s\u001b[0m 11s/step - accuracy: 0.9980 - loss: 0.0068 - val_accuracy: 0.9858 - val_loss: 0.0522\n",
            "Epoch 11/20\n",
            "\u001b[1m53/53\u001b[0m \u001b[32m━━━━━━━━━━━━━━━━━━━━\u001b[0m\u001b[37m\u001b[0m \u001b[1m561s\u001b[0m 11s/step - accuracy: 0.9980 - loss: 0.0066 - val_accuracy: 0.9859 - val_loss: 0.0541\n",
            "Epoch 12/20\n",
            "\u001b[1m53/53\u001b[0m \u001b[32m━━━━━━━━━━━━━━━━━━━━\u001b[0m\u001b[37m\u001b[0m \u001b[1m558s\u001b[0m 11s/step - accuracy: 0.9984 - loss: 0.0056 - val_accuracy: 0.9861 - val_loss: 0.0584\n",
            "Epoch 13/20\n",
            "\u001b[1m53/53\u001b[0m \u001b[32m━━━━━━━━━━━━━━━━━━━━\u001b[0m\u001b[37m\u001b[0m \u001b[1m552s\u001b[0m 10s/step - accuracy: 0.9980 - loss: 0.0061 - val_accuracy: 0.9861 - val_loss: 0.0566\n",
            "Epoch 14/20\n",
            "\u001b[1m53/53\u001b[0m \u001b[32m━━━━━━━━━━━━━━━━━━━━\u001b[0m\u001b[37m\u001b[0m \u001b[1m559s\u001b[0m 11s/step - accuracy: 0.9976 - loss: 0.0070 - val_accuracy: 0.9859 - val_loss: 0.0535\n",
            "Epoch 15/20\n",
            "\u001b[1m53/53\u001b[0m \u001b[32m━━━━━━━━━━━━━━━━━━━━\u001b[0m\u001b[37m\u001b[0m \u001b[1m554s\u001b[0m 10s/step - accuracy: 0.9977 - loss: 0.0077 - val_accuracy: 0.9868 - val_loss: 0.0490\n",
            "Epoch 16/20\n",
            "\u001b[1m53/53\u001b[0m \u001b[32m━━━━━━━━━━━━━━━━━━━━\u001b[0m\u001b[37m\u001b[0m \u001b[1m560s\u001b[0m 11s/step - accuracy: 0.9980 - loss: 0.0057 - val_accuracy: 0.9871 - val_loss: 0.0522\n",
            "Epoch 17/20\n",
            "\u001b[1m53/53\u001b[0m \u001b[32m━━━━━━━━━━━━━━━━━━━━\u001b[0m\u001b[37m\u001b[0m \u001b[1m554s\u001b[0m 10s/step - accuracy: 0.9980 - loss: 0.0058 - val_accuracy: 0.9870 - val_loss: 0.0528\n",
            "Epoch 18/20\n",
            "\u001b[1m53/53\u001b[0m \u001b[32m━━━━━━━━━━━━━━━━━━━━\u001b[0m\u001b[37m\u001b[0m \u001b[1m565s\u001b[0m 11s/step - accuracy: 0.9983 - loss: 0.0053 - val_accuracy: 0.9872 - val_loss: 0.0557\n",
            "Epoch 19/20\n",
            "\u001b[1m53/53\u001b[0m \u001b[32m━━━━━━━━━━━━━━━━━━━━\u001b[0m\u001b[37m\u001b[0m \u001b[1m562s\u001b[0m 11s/step - accuracy: 0.9977 - loss: 0.0066 - val_accuracy: 0.9870 - val_loss: 0.0589\n",
            "Epoch 20/20\n",
            "\u001b[1m53/53\u001b[0m \u001b[32m━━━━━━━━━━━━━━━━━━━━\u001b[0m\u001b[37m\u001b[0m \u001b[1m550s\u001b[0m 10s/step - accuracy: 0.9977 - loss: 0.0063 - val_accuracy: 0.9864 - val_loss: 0.0594\n"
          ]
        }
      ],
      "source": [
        "history = model.fit(x_train_features, y_train, batch_size=512, epochs=20, validation_data=(x_test_features, y_test))"
      ]
    },
    {
      "cell_type": "markdown",
      "metadata": {},
      "source": [
        "## Evaluation\n"
      ]
    },
    {
      "cell_type": "code",
      "execution_count": 45,
      "metadata": {},
      "outputs": [],
      "source": [
        "from sklearn.metrics import confusion_matrix, precision_score, recall_score, f1_score, accuracy_score"
      ]
    },
    {
      "cell_type": "code",
      "execution_count": 46,
      "metadata": {},
      "outputs": [
        {
          "name": "stdout",
          "output_type": "stream",
          "text": [
            "211/211 [==============================] - 2s 7ms/step\n"
          ]
        }
      ],
      "source": [
        "y_predict  = [1 if o>0.5 else 0 for o in model.predict(x_test_features)]"
      ]
    },
    {
      "cell_type": "code",
      "execution_count": 47,
      "metadata": {},
      "outputs": [
        {
          "name": "stdout",
          "output_type": "stream",
          "text": [
            "Precision: 98.41%\n",
            "Recall: 97.90%\n",
            "Accuracy: 98.10%\n",
            "F1 Score: 98.15\n"
          ]
        }
      ],
      "source": [
        "from sklearn.metrics import confusion_matrix, precision_score, recall_score, f1_score, accuracy_score\n",
        "\n",
        "tn, fp, fn, tp = confusion_matrix(y_test, y_predict).ravel()\n",
        "\n",
        "print(\"Precision: {:.2f}%\".format(100 * precision_score(y_test, y_predict)))\n",
        "print(\"Recall: {:.2f}%\".format(100 * recall_score(y_test, y_predict)))\n",
        "print(\"Accuracy: {:.2f}%\".format(100 * accuracy_score(y_test, y_predict)))\n",
        "print(\"F1 Score: {:.2f}\".format(100 * f1_score(y_test, y_predict)))\n"
      ]
    },
    {
      "cell_type": "markdown",
      "metadata": {},
      "source": [
        "## Error Analysis\n",
        "\n",
        "### Plot confusion matrix"
      ]
    },
    {
      "cell_type": "code",
      "execution_count": 48,
      "metadata": {},
      "outputs": [],
      "source": [
        "import matplotlib.pyplot as plt\n",
        "from sklearn.metrics import confusion_matrix\n",
        "import itertools\n",
        "\n",
        "cnf_matrix = confusion_matrix(y_test,y_predict)\n",
        "\n",
        "def plot_confusion_matrix(cm, classes,\n",
        "                          normalize=False,\n",
        "                          title='Confusion matrix',\n",
        "                          cmap=plt.cm.Blues):\n",
        "    \"\"\"\n",
        "    This function prints and plots the confusion matrix.\n",
        "    Normalization can be applied by setting `normalize=True`.\n",
        "    \"\"\"\n",
        "    if normalize:\n",
        "        cm = cm.astype('float') / cm.sum(axis=1)[:, np.newaxis]\n",
        "        print(\"Normalized confusion matrix\")\n",
        "    else:\n",
        "        print('Confusion matrix, without normalization')\n",
        "\n",
        "    print(cm)\n",
        "\n",
        "    plt.imshow(cm, interpolation='nearest', cmap=cmap)\n",
        "    plt.title(title)\n",
        "    plt.colorbar()\n",
        "    tick_marks = np.arange(len(classes))\n",
        "    plt.xticks(tick_marks, classes, rotation=45)\n",
        "    plt.yticks(tick_marks, classes)\n",
        "\n",
        "    fmt = '.2f' if normalize else 'd'\n",
        "    thresh = cm.max() / 2.\n",
        "    for i, j in itertools.product(range(cm.shape[0]), range(cm.shape[1])):\n",
        "        plt.text(j, i, format(cm[i, j], fmt),\n",
        "                 horizontalalignment=\"center\",\n",
        "                 color=\"white\" if cm[i, j] > thresh else \"black\")\n",
        "\n",
        "    plt.ylabel('True label')\n",
        "    plt.xlabel('Predicted label')\n",
        "    plt.tight_layout()"
      ]
    },
    {
      "cell_type": "markdown",
      "metadata": {},
      "source": [
        "# Plot normalized confusion matrix"
      ]
    },
    {
      "cell_type": "code",
      "execution_count": 49,
      "metadata": {},
      "outputs": [
        {
          "name": "stdout",
          "output_type": "stream",
          "text": [
            "Confusion matrix, without normalization\n",
            "[[3221   55]\n",
            " [  73 3395]]\n"
          ]
        },
        {
          "data": {
            "image/png": "[encoded data removed]",
            "text/plain": [
              "<Figure size 640x480 with 2 Axes>"
            ]
          },
          "metadata": {},
          "output_type": "display_data"
        }
      ],
      "source": [
        "plt.figure()\n",
        "plot_confusion_matrix(cnf_matrix, classes=['Non Spam','Spam'], normalize=False,\n",
        "                      title='Confusion matrix')"
      ]
    },
    {
      "cell_type": "markdown",
      "metadata": {},
      "source": [
        "# Play around with GloVe Word2vector"
      ]
    },
    {
      "cell_type": "code",
      "execution_count": 24,
      "metadata": {},
      "outputs": [
        {
          "name": "stderr",
          "output_type": "stream",
          "text": [
            "C:\\Users\\user\\AppData\\Local\\Temp\\ipykernel_14776\\1774074038.py:7: DeprecationWarning: Call to deprecated `glove2word2vec` (KeyedVectors.load_word2vec_format(.., binary=False, no_header=True) loads GLoVE text vectors.).\n",
            "  glove2word2vec(glove_input_file, word2vec_output_file)\n"
          ]
        },
        {
          "name": "stdout",
          "output_type": "stream",
          "text": [
            "[-0.20297    0.010222   0.063166  -0.23259    0.063991   0.13313\n",
            " -0.12547   -0.12964   -0.2553    -1.7295     0.091936   0.021622\n",
            " -0.31398    0.011587   0.2258    -0.15155   -0.081282  -0.22776\n",
            "  0.0030483 -0.2752     0.010934   0.05136    0.22624    0.43196\n",
            "  0.012415  -0.25724   -0.093916  -0.10665   -0.071235  -0.10342\n",
            " -0.098095   0.48373   -0.67475   -0.10943   -0.50882   -0.05844\n",
            "  0.15398   -0.17816   -0.39477    0.066937   0.041519  -0.085288\n",
            " -0.21029    0.2462    -0.37551   -0.22549   -0.082648   0.37232\n",
            " -0.14809    0.0786     0.11278   -0.10294    0.37601    0.15898\n",
            " -0.17571   -0.063246  -0.08103   -0.10676    0.094943   0.28391\n",
            "  0.35478    0.10635    0.51442   -0.10787   -0.14091   -0.087904\n",
            " -0.15251    0.1862     0.14508    0.28751   -0.36265   -0.054447\n",
            "  0.083526   0.015638  -0.38204   -0.10227   -0.022685   0.24539\n",
            " -0.14744   -0.13984   -0.29816   -0.079155  -0.042634  -0.20823\n",
            "  0.32099    0.11908   -0.10361    0.36009   -0.097773  -0.095832\n",
            " -0.22441    0.40845   -0.24683    0.004935   0.26121   -0.30236\n",
            " -0.055492  -0.060934   0.32264   -0.32745   -0.049976   0.17791\n",
            "  0.18079   -0.019663  -0.13955   -0.045405  -0.097046   0.1756\n",
            " -0.076284   0.18398    0.22837   -0.16035    0.12625    0.24772\n",
            "  0.1628     0.049716   0.17262    0.23504   -0.44126   -0.013569\n",
            "  0.13762    0.096705   0.17      -0.075387   0.005149   0.11469\n",
            " -0.042954   0.33368    0.02252   -0.032179   0.0066799  0.23217\n",
            "  0.009376   0.043549  -0.13701   -0.18404   -0.14659   -0.14246\n",
            " -0.012047   0.30807   -0.021983   0.035699  -0.16054   -0.031032\n",
            "  0.010459  -0.26445    0.12911    0.11047    0.098834   0.18523\n",
            "  0.021405  -0.29562    0.19779   -0.43833    0.095736   0.0025402\n",
            "  0.019167   0.3281     0.1569    -0.15273    0.25866    0.045144\n",
            " -0.011598   0.025048  -0.050747   0.3272    -0.10882    0.051519\n",
            "  0.12533    0.17068    0.18793   -0.14652   -0.58708    0.51169\n",
            "  0.011755  -0.19662   -0.10641   -0.099865  -0.16226   -0.020669\n",
            " -0.15008   -0.051639  -0.056518  -0.17516   -0.0032804 -0.24018\n",
            " -0.31748    0.12491    0.11242    0.15702   -0.11319    0.24022\n",
            "  0.44465    0.24607   -0.14982   -0.13391    0.038901  -0.24031\n",
            " -0.34008   -0.35809    0.4656    -0.18441    0.15712   -0.15752\n",
            "  0.15639    0.19543   -0.19702    0.19786   -0.095468   0.0629\n",
            " -0.093645  -0.039319   0.31595   -0.40324   -0.086324   0.2483\n",
            "  0.011525   0.019539  -0.1726    -0.16493   -0.17982    0.3295\n",
            "  0.018484   0.046018   0.05142   -0.015903   0.15328    0.11484\n",
            " -0.051323  -0.019173  -0.3888     0.30587   -0.077293   0.18696\n",
            "  0.0045978  0.22228    0.11091    0.021999  -0.13843    0.02481\n",
            " -0.29732   -0.01645    0.1462    -0.030213  -0.64828    0.002871\n",
            " -0.078324  -0.22465   -0.10246    0.065213   0.028865   0.16099\n",
            " -0.25852   -0.19846    0.095005   0.14001   -0.19232    0.058352\n",
            "  0.019701  -0.18324   -0.054571   0.0021274  0.13715   -0.18022\n",
            "  0.095572  -0.13542   -0.22389    0.14396    0.36295    0.17062\n",
            "  0.21415    0.049573   0.017449  -0.088432  -0.2731     0.14752\n",
            " -1.8151    -0.10578    0.40674    0.049543  -0.212     -0.26251\n",
            "  0.017655  -0.059089  -0.022608   0.28688   -0.075669  -0.05715\n",
            "  0.19422    0.044419  -0.030983   0.0087946 -0.10776    0.16817\n",
            "  0.34083   -0.13625    0.10977   -0.19285    0.19969    0.023081 ]\n"
          ]
        }
      ],
      "source": [
        "from gensim.scripts.glove2word2vec import glove2word2vec\n",
        "from gensim.models import KeyedVectors\n",
        "\n",
        "# Convert the GloVe file to word2vec format\n",
        "glove_input_file = 'glove.6B.300d.txt'\n",
        "word2vec_output_file = 'glove.6B.300d.word2vec.txt'\n",
        "glove2word2vec(glove_input_file, word2vec_output_file)\n",
        "\n",
        "# Load the GloVe model in word2vec format\n",
        "w2v = KeyedVectors.load_word2vec_format(word2vec_output_file, binary=False)\n",
        "\n",
        "# Now you can use the w2v model as needed\n",
        "print(w2v['example'])  # This should print the vector for the word 'example'\n"
      ]
    },
    {
      "cell_type": "code",
      "execution_count": 29,
      "metadata": {},
      "outputs": [
        {
          "data": {
            "text/plain": [
              "[('musical', 0.6985518932342529),\n",
              " ('songs', 0.6906880140304565),\n",
              " ('dance', 0.6395722031593323),\n",
              " ('pop', 0.6392293572425842),\n",
              " ('recording', 0.6246087551116943),\n",
              " ('jazz', 0.6203824877738953),\n",
              " ('musicians', 0.610777735710144),\n",
              " ('song', 0.6069643497467041),\n",
              " ('concert', 0.5930524468421936),\n",
              " ('composer', 0.591019332408905)]"
            ]
          },
          "execution_count": 29,
          "metadata": {},
          "output_type": "execute_result"
        }
      ],
      "source": [
        "w2v.most_similar('music')\n"
      ]
    },
    {
      "cell_type": "code",
      "execution_count": 32,
      "metadata": {},
      "outputs": [
        {
          "data": {
            "text/plain": [
              "[('drummer', 0.6636423468589783)]"
            ]
          },
          "execution_count": 32,
          "metadata": {},
          "output_type": "execute_result"
        }
      ],
      "source": [
        "# guitar + drums - strings = ?\n",
        "w2v.most_similar(['guitar', 'drums'], negative=['strings'], topn=1)\n"
      ]
    },
    {
      "cell_type": "code",
      "execution_count": 35,
      "metadata": {},
      "outputs": [
        {
          "data": {
            "text/plain": [
              "'apple'"
            ]
          },
          "execution_count": 35,
          "metadata": {},
          "output_type": "execute_result"
        }
      ],
      "source": [
        "w2v.doesnt_match(\"guitar piano drums apple\".split())\n"
      ]
    },
    {
      "cell_type": "code",
      "execution_count": 34,
      "metadata": {},
      "outputs": [
        {
          "data": {
            "text/plain": [
              "'tiger'"
            ]
          },
          "execution_count": 34,
          "metadata": {},
          "output_type": "execute_result"
        }
      ],
      "source": [
        "w2v.doesnt_match(\"violin flute guitar tiger\".split())\n"
      ]
    },
    {
      "cell_type": "markdown",
      "metadata": {},
      "source": [
        "## Fine-Tuning with Word Embedding Glove"
      ]
    },
    {
      "cell_type": "code",
      "execution_count": 32,
      "metadata": {},
      "outputs": [
        {
          "name": "stdout",
          "output_type": "stream",
          "text": [
            "Collecting keras\n",
            "  Downloading keras-3.5.0-py3-none-any.whl.metadata (5.8 kB)\n",
            "Collecting absl-py (from keras)\n",
            "  Downloading absl_py-2.1.0-py3-none-any.whl.metadata (2.3 kB)\n",
            "Requirement already satisfied: numpy in c:\\users\\esmaeil khoshnood\\appdata\\local\\packages\\pythonsoftwarefoundation.python.3.11_qbz5n2kfra8p0\\localcache\\local-packages\\python311\\site-packages (from keras) (1.26.4)\n",
            "Collecting rich (from keras)\n",
            "  Downloading rich-13.7.1-py3-none-any.whl.metadata (18 kB)\n",
            "Collecting namex (from keras)\n",
            "  Downloading namex-0.0.8-py3-none-any.whl.metadata (246 bytes)\n",
            "Collecting h5py (from keras)\n",
            "  Downloading h5py-3.11.0-cp311-cp311-win_amd64.whl.metadata (2.5 kB)\n",
            "Collecting optree (from keras)\n",
            "  Downloading optree-0.12.1-cp311-cp311-win_amd64.whl.metadata (48 kB)\n",
            "     ---------------------------------------- 0.0/48.7 kB ? eta -:--:--\n",
            "     ---------------------------------------- 48.7/48.7 kB 2.6 MB/s eta 0:00:00\n",
            "Collecting ml-dtypes (from keras)\n",
            "  Downloading ml_dtypes-0.4.0-cp311-cp311-win_amd64.whl.metadata (20 kB)\n",
            "Requirement already satisfied: packaging in c:\\users\\esmaeil khoshnood\\appdata\\local\\packages\\pythonsoftwarefoundation.python.3.11_qbz5n2kfra8p0\\localcache\\local-packages\\python311\\site-packages (from keras) (24.1)\n",
            "Requirement already satisfied: typing-extensions>=4.5.0 in c:\\users\\esmaeil khoshnood\\appdata\\local\\packages\\pythonsoftwarefoundation.python.3.11_qbz5n2kfra8p0\\localcache\\local-packages\\python311\\site-packages (from optree->keras) (4.12.2)\n",
            "Collecting markdown-it-py>=2.2.0 (from rich->keras)\n",
            "  Downloading markdown_it_py-3.0.0-py3-none-any.whl.metadata (6.9 kB)\n",
            "Requirement already satisfied: pygments<3.0.0,>=2.13.0 in c:\\users\\esmaeil khoshnood\\appdata\\local\\packages\\pythonsoftwarefoundation.python.3.11_qbz5n2kfra8p0\\localcache\\local-packages\\python311\\site-packages (from rich->keras) (2.18.0)\n",
            "Collecting mdurl~=0.1 (from markdown-it-py>=2.2.0->rich->keras)\n",
            "  Downloading mdurl-0.1.2-py3-none-any.whl.metadata (1.6 kB)\n",
            "Downloading keras-3.5.0-py3-none-any.whl (1.1 MB)\n",
            "   ---------------------------------------- 0.0/1.1 MB ? eta -:--:--\n",
            "   -------------------------------- ------- 0.9/1.1 MB 19.8 MB/s eta 0:00:01\n",
            "   ---------------------------------------- 1.1/1.1 MB 14.6 MB/s eta 0:00:00\n",
            "Downloading absl_py-2.1.0-py3-none-any.whl (133 kB)\n",
            "   ---------------------------------------- 0.0/133.7 kB ? eta -:--:--\n",
            "   ---------------------------------------- 133.7/133.7 kB 7.7 MB/s eta 0:00:00\n",
            "Downloading h5py-3.11.0-cp311-cp311-win_amd64.whl (3.0 MB)\n",
            "   ---------------------------------------- 0.0/3.0 MB ? eta -:--:--\n",
            "   --------------------------- ------------ 2.0/3.0 MB 43.1 MB/s eta 0:00:01\n",
            "   ---------------------------------------  3.0/3.0 MB 37.9 MB/s eta 0:00:01\n",
            "   ---------------------------------------- 3.0/3.0 MB 27.2 MB/s eta 0:00:00\n",
            "Downloading ml_dtypes-0.4.0-cp311-cp311-win_amd64.whl (126 kB)\n",
            "   ---------------------------------------- 0.0/126.8 kB ? eta -:--:--\n",
            "   ---------------------------------------- 126.8/126.8 kB 7.3 MB/s eta 0:00:00\n",
            "Downloading namex-0.0.8-py3-none-any.whl (5.8 kB)\n",
            "Downloading optree-0.12.1-cp311-cp311-win_amd64.whl (268 kB)\n",
            "   ---------------------------------------- 0.0/268.5 kB ? eta -:--:--\n",
            "   --------------------------------------- 268.5/268.5 kB 16.1 MB/s eta 0:00:00\n",
            "Downloading rich-13.7.1-py3-none-any.whl (240 kB)\n",
            "   ---------------------------------------- 0.0/240.7 kB ? eta -:--:--\n",
            "   --------------------------------------- 240.7/240.7 kB 15.4 MB/s eta 0:00:00\n",
            "Downloading markdown_it_py-3.0.0-py3-none-any.whl (87 kB)\n",
            "   ---------------------------------------- 0.0/87.5 kB ? eta -:--:--\n",
            "   ---------------------------------------- 87.5/87.5 kB 4.8 MB/s eta 0:00:00\n",
            "Downloading mdurl-0.1.2-py3-none-any.whl (10.0 kB)\n",
            "Installing collected packages: namex, optree, ml-dtypes, mdurl, h5py, absl-py, markdown-it-py, rich, keras\n",
            "Successfully installed absl-py-2.1.0 h5py-3.11.0 keras-3.5.0 markdown-it-py-3.0.0 mdurl-0.1.2 ml-dtypes-0.4.0 namex-0.0.8 optree-0.12.1 rich-13.7.1\n"
          ]
        },
        {
          "name": "stderr",
          "output_type": "stream",
          "text": [
            "\n",
            "[notice] A new release of pip is available: 24.0 -> 24.2\n",
            "[notice] To update, run: C:\\Users\\Esmaeil Khoshnood\\AppData\\Local\\Microsoft\\WindowsApps\\PythonSoftwareFoundation.Python.3.11_qbz5n2kfra8p0\\python.exe -m pip install --upgrade pip\n"
          ]
        },
        {
          "name": "stdout",
          "output_type": "stream",
          "text": [
            "Collecting tensorflow\n",
            "  Downloading tensorflow-2.17.0-cp311-cp311-win_amd64.whl.metadata (3.2 kB)\n",
            "Collecting tensorflow-intel==2.17.0 (from tensorflow)\n",
            "  Downloading tensorflow_intel-2.17.0-cp311-cp311-win_amd64.whl.metadata (5.0 kB)\n",
            "Requirement already satisfied: absl-py>=1.0.0 in c:\\users\\esmaeil khoshnood\\appdata\\local\\packages\\pythonsoftwarefoundation.python.3.11_qbz5n2kfra8p0\\localcache\\local-packages\\python311\\site-packages (from tensorflow-intel==2.17.0->tensorflow) (2.1.0)\n",
            "Collecting astunparse>=1.6.0 (from tensorflow-intel==2.17.0->tensorflow)\n",
            "  Downloading astunparse-1.6.3-py2.py3-none-any.whl.metadata (4.4 kB)\n",
            "Collecting flatbuffers>=24.3.25 (from tensorflow-intel==2.17.0->tensorflow)\n",
            "  Downloading flatbuffers-24.3.25-py2.py3-none-any.whl.metadata (850 bytes)\n",
            "Collecting gast!=0.5.0,!=0.5.1,!=0.5.2,>=0.2.1 (from tensorflow-intel==2.17.0->tensorflow)\n",
            "  Downloading gast-0.6.0-py3-none-any.whl.metadata (1.3 kB)\n",
            "Collecting google-pasta>=0.1.1 (from tensorflow-intel==2.17.0->tensorflow)\n",
            "  Downloading google_pasta-0.2.0-py3-none-any.whl.metadata (814 bytes)\n",
            "Requirement already satisfied: h5py>=3.10.0 in c:\\users\\esmaeil khoshnood\\appdata\\local\\packages\\pythonsoftwarefoundation.python.3.11_qbz5n2kfra8p0\\localcache\\local-packages\\python311\\site-packages (from tensorflow-intel==2.17.0->tensorflow) (3.11.0)\n",
            "Collecting libclang>=13.0.0 (from tensorflow-intel==2.17.0->tensorflow)\n",
            "  Downloading libclang-18.1.1-py2.py3-none-win_amd64.whl.metadata (5.3 kB)\n",
            "Requirement already satisfied: ml-dtypes<0.5.0,>=0.3.1 in c:\\users\\esmaeil khoshnood\\appdata\\local\\packages\\pythonsoftwarefoundation.python.3.11_qbz5n2kfra8p0\\localcache\\local-packages\\python311\\site-packages (from tensorflow-intel==2.17.0->tensorflow) (0.4.0)\n",
            "Collecting opt-einsum>=2.3.2 (from tensorflow-intel==2.17.0->tensorflow)\n",
            "  Downloading opt_einsum-3.3.0-py3-none-any.whl.metadata (6.5 kB)\n",
            "Requirement already satisfied: packaging in c:\\users\\esmaeil khoshnood\\appdata\\local\\packages\\pythonsoftwarefoundation.python.3.11_qbz5n2kfra8p0\\localcache\\local-packages\\python311\\site-packages (from tensorflow-intel==2.17.0->tensorflow) (24.1)\n",
            "Collecting protobuf!=4.21.0,!=4.21.1,!=4.21.2,!=4.21.3,!=4.21.4,!=4.21.5,<5.0.0dev,>=3.20.3 (from tensorflow-intel==2.17.0->tensorflow)\n",
            "  Downloading protobuf-4.25.4-cp310-abi3-win_amd64.whl.metadata (541 bytes)\n",
            "Collecting requests<3,>=2.21.0 (from tensorflow-intel==2.17.0->tensorflow)\n",
            "  Downloading requests-2.32.3-py3-none-any.whl.metadata (4.6 kB)\n",
            "Requirement already satisfied: setuptools in c:\\program files\\windowsapps\\pythonsoftwarefoundation.python.3.11_3.11.2544.0_x64__qbz5n2kfra8p0\\lib\\site-packages (from tensorflow-intel==2.17.0->tensorflow) (65.5.0)\n",
            "Requirement already satisfied: six>=1.12.0 in c:\\users\\esmaeil khoshnood\\appdata\\local\\packages\\pythonsoftwarefoundation.python.3.11_qbz5n2kfra8p0\\localcache\\local-packages\\python311\\site-packages (from tensorflow-intel==2.17.0->tensorflow) (1.16.0)\n",
            "Collecting termcolor>=1.1.0 (from tensorflow-intel==2.17.0->tensorflow)\n",
            "  Downloading termcolor-2.4.0-py3-none-any.whl.metadata (6.1 kB)\n",
            "Requirement already satisfied: typing-extensions>=3.6.6 in c:\\users\\esmaeil khoshnood\\appdata\\local\\packages\\pythonsoftwarefoundation.python.3.11_qbz5n2kfra8p0\\localcache\\local-packages\\python311\\site-packages (from tensorflow-intel==2.17.0->tensorflow) (4.12.2)\n",
            "Requirement already satisfied: wrapt>=1.11.0 in c:\\users\\esmaeil khoshnood\\appdata\\local\\packages\\pythonsoftwarefoundation.python.3.11_qbz5n2kfra8p0\\localcache\\local-packages\\python311\\site-packages (from tensorflow-intel==2.17.0->tensorflow) (1.16.0)\n",
            "Collecting grpcio<2.0,>=1.24.3 (from tensorflow-intel==2.17.0->tensorflow)\n",
            "  Downloading grpcio-1.65.4-cp311-cp311-win_amd64.whl.metadata (3.4 kB)\n",
            "Collecting tensorboard<2.18,>=2.17 (from tensorflow-intel==2.17.0->tensorflow)\n",
            "  Downloading tensorboard-2.17.1-py3-none-any.whl.metadata (1.6 kB)\n",
            "Requirement already satisfied: keras>=3.2.0 in c:\\users\\esmaeil khoshnood\\appdata\\local\\packages\\pythonsoftwarefoundation.python.3.11_qbz5n2kfra8p0\\localcache\\local-packages\\python311\\site-packages (from tensorflow-intel==2.17.0->tensorflow) (3.5.0)\n",
            "Collecting tensorflow-io-gcs-filesystem>=0.23.1 (from tensorflow-intel==2.17.0->tensorflow)\n",
            "  Downloading tensorflow_io_gcs_filesystem-0.31.0-cp311-cp311-win_amd64.whl.metadata (14 kB)\n",
            "Requirement already satisfied: numpy<2.0.0,>=1.23.5 in c:\\users\\esmaeil khoshnood\\appdata\\local\\packages\\pythonsoftwarefoundation.python.3.11_qbz5n2kfra8p0\\localcache\\local-packages\\python311\\site-packages (from tensorflow-intel==2.17.0->tensorflow) (1.26.4)\n",
            "Collecting wheel<1.0,>=0.23.0 (from astunparse>=1.6.0->tensorflow-intel==2.17.0->tensorflow)\n",
            "  Using cached wheel-0.44.0-py3-none-any.whl.metadata (2.3 kB)\n",
            "Requirement already satisfied: rich in c:\\users\\esmaeil khoshnood\\appdata\\local\\packages\\pythonsoftwarefoundation.python.3.11_qbz5n2kfra8p0\\localcache\\local-packages\\python311\\site-packages (from keras>=3.2.0->tensorflow-intel==2.17.0->tensorflow) (13.7.1)\n",
            "Requirement already satisfied: namex in c:\\users\\esmaeil khoshnood\\appdata\\local\\packages\\pythonsoftwarefoundation.python.3.11_qbz5n2kfra8p0\\localcache\\local-packages\\python311\\site-packages (from keras>=3.2.0->tensorflow-intel==2.17.0->tensorflow) (0.0.8)\n",
            "Requirement already satisfied: optree in c:\\users\\esmaeil khoshnood\\appdata\\local\\packages\\pythonsoftwarefoundation.python.3.11_qbz5n2kfra8p0\\localcache\\local-packages\\python311\\site-packages (from keras>=3.2.0->tensorflow-intel==2.17.0->tensorflow) (0.12.1)\n",
            "Collecting charset-normalizer<4,>=2 (from requests<3,>=2.21.0->tensorflow-intel==2.17.0->tensorflow)\n",
            "  Downloading charset_normalizer-3.3.2-cp311-cp311-win_amd64.whl.metadata (34 kB)\n",
            "Collecting idna<4,>=2.5 (from requests<3,>=2.21.0->tensorflow-intel==2.17.0->tensorflow)\n",
            "  Downloading idna-3.7-py3-none-any.whl.metadata (9.9 kB)\n",
            "Collecting urllib3<3,>=1.21.1 (from requests<3,>=2.21.0->tensorflow-intel==2.17.0->tensorflow)\n",
            "  Downloading urllib3-2.2.2-py3-none-any.whl.metadata (6.4 kB)\n",
            "Collecting certifi>=2017.4.17 (from requests<3,>=2.21.0->tensorflow-intel==2.17.0->tensorflow)\n",
            "  Downloading certifi-2024.7.4-py3-none-any.whl.metadata (2.2 kB)\n",
            "Collecting markdown>=2.6.8 (from tensorboard<2.18,>=2.17->tensorflow-intel==2.17.0->tensorflow)\n",
            "  Downloading Markdown-3.6-py3-none-any.whl.metadata (7.0 kB)\n",
            "Collecting tensorboard-data-server<0.8.0,>=0.7.0 (from tensorboard<2.18,>=2.17->tensorflow-intel==2.17.0->tensorflow)\n",
            "  Downloading tensorboard_data_server-0.7.2-py3-none-any.whl.metadata (1.1 kB)\n",
            "Collecting werkzeug>=1.0.1 (from tensorboard<2.18,>=2.17->tensorflow-intel==2.17.0->tensorflow)\n",
            "  Downloading werkzeug-3.0.3-py3-none-any.whl.metadata (3.7 kB)\n",
            "Collecting MarkupSafe>=2.1.1 (from werkzeug>=1.0.1->tensorboard<2.18,>=2.17->tensorflow-intel==2.17.0->tensorflow)\n",
            "  Downloading MarkupSafe-2.1.5-cp311-cp311-win_amd64.whl.metadata (3.1 kB)\n",
            "Requirement already satisfied: markdown-it-py>=2.2.0 in c:\\users\\esmaeil khoshnood\\appdata\\local\\packages\\pythonsoftwarefoundation.python.3.11_qbz5n2kfra8p0\\localcache\\local-packages\\python311\\site-packages (from rich->keras>=3.2.0->tensorflow-intel==2.17.0->tensorflow) (3.0.0)\n",
            "Requirement already satisfied: pygments<3.0.0,>=2.13.0 in c:\\users\\esmaeil khoshnood\\appdata\\local\\packages\\pythonsoftwarefoundation.python.3.11_qbz5n2kfra8p0\\localcache\\local-packages\\python311\\site-packages (from rich->keras>=3.2.0->tensorflow-intel==2.17.0->tensorflow) (2.18.0)\n",
            "Requirement already satisfied: mdurl~=0.1 in c:\\users\\esmaeil khoshnood\\appdata\\local\\packages\\pythonsoftwarefoundation.python.3.11_qbz5n2kfra8p0\\localcache\\local-packages\\python311\\site-packages (from markdown-it-py>=2.2.0->rich->keras>=3.2.0->tensorflow-intel==2.17.0->tensorflow) (0.1.2)\n",
            "Downloading tensorflow-2.17.0-cp311-cp311-win_amd64.whl (2.0 kB)\n",
            "Downloading tensorflow_intel-2.17.0-cp311-cp311-win_amd64.whl (385.0 MB)\n",
            "   ---------------------------------------- 0.0/385.0 MB ? eta -:--:--\n",
            "   ---------------------------------------- 1.1/385.0 MB 36.3 MB/s eta 0:00:11\n",
            "   ---------------------------------------- 3.3/385.0 MB 34.9 MB/s eta 0:00:11\n",
            "    --------------------------------------- 5.3/385.0 MB 37.5 MB/s eta 0:00:11\n",
            "    --------------------------------------- 6.2/385.0 MB 36.3 MB/s eta 0:00:11\n",
            "    --------------------------------------- 7.9/385.0 MB 36.1 MB/s eta 0:00:11\n",
            "   - -------------------------------------- 9.9/385.0 MB 37.3 MB/s eta 0:00:11\n",
            "   - -------------------------------------- 11.6/385.0 MB 38.5 MB/s eta 0:00:10\n",
            "   - -------------------------------------- 13.3/385.0 MB 36.4 MB/s eta 0:00:11\n",
            "   - -------------------------------------- 15.0/385.0 MB 36.4 MB/s eta 0:00:11\n",
            "   - -------------------------------------- 16.7/385.0 MB 38.6 MB/s eta 0:00:10\n",
            "   - -------------------------------------- 18.4/385.0 MB 38.5 MB/s eta 0:00:10\n",
            "   -- ------------------------------------- 20.4/385.0 MB 38.5 MB/s eta 0:00:10\n",
            "   -- ------------------------------------- 22.5/385.0 MB 40.9 MB/s eta 0:00:09\n",
            "   -- ------------------------------------- 24.1/385.0 MB 40.9 MB/s eta 0:00:09\n",
            "   -- ------------------------------------- 26.0/385.0 MB 40.9 MB/s eta 0:00:09\n",
            "   -- ------------------------------------- 27.3/385.0 MB 38.6 MB/s eta 0:00:10\n",
            "   --- ------------------------------------ 29.1/385.0 MB 38.6 MB/s eta 0:00:10\n",
            "   --- ------------------------------------ 30.6/385.0 MB 36.4 MB/s eta 0:00:10\n",
            "   --- ------------------------------------ 32.0/385.0 MB 34.4 MB/s eta 0:00:11\n",
            "   --- ------------------------------------ 33.9/385.0 MB 36.4 MB/s eta 0:00:10\n",
            "   --- ------------------------------------ 35.9/385.0 MB 36.4 MB/s eta 0:00:10\n",
            "   --- ------------------------------------ 36.7/385.0 MB 34.4 MB/s eta 0:00:11\n",
            "   ---- ----------------------------------- 38.7/385.0 MB 34.4 MB/s eta 0:00:11\n",
            "   ---- ----------------------------------- 40.0/385.0 MB 34.6 MB/s eta 0:00:10\n",
            "   ---- ----------------------------------- 41.5/385.0 MB 34.4 MB/s eta 0:00:10\n",
            "   ---- ----------------------------------- 43.0/385.0 MB 34.4 MB/s eta 0:00:10"
          ]
        },
        {
          "name": "stderr",
          "output_type": "stream",
          "text": [
            "\n",
            "[notice] A new release of pip is available: 24.0 -> 24.2\n",
            "[notice] To update, run: C:\\Users\\Esmaeil Khoshnood\\AppData\\Local\\Microsoft\\WindowsApps\\PythonSoftwareFoundation.Python.3.11_qbz5n2kfra8p0\\python.exe -m pip install --upgrade pip\n"
          ]
        },
        {
          "name": "stdout",
          "output_type": "stream",
          "text": [
            "\n",
            "   ---- ----------------------------------- 45.1/385.0 MB 34.4 MB/s eta 0:00:10\n",
            "   ---- ----------------------------------- 47.1/385.0 MB 38.5 MB/s eta 0:00:09\n",
            "   ----- ---------------------------------- 49.2/385.0 MB 38.5 MB/s eta 0:00:09\n",
            "   ----- ---------------------------------- 51.2/385.0 MB 40.9 MB/s eta 0:00:09\n",
            "   ----- ---------------------------------- 53.3/385.0 MB 46.7 MB/s eta 0:00:08\n",
            "   ----- ---------------------------------- 55.3/385.0 MB 43.7 MB/s eta 0:00:08\n",
            "   ----- ---------------------------------- 57.2/385.0 MB 40.9 MB/s eta 0:00:09\n",
            "   ------ --------------------------------- 58.7/385.0 MB 43.7 MB/s eta 0:00:08\n",
            "   ------ --------------------------------- 60.9/385.0 MB 40.9 MB/s eta 0:00:08\n",
            "   ------ --------------------------------- 63.0/385.0 MB 43.7 MB/s eta 0:00:08\n",
            "   ------ --------------------------------- 65.1/385.0 MB 43.5 MB/s eta 0:00:08\n",
            "   ------ --------------------------------- 67.2/385.0 MB 43.5 MB/s eta 0:00:08\n",
            "   ------- -------------------------------- 69.4/385.0 MB 46.7 MB/s eta 0:00:07\n",
            "   ------- -------------------------------- 71.0/385.0 MB 43.7 MB/s eta 0:00:08\n",
            "   ------- -------------------------------- 72.8/385.0 MB 43.7 MB/s eta 0:00:08\n",
            "   ------- -------------------------------- 74.7/385.0 MB 40.9 MB/s eta 0:00:08\n",
            "   ------- -------------------------------- 76.9/385.0 MB 43.7 MB/s eta 0:00:08\n",
            "   -------- ------------------------------- 78.8/385.0 MB 40.9 MB/s eta 0:00:08\n",
            "   -------- ------------------------------- 80.8/385.0 MB 43.5 MB/s eta 0:00:07\n",
            "   -------- ------------------------------- 82.6/385.0 MB 43.5 MB/s eta 0:00:07\n",
            "   -------- ------------------------------- 84.2/385.0 MB 40.9 MB/s eta 0:00:08\n",
            "   -------- ------------------------------- 86.0/385.0 MB 40.9 MB/s eta 0:00:08\n",
            "   --------- ------------------------------ 87.8/385.0 MB 40.9 MB/s eta 0:00:08\n",
            "   --------- ------------------------------ 90.0/385.0 MB 38.5 MB/s eta 0:00:08\n",
            "   --------- ------------------------------ 91.8/385.0 MB 40.9 MB/s eta 0:00:08\n",
            "   --------- ------------------------------ 93.5/385.0 MB 40.9 MB/s eta 0:00:08\n",
            "   --------- ------------------------------ 95.4/385.0 MB 40.9 MB/s eta 0:00:08\n",
            "   ---------- ----------------------------- 97.3/385.0 MB 40.9 MB/s eta 0:00:08\n",
            "   ---------- ----------------------------- 98.8/385.0 MB 40.9 MB/s eta 0:00:07\n",
            "   ---------- ---------------------------- 100.6/385.0 MB 36.4 MB/s eta 0:00:08\n",
            "   ---------- ---------------------------- 102.8/385.0 MB 38.5 MB/s eta 0:00:08\n",
            "   ---------- ---------------------------- 104.9/385.0 MB 38.5 MB/s eta 0:00:08\n",
            "   ---------- ---------------------------- 107.0/385.0 MB 38.6 MB/s eta 0:00:08\n",
            "   ----------- --------------------------- 109.5/385.0 MB 43.7 MB/s eta 0:00:07\n",
            "   ----------- --------------------------- 111.4/385.0 MB 43.7 MB/s eta 0:00:07\n",
            "   ----------- --------------------------- 113.0/385.0 MB 40.9 MB/s eta 0:00:07\n",
            "   ----------- --------------------------- 114.6/385.0 MB 40.9 MB/s eta 0:00:07\n",
            "   ----------- --------------------------- 116.5/385.0 MB 38.5 MB/s eta 0:00:07\n",
            "   ------------ -------------------------- 118.5/385.0 MB 40.9 MB/s eta 0:00:07\n",
            "   ------------ -------------------------- 120.4/385.0 MB 40.9 MB/s eta 0:00:07\n",
            "   ------------ -------------------------- 122.4/385.0 MB 40.9 MB/s eta 0:00:07\n",
            "   ------------ -------------------------- 124.9/385.0 MB 43.5 MB/s eta 0:00:06\n",
            "   ------------ -------------------------- 126.8/385.0 MB 43.5 MB/s eta 0:00:06\n",
            "   ------------ -------------------------- 128.0/385.0 MB 38.5 MB/s eta 0:00:07\n",
            "   ------------- ------------------------- 129.7/385.0 MB 38.6 MB/s eta 0:00:07\n",
            "   ------------- ------------------------- 131.6/385.0 MB 38.6 MB/s eta 0:00:07\n",
            "   ------------- ------------------------- 133.3/385.0 MB 38.6 MB/s eta 0:00:07\n",
            "   ------------- ------------------------- 135.2/385.0 MB 38.5 MB/s eta 0:00:07\n",
            "   ------------- ------------------------- 137.2/385.0 MB 38.5 MB/s eta 0:00:07\n",
            "   -------------- ------------------------ 138.9/385.0 MB 40.9 MB/s eta 0:00:07\n",
            "   -------------- ------------------------ 141.0/385.0 MB 40.9 MB/s eta 0:00:06\n",
            "   -------------- ------------------------ 143.1/385.0 MB 40.9 MB/s eta 0:00:06\n",
            "   -------------- ------------------------ 145.2/385.0 MB 40.9 MB/s eta 0:00:06\n",
            "   -------------- ------------------------ 147.2/385.0 MB 40.9 MB/s eta 0:00:06\n",
            "   --------------- ----------------------- 149.4/385.0 MB 43.5 MB/s eta 0:00:06\n",
            "   --------------- ----------------------- 151.3/385.0 MB 43.5 MB/s eta 0:00:06\n",
            "   --------------- ----------------------- 153.1/385.0 MB 43.5 MB/s eta 0:00:06\n",
            "   --------------- ----------------------- 155.1/385.0 MB 43.7 MB/s eta 0:00:06\n",
            "   --------------- ----------------------- 156.7/385.0 MB 40.9 MB/s eta 0:00:06\n",
            "   ---------------- ---------------------- 158.8/385.0 MB 38.5 MB/s eta 0:00:06\n",
            "   ---------------- ---------------------- 161.4/385.0 MB 40.9 MB/s eta 0:00:06\n",
            "   ---------------- ---------------------- 163.4/385.0 MB 43.5 MB/s eta 0:00:06\n",
            "   ---------------- ---------------------- 165.5/385.0 MB 43.7 MB/s eta 0:00:06\n",
            "   ---------------- ---------------------- 167.6/385.0 MB 46.9 MB/s eta 0:00:05\n",
            "   ----------------- --------------------- 169.5/385.0 MB 46.7 MB/s eta 0:00:05\n",
            "   ----------------- --------------------- 171.1/385.0 MB 43.7 MB/s eta 0:00:05\n",
            "   ----------------- --------------------- 172.9/385.0 MB 40.9 MB/s eta 0:00:06\n",
            "   ----------------- --------------------- 174.9/385.0 MB 40.9 MB/s eta 0:00:06\n",
            "   ----------------- --------------------- 176.9/385.0 MB 40.9 MB/s eta 0:00:06\n",
            "   ------------------ -------------------- 178.2/385.0 MB 38.5 MB/s eta 0:00:06\n",
            "   ------------------ -------------------- 179.6/385.0 MB 36.4 MB/s eta 0:00:06\n",
            "   ------------------ -------------------- 181.4/385.0 MB 38.6 MB/s eta 0:00:06\n",
            "   ------------------ -------------------- 183.4/385.0 MB 38.6 MB/s eta 0:00:06\n",
            "   ------------------ -------------------- 184.9/385.0 MB 36.4 MB/s eta 0:00:06\n",
            "   ------------------ -------------------- 186.5/385.0 MB 36.4 MB/s eta 0:00:06\n",
            "   ------------------- ------------------- 187.6/385.0 MB 31.2 MB/s eta 0:00:07\n",
            "   ------------------- ------------------- 189.5/385.0 MB 32.8 MB/s eta 0:00:06\n",
            "   ------------------- ------------------- 191.0/385.0 MB 34.4 MB/s eta 0:00:06\n",
            "   ------------------- ------------------- 193.0/385.0 MB 32.8 MB/s eta 0:00:06\n",
            "   ------------------- ------------------- 195.1/385.0 MB 36.4 MB/s eta 0:00:06\n",
            "   ------------------- ------------------- 197.3/385.0 MB 38.5 MB/s eta 0:00:05\n",
            "   -------------------- ------------------ 198.9/385.0 MB 40.9 MB/s eta 0:00:05\n",
            "   -------------------- ------------------ 200.6/385.0 MB 40.9 MB/s eta 0:00:05\n",
            "   -------------------- ------------------ 202.0/385.0 MB 40.9 MB/s eta 0:00:05\n",
            "   -------------------- ------------------ 203.5/385.0 MB 38.6 MB/s eta 0:00:05\n",
            "   -------------------- ------------------ 205.8/385.0 MB 36.4 MB/s eta 0:00:05\n",
            "   --------------------- ----------------- 207.6/385.0 MB 36.3 MB/s eta 0:00:05\n",
            "   --------------------- ----------------- 209.6/385.0 MB 38.5 MB/s eta 0:00:05\n",
            "   --------------------- ----------------- 211.7/385.0 MB 38.6 MB/s eta 0:00:05\n",
            "   --------------------- ----------------- 213.0/385.0 MB 38.6 MB/s eta 0:00:05\n",
            "   --------------------- ----------------- 214.8/385.0 MB 40.9 MB/s eta 0:00:05\n",
            "   --------------------- ----------------- 216.8/385.0 MB 40.9 MB/s eta 0:00:05\n",
            "   ---------------------- ---------------- 218.5/385.0 MB 40.9 MB/s eta 0:00:05\n",
            "   ---------------------- ---------------- 220.9/385.0 MB 40.9 MB/s eta 0:00:05\n",
            "   ---------------------- ---------------- 223.2/385.0 MB 43.5 MB/s eta 0:00:04\n",
            "   ---------------------- ---------------- 225.1/385.0 MB 46.7 MB/s eta 0:00:04\n",
            "   ---------------------- ---------------- 226.6/385.0 MB 43.7 MB/s eta 0:00:04\n",
            "   ----------------------- --------------- 228.2/385.0 MB 43.7 MB/s eta 0:00:04\n",
            "   ----------------------- --------------- 230.2/385.0 MB 40.9 MB/s eta 0:00:04\n",
            "   ----------------------- --------------- 232.2/385.0 MB 40.9 MB/s eta 0:00:04\n",
            "   ----------------------- --------------- 234.1/385.0 MB 40.9 MB/s eta 0:00:04\n",
            "   ----------------------- --------------- 236.2/385.0 MB 40.9 MB/s eta 0:00:04\n",
            "   ------------------------ -------------- 238.1/385.0 MB 43.5 MB/s eta 0:00:04\n",
            "   ------------------------ -------------- 240.1/385.0 MB 43.5 MB/s eta 0:00:04\n",
            "   ------------------------ -------------- 241.7/385.0 MB 40.9 MB/s eta 0:00:04\n",
            "   ------------------------ -------------- 243.3/385.0 MB 40.9 MB/s eta 0:00:04\n",
            "   ------------------------ -------------- 245.4/385.0 MB 40.9 MB/s eta 0:00:04\n",
            "   ------------------------- ------------- 247.5/385.0 MB 40.9 MB/s eta 0:00:04\n",
            "   ------------------------- ------------- 249.7/385.0 MB 40.9 MB/s eta 0:00:04\n",
            "   ------------------------- ------------- 251.9/385.0 MB 43.5 MB/s eta 0:00:04\n",
            "   ------------------------- ------------- 253.8/385.0 MB 46.7 MB/s eta 0:00:03\n",
            "   ------------------------- ------------- 255.5/385.0 MB 43.5 MB/s eta 0:00:03\n",
            "   -------------------------- ------------ 257.2/385.0 MB 43.7 MB/s eta 0:00:03\n",
            "   -------------------------- ------------ 259.4/385.0 MB 40.9 MB/s eta 0:00:04\n",
            "   -------------------------- ------------ 261.3/385.0 MB 38.5 MB/s eta 0:00:04\n",
            "   -------------------------- ------------ 263.2/385.0 MB 38.5 MB/s eta 0:00:04\n",
            "   -------------------------- ------------ 265.1/385.0 MB 38.5 MB/s eta 0:00:04\n",
            "   --------------------------- ----------- 267.2/385.0 MB 40.9 MB/s eta 0:00:03\n",
            "   --------------------------- ----------- 269.3/385.0 MB 40.9 MB/s eta 0:00:03\n",
            "   --------------------------- ----------- 271.3/385.0 MB 40.9 MB/s eta 0:00:03\n",
            "   --------------------------- ----------- 273.3/385.0 MB 40.9 MB/s eta 0:00:03\n",
            "   --------------------------- ----------- 275.1/385.0 MB 40.9 MB/s eta 0:00:03\n",
            "   ---------------------------- ---------- 277.2/385.0 MB 40.9 MB/s eta 0:00:03\n",
            "   ---------------------------- ---------- 279.1/385.0 MB 40.9 MB/s eta 0:00:03\n",
            "   ---------------------------- ---------- 281.1/385.0 MB 43.7 MB/s eta 0:00:03\n",
            "   ---------------------------- ---------- 283.0/385.0 MB 43.7 MB/s eta 0:00:03\n",
            "   ---------------------------- ---------- 284.6/385.0 MB 40.9 MB/s eta 0:00:03\n",
            "   ---------------------------- ---------- 286.3/385.0 MB 40.9 MB/s eta 0:00:03\n",
            "   ----------------------------- --------- 288.0/385.0 MB 38.5 MB/s eta 0:00:03\n",
            "   ----------------------------- --------- 288.9/385.0 MB 36.3 MB/s eta 0:00:03\n",
            "   ----------------------------- --------- 290.8/385.0 MB 36.4 MB/s eta 0:00:03\n",
            "   ----------------------------- --------- 293.0/385.0 MB 36.4 MB/s eta 0:00:03\n",
            "   ----------------------------- --------- 295.1/385.0 MB 38.6 MB/s eta 0:00:03\n",
            "   ------------------------------ -------- 297.2/385.0 MB 40.9 MB/s eta 0:00:03\n",
            "   ------------------------------ -------- 298.6/385.0 MB 43.7 MB/s eta 0:00:02\n",
            "   ------------------------------ -------- 300.5/385.0 MB 43.5 MB/s eta 0:00:02\n",
            "   ------------------------------ -------- 302.7/385.0 MB 43.5 MB/s eta 0:00:02\n",
            "   ------------------------------ -------- 304.6/385.0 MB 40.9 MB/s eta 0:00:02\n",
            "   ------------------------------- ------- 306.6/385.0 MB 38.5 MB/s eta 0:00:03\n",
            "   ------------------------------- ------- 307.6/385.0 MB 38.6 MB/s eta 0:00:03\n",
            "   ------------------------------- ------- 309.3/385.0 MB 38.6 MB/s eta 0:00:02\n",
            "   ------------------------------- ------- 311.4/385.0 MB 38.5 MB/s eta 0:00:02\n",
            "   ------------------------------- ------- 313.1/385.0 MB 36.3 MB/s eta 0:00:02\n",
            "   ------------------------------- ------- 315.3/385.0 MB 36.4 MB/s eta 0:00:02\n",
            "   -------------------------------- ------ 317.3/385.0 MB 38.6 MB/s eta 0:00:02\n",
            "   -------------------------------- ------ 319.3/385.0 MB 40.9 MB/s eta 0:00:02\n",
            "   -------------------------------- ------ 321.2/385.0 MB 40.9 MB/s eta 0:00:02\n",
            "   -------------------------------- ------ 323.2/385.0 MB 40.9 MB/s eta 0:00:02\n",
            "   -------------------------------- ------ 325.1/385.0 MB 38.6 MB/s eta 0:00:02\n",
            "   --------------------------------- ----- 326.7/385.0 MB 38.6 MB/s eta 0:00:02\n",
            "   --------------------------------- ----- 328.5/385.0 MB 38.6 MB/s eta 0:00:02\n",
            "   --------------------------------- ----- 330.3/385.0 MB 38.5 MB/s eta 0:00:02\n",
            "   --------------------------------- ----- 332.3/385.0 MB 38.5 MB/s eta 0:00:02\n",
            "   --------------------------------- ----- 334.2/385.0 MB 40.9 MB/s eta 0:00:02\n",
            "   ---------------------------------- ---- 336.1/385.0 MB 40.9 MB/s eta 0:00:02\n",
            "   ---------------------------------- ---- 337.9/385.0 MB 40.9 MB/s eta 0:00:02\n",
            "   ---------------------------------- ---- 340.0/385.0 MB 40.9 MB/s eta 0:00:02\n",
            "   ---------------------------------- ---- 341.6/385.0 MB 40.9 MB/s eta 0:00:02\n",
            "   ---------------------------------- ---- 343.8/385.0 MB 40.9 MB/s eta 0:00:02\n",
            "   ----------------------------------- --- 345.9/385.0 MB 43.7 MB/s eta 0:00:01\n",
            "   ----------------------------------- --- 348.1/385.0 MB 43.7 MB/s eta 0:00:01\n",
            "   ----------------------------------- --- 350.3/385.0 MB 46.7 MB/s eta 0:00:01\n",
            "   ----------------------------------- --- 352.1/385.0 MB 46.7 MB/s eta 0:00:01\n",
            "   ----------------------------------- --- 354.2/385.0 MB 46.7 MB/s eta 0:00:01\n",
            "   ------------------------------------ -- 355.7/385.0 MB 43.7 MB/s eta 0:00:01\n",
            "   ------------------------------------ -- 357.8/385.0 MB 43.7 MB/s eta 0:00:01\n",
            "   ------------------------------------ -- 360.0/385.0 MB 43.7 MB/s eta 0:00:01\n",
            "   ------------------------------------ -- 362.0/385.0 MB 43.7 MB/s eta 0:00:01\n",
            "   ------------------------------------ -- 364.0/385.0 MB 43.7 MB/s eta 0:00:01\n",
            "   ------------------------------------- - 365.7/385.0 MB 43.5 MB/s eta 0:00:01\n",
            "   ------------------------------------- - 367.7/385.0 MB 43.5 MB/s eta 0:00:01\n",
            "   ------------------------------------- - 369.2/385.0 MB 40.9 MB/s eta 0:00:01\n",
            "   ------------------------------------- - 370.9/385.0 MB 40.9 MB/s eta 0:00:01\n",
            "   ------------------------------------- - 372.7/385.0 MB 38.6 MB/s eta 0:00:01\n",
            "   ------------------------------------- - 374.6/385.0 MB 38.6 MB/s eta 0:00:01\n",
            "   --------------------------------------  376.5/385.0 MB 38.5 MB/s eta 0:00:01\n",
            "   --------------------------------------  378.6/385.0 MB 40.9 MB/s eta 0:00:01\n",
            "   --------------------------------------  380.6/385.0 MB 40.9 MB/s eta 0:00:01\n",
            "   --------------------------------------  382.5/385.0 MB 43.5 MB/s eta 0:00:01\n",
            "   --------------------------------------  383.9/385.0 MB 40.9 MB/s eta 0:00:01\n",
            "   --------------------------------------  385.0/385.0 MB 40.9 MB/s eta 0:00:01\n",
            "   --------------------------------------  385.0/385.0 MB 40.9 MB/s eta 0:00:01\n",
            "   --------------------------------------  385.0/385.0 MB 40.9 MB/s eta 0:00:01\n",
            "   --------------------------------------  385.0/385.0 MB 40.9 MB/s eta 0:00:01\n",
            "   --------------------------------------  385.0/385.0 MB 40.9 MB/s eta 0:00:01\n",
            "   --------------------------------------  385.0/385.0 MB 40.9 MB/s eta 0:00:01\n",
            "   --------------------------------------  385.0/385.0 MB 40.9 MB/s eta 0:00:01\n",
            "   --------------------------------------  385.0/385.0 MB 40.9 MB/s eta 0:00:01\n",
            "   --------------------------------------  385.0/385.0 MB 40.9 MB/s eta 0:00:01\n",
            "   --------------------------------------  385.0/385.0 MB 40.9 MB/s eta 0:00:01\n",
            "   --------------------------------------  385.0/385.0 MB 40.9 MB/s eta 0:00:01\n",
            "   --------------------------------------  385.0/385.0 MB 40.9 MB/s eta 0:00:01\n",
            "   --------------------------------------  385.0/385.0 MB 40.9 MB/s eta 0:00:01\n",
            "   --------------------------------------  385.0/385.0 MB 40.9 MB/s eta 0:00:01\n",
            "   --------------------------------------  385.0/385.0 MB 40.9 MB/s eta 0:00:01\n",
            "   --------------------------------------  385.0/385.0 MB 40.9 MB/s eta 0:00:01\n",
            "   --------------------------------------  385.0/385.0 MB 40.9 MB/s eta 0:00:01\n",
            "   --------------------------------------  385.0/385.0 MB 40.9 MB/s eta 0:00:01\n",
            "   --------------------------------------  385.0/385.0 MB 40.9 MB/s eta 0:00:01\n",
            "   --------------------------------------  385.0/385.0 MB 40.9 MB/s eta 0:00:01\n",
            "   --------------------------------------  385.0/385.0 MB 40.9 MB/s eta 0:00:01\n",
            "   --------------------------------------  385.0/385.0 MB 40.9 MB/s eta 0:00:01\n",
            "   --------------------------------------  385.0/385.0 MB 40.9 MB/s eta 0:00:01\n",
            "   --------------------------------------  385.0/385.0 MB 40.9 MB/s eta 0:00:01\n",
            "   --------------------------------------  385.0/385.0 MB 40.9 MB/s eta 0:00:01\n",
            "   --------------------------------------  385.0/385.0 MB 40.9 MB/s eta 0:00:01\n",
            "   --------------------------------------  385.0/385.0 MB 40.9 MB/s eta 0:00:01\n",
            "   --------------------------------------  385.0/385.0 MB 40.9 MB/s eta 0:00:01\n",
            "   --------------------------------------  385.0/385.0 MB 40.9 MB/s eta 0:00:01\n",
            "   --------------------------------------  385.0/385.0 MB 40.9 MB/s eta 0:00:01\n",
            "   --------------------------------------  385.0/385.0 MB 40.9 MB/s eta 0:00:01\n",
            "   --------------------------------------  385.0/385.0 MB 40.9 MB/s eta 0:00:01\n",
            "   --------------------------------------  385.0/385.0 MB 40.9 MB/s eta 0:00:01\n",
            "   --------------------------------------  385.0/385.0 MB 40.9 MB/s eta 0:00:01\n",
            "   --------------------------------------  385.0/385.0 MB 40.9 MB/s eta 0:00:01\n",
            "   --------------------------------------  385.0/385.0 MB 40.9 MB/s eta 0:00:01\n",
            "   --------------------------------------  385.0/385.0 MB 40.9 MB/s eta 0:00:01\n",
            "   --------------------------------------  385.0/385.0 MB 40.9 MB/s eta 0:00:01\n",
            "   --------------------------------------  385.0/385.0 MB 40.9 MB/s eta 0:00:01\n",
            "   --------------------------------------  385.0/385.0 MB 40.9 MB/s eta 0:00:01\n",
            "   --------------------------------------  385.0/385.0 MB 40.9 MB/s eta 0:00:01\n",
            "   --------------------------------------  385.0/385.0 MB 40.9 MB/s eta 0:00:01\n",
            "   --------------------------------------  385.0/385.0 MB 40.9 MB/s eta 0:00:01\n",
            "   --------------------------------------  385.0/385.0 MB 40.9 MB/s eta 0:00:01\n",
            "   --------------------------------------  385.0/385.0 MB 40.9 MB/s eta 0:00:01\n",
            "   --------------------------------------  385.0/385.0 MB 40.9 MB/s eta 0:00:01\n",
            "   --------------------------------------  385.0/385.0 MB 40.9 MB/s eta 0:00:01\n",
            "   --------------------------------------  385.0/385.0 MB 40.9 MB/s eta 0:00:01\n",
            "   --------------------------------------  385.0/385.0 MB 40.9 MB/s eta 0:00:01\n",
            "   --------------------------------------  385.0/385.0 MB 40.9 MB/s eta 0:00:01\n",
            "   --------------------------------------  385.0/385.0 MB 40.9 MB/s eta 0:00:01\n",
            "   --------------------------------------  385.0/385.0 MB 40.9 MB/s eta 0:00:01\n",
            "   --------------------------------------  385.0/385.0 MB 40.9 MB/s eta 0:00:01\n",
            "   --------------------------------------  385.0/385.0 MB 40.9 MB/s eta 0:00:01\n",
            "   --------------------------------------  385.0/385.0 MB 40.9 MB/s eta 0:00:01\n",
            "   --------------------------------------  385.0/385.0 MB 40.9 MB/s eta 0:00:01\n",
            "   --------------------------------------  385.0/385.0 MB 40.9 MB/s eta 0:00:01\n",
            "   --------------------------------------  385.0/385.0 MB 40.9 MB/s eta 0:00:01\n",
            "   --------------------------------------  385.0/385.0 MB 40.9 MB/s eta 0:00:01\n",
            "   ---------------------------------------- 385.0/385.0 MB 3.4 MB/s eta 0:00:00\n",
            "Downloading astunparse-1.6.3-py2.py3-none-any.whl (12 kB)\n",
            "Downloading flatbuffers-24.3.25-py2.py3-none-any.whl (26 kB)\n",
            "Downloading gast-0.6.0-py3-none-any.whl (21 kB)\n",
            "Downloading google_pasta-0.2.0-py3-none-any.whl (57 kB)\n",
            "   ---------------------------------------- 0.0/57.5 kB ? eta -:--:--\n",
            "   ---------------------------------------- 57.5/57.5 kB 3.0 MB/s eta 0:00:00\n",
            "Downloading grpcio-1.65.4-cp311-cp311-win_amd64.whl (4.1 MB)\n",
            "   ---------------------------------------- 0.0/4.1 MB ? eta -:--:--\n",
            "   --------------------- ------------------ 2.3/4.1 MB 47.7 MB/s eta 0:00:01\n",
            "   -------------------------------------- - 4.0/4.1 MB 42.5 MB/s eta 0:00:01\n",
            "   ---------------------------------------- 4.1/4.1 MB 29.3 MB/s eta 0:00:00\n",
            "Downloading libclang-18.1.1-py2.py3-none-win_amd64.whl (26.4 MB)\n",
            "   ---------------------------------------- 0.0/26.4 MB ? eta -:--:--\n",
            "   -- ------------------------------------- 1.7/26.4 MB 53.5 MB/s eta 0:00:01\n",
            "   ----- ---------------------------------- 3.9/26.4 MB 50.0 MB/s eta 0:00:01\n",
            "   --------- ------------------------------ 6.1/26.4 MB 48.7 MB/s eta 0:00:01\n",
            "   ------------ --------------------------- 8.2/26.4 MB 47.3 MB/s eta 0:00:01\n",
            "   --------------- ------------------------ 10.2/26.4 MB 46.6 MB/s eta 0:00:01\n",
            "   ------------------ --------------------- 12.5/26.4 MB 43.7 MB/s eta 0:00:01\n",
            "   --------------------- ------------------ 14.3/26.4 MB 43.7 MB/s eta 0:00:01\n",
            "   ------------------------ --------------- 16.5/26.4 MB 43.7 MB/s eta 0:00:01\n",
            "   --------------------------- ------------ 18.2/26.4 MB 40.9 MB/s eta 0:00:01\n",
            "   ----------------------------- ---------- 19.8/26.4 MB 40.9 MB/s eta 0:00:01\n",
            "   -------------------------------- ------- 21.2/26.4 MB 38.5 MB/s eta 0:00:01\n",
            "   ----------------------------------- ---- 23.6/26.4 MB 38.6 MB/s eta 0:00:01\n",
            "   ---------------------------------------  26.4/26.4 MB 43.7 MB/s eta 0:00:01\n",
            "   ---------------------------------------  26.4/26.4 MB 43.7 MB/s eta 0:00:01\n",
            "   ---------------------------------------  26.4/26.4 MB 43.7 MB/s eta 0:00:01\n",
            "   ---------------------------------------- 26.4/26.4 MB 28.5 MB/s eta 0:00:00\n",
            "Downloading opt_einsum-3.3.0-py3-none-any.whl (65 kB)\n",
            "   ---------------------------------------- 0.0/65.5 kB ? eta -:--:--\n",
            "   ---------------------------------------- 65.5/65.5 kB 3.7 MB/s eta 0:00:00\n",
            "Downloading protobuf-4.25.4-cp310-abi3-win_amd64.whl (413 kB)\n",
            "   ---------------------------------------- 0.0/413.4 kB ? eta -:--:--\n",
            "   --------------------------------------- 413.4/413.4 kB 13.0 MB/s eta 0:00:00\n",
            "Downloading requests-2.32.3-py3-none-any.whl (64 kB)\n",
            "   ---------------------------------------- 0.0/64.9 kB ? eta -:--:--\n",
            "   ---------------------------------------- 64.9/64.9 kB 3.4 MB/s eta 0:00:00\n",
            "Downloading tensorboard-2.17.1-py3-none-any.whl (5.5 MB)\n",
            "   ---------------------------------------- 0.0/5.5 MB ? eta -:--:--\n",
            "   ------- -------------------------------- 1.0/5.5 MB 32.7 MB/s eta 0:00:01\n",
            "   ---------------------- ----------------- 3.1/5.5 MB 39.4 MB/s eta 0:00:01\n",
            "   ------------------------------------- -- 5.2/5.5 MB 41.3 MB/s eta 0:00:01\n",
            "   ---------------------------------------- 5.5/5.5 MB 31.9 MB/s eta 0:00:00\n",
            "Downloading tensorflow_io_gcs_filesystem-0.31.0-cp311-cp311-win_amd64.whl (1.5 MB)\n",
            "   ---------------------------------------- 0.0/1.5 MB ? eta -:--:--\n",
            "   ---------------------------------------  1.5/1.5 MB 47.6 MB/s eta 0:00:01\n",
            "   ---------------------------------------- 1.5/1.5 MB 23.4 MB/s eta 0:00:00\n",
            "Downloading termcolor-2.4.0-py3-none-any.whl (7.7 kB)\n",
            "Downloading certifi-2024.7.4-py3-none-any.whl (162 kB)\n",
            "   ---------------------------------------- 0.0/163.0 kB ? eta -:--:--\n",
            "   ---------------------------------------- 163.0/163.0 kB 4.9 MB/s eta 0:00:00\n",
            "Downloading charset_normalizer-3.3.2-cp311-cp311-win_amd64.whl (99 kB)\n",
            "   ---------------------------------------- 0.0/99.9 kB ? eta -:--:--\n",
            "   ---------------------------------------- 99.9/99.9 kB 6.0 MB/s eta 0:00:00\n",
            "Downloading idna-3.7-py3-none-any.whl (66 kB)\n",
            "   ---------------------------------------- 0.0/66.8 kB ? eta -:--:--\n",
            "   ---------------------------------------- 66.8/66.8 kB 3.5 MB/s eta 0:00:00\n",
            "Downloading Markdown-3.6-py3-none-any.whl (105 kB)\n",
            "   ---------------------------------------- 0.0/105.4 kB ? eta -:--:--\n",
            "   ---------------------------------------- 105.4/105.4 kB 5.9 MB/s eta 0:00:00\n",
            "Downloading tensorboard_data_server-0.7.2-py3-none-any.whl (2.4 kB)\n",
            "Downloading urllib3-2.2.2-py3-none-any.whl (121 kB)\n",
            "   ---------------------------------------- 0.0/121.4 kB ? eta -:--:--\n",
            "   ---------------------------------------- 121.4/121.4 kB 7.0 MB/s eta 0:00:00\n",
            "Downloading werkzeug-3.0.3-py3-none-any.whl (227 kB)\n",
            "   ---------------------------------------- 0.0/227.3 kB ? eta -:--:--\n",
            "   --------------------------------------- 227.3/227.3 kB 13.6 MB/s eta 0:00:00\n",
            "Using cached wheel-0.44.0-py3-none-any.whl (67 kB)\n",
            "Downloading MarkupSafe-2.1.5-cp311-cp311-win_amd64.whl (17 kB)\n",
            "Installing collected packages: libclang, flatbuffers, wheel, urllib3, termcolor, tensorflow-io-gcs-filesystem, tensorboard-data-server, protobuf, opt-einsum, MarkupSafe, markdown, idna, grpcio, google-pasta, gast, charset-normalizer, certifi, werkzeug, requests, astunparse, tensorboard, tensorflow-intel, tensorflow\n",
            "Successfully installed MarkupSafe-2.1.5 astunparse-1.6.3 certifi-2024.7.4 charset-normalizer-3.3.2 flatbuffers-24.3.25 gast-0.6.0 google-pasta-0.2.0 grpcio-1.65.4 idna-3.7 libclang-18.1.1 markdown-3.6 opt-einsum-3.3.0 protobuf-4.25.4 requests-2.32.3 tensorboard-2.17.1 tensorboard-data-server-0.7.2 tensorflow-2.17.0 tensorflow-intel-2.17.0 tensorflow-io-gcs-filesystem-0.31.0 termcolor-2.4.0 urllib3-2.2.2 werkzeug-3.0.3 wheel-0.44.0\n"
          ]
        },
        {
          "data": {
            "text/plain": [
              "['ERROR: Could not find a version that satisfies the requirement keras-layers (from versions: none)',\n",
              " 'ERROR: No matching distribution found for keras-layers',\n",
              " '',\n",
              " '[notice] A new release of pip is available: 24.0 -> 24.2',\n",
              " '[notice] To update, run: C:\\\\Users\\\\Esmaeil Khoshnood\\\\AppData\\\\Local\\\\Microsoft\\\\WindowsApps\\\\PythonSoftwareFoundation.Python.3.11_qbz5n2kfra8p0\\\\python.exe -m pip install --upgrade pip']"
            ]
          },
          "execution_count": 32,
          "metadata": {},
          "output_type": "execute_result"
        }
      ],
      "source": [
        "! pip install keras\n",
        "! pip install tensorflow\n",
        "!! pip install keras-preprocessing\n",
        "!! pip install keras-layers"
      ]
    },
    {
      "cell_type": "markdown",
      "metadata": {},
      "source": [
        "# Extract Features from Words\n"
      ]
    },
    {
      "cell_type": "markdown",
      "metadata": {},
      "source": [
        "## Use Glove Pre-train\n"
      ]
    },
    {
      "cell_type": "code",
      "execution_count": 35,
      "metadata": {},
      "outputs": [
        {
          "data": {
            "text/plain": [
              "['Collecting matplotlib',\n",
              " '  Using cached matplotlib-3.9.2-cp311-cp311-win_amd64.whl.metadata (11 kB)',\n",
              " 'Collecting contourpy>=1.0.1 (from matplotlib)',\n",
              " '  Using cached contourpy-1.2.1-cp311-cp311-win_amd64.whl.metadata (5.8 kB)',\n",
              " 'Collecting cycler>=0.10 (from matplotlib)',\n",
              " '  Using cached cycler-0.12.1-py3-none-any.whl.metadata (3.8 kB)',\n",
              " 'Requirement already satisfied: fonttools>=4.22.0 in c:\\\\users\\\\esmaeil khoshnood\\\\appdata\\\\local\\\\packages\\\\pythonsoftwarefoundation.python.3.11_qbz5n2kfra8p0\\\\localcache\\\\local-packages\\\\python311\\\\site-packages (from matplotlib) (4.53.1)',\n",
              " 'Requirement already satisfied: kiwisolver>=1.3.1 in c:\\\\users\\\\esmaeil khoshnood\\\\appdata\\\\local\\\\packages\\\\pythonsoftwarefoundation.python.3.11_qbz5n2kfra8p0\\\\localcache\\\\local-packages\\\\python311\\\\site-packages (from matplotlib) (1.4.5)',\n",
              " 'Requirement already satisfied: numpy>=1.23 in c:\\\\users\\\\esmaeil khoshnood\\\\appdata\\\\local\\\\packages\\\\pythonsoftwarefoundation.python.3.11_qbz5n2kfra8p0\\\\localcache\\\\local-packages\\\\python311\\\\site-packages (from matplotlib) (1.26.4)',\n",
              " 'Requirement already satisfied: packaging>=20.0 in c:\\\\users\\\\esmaeil khoshnood\\\\appdata\\\\local\\\\packages\\\\pythonsoftwarefoundation.python.3.11_qbz5n2kfra8p0\\\\localcache\\\\local-packages\\\\python311\\\\site-packages (from matplotlib) (24.1)',\n",
              " 'Requirement already satisfied: pillow>=8 in c:\\\\users\\\\esmaeil khoshnood\\\\appdata\\\\local\\\\packages\\\\pythonsoftwarefoundation.python.3.11_qbz5n2kfra8p0\\\\localcache\\\\local-packages\\\\python311\\\\site-packages (from matplotlib) (10.4.0)',\n",
              " 'Requirement already satisfied: pyparsing>=2.3.1 in c:\\\\users\\\\esmaeil khoshnood\\\\appdata\\\\local\\\\packages\\\\pythonsoftwarefoundation.python.3.11_qbz5n2kfra8p0\\\\localcache\\\\local-packages\\\\python311\\\\site-packages (from matplotlib) (3.1.2)',\n",
              " 'Requirement already satisfied: python-dateutil>=2.7 in c:\\\\users\\\\esmaeil khoshnood\\\\appdata\\\\local\\\\packages\\\\pythonsoftwarefoundation.python.3.11_qbz5n2kfra8p0\\\\localcache\\\\local-packages\\\\python311\\\\site-packages (from matplotlib) (2.9.0.post0)',\n",
              " 'Requirement already satisfied: six>=1.5 in c:\\\\users\\\\esmaeil khoshnood\\\\appdata\\\\local\\\\packages\\\\pythonsoftwarefoundation.python.3.11_qbz5n2kfra8p0\\\\localcache\\\\local-packages\\\\python311\\\\site-packages (from python-dateutil>=2.7->matplotlib) (1.16.0)',\n",
              " 'Using cached matplotlib-3.9.2-cp311-cp311-win_amd64.whl (7.8 MB)',\n",
              " 'Using cached contourpy-1.2.1-cp311-cp311-win_amd64.whl (188 kB)',\n",
              " 'Using cached cycler-0.12.1-py3-none-any.whl (8.3 kB)',\n",
              " 'Installing collected packages: cycler, contourpy, matplotlib',\n",
              " 'Successfully installed contourpy-1.2.1 cycler-0.12.1 matplotlib-3.9.2',\n",
              " '',\n",
              " '[notice] A new release of pip is available: 24.0 -> 24.2',\n",
              " '[notice] To update, run: C:\\\\Users\\\\Esmaeil Khoshnood\\\\AppData\\\\Local\\\\Microsoft\\\\WindowsApps\\\\PythonSoftwareFoundation.Python.3.11_qbz5n2kfra8p0\\\\python.exe -m pip install --upgrade pip']"
            ]
          },
          "execution_count": 35,
          "metadata": {},
          "output_type": "execute_result"
        }
      ],
      "source": [
        "!! pip install matplotlib\n"
      ]
    },
    {
      "cell_type": "code",
      "execution_count": 37,
      "metadata": {},
      "outputs": [],
      "source": [
        "import matplotlib.pyplot as plt\n",
        "from tensorflow.keras.preprocessing.text import Tokenizer\n",
        "from tensorflow.keras.utils import pad_sequences\n",
        "from tensorflow.keras.layers import Dense, Input, LSTM, Embedding, Dropout, Activation, Conv1D, GRU\n",
        "from tensorflow.keras.layers import Bidirectional, GlobalMaxPool1D\n",
        "from tensorflow.keras.models import Model\n",
        "from tensorflow.keras import initializers, regularizers, constraints, optimizers, layers"
      ]
    },
    {
      "cell_type": "code",
      "execution_count": 38,
      "metadata": {},
      "outputs": [],
      "source": [
        "maxlen = 2000\n",
        "max_features = 50000"
      ]
    },
    {
      "cell_type": "code",
      "execution_count": 39,
      "metadata": {},
      "outputs": [],
      "source": [
        "EMBEDDING_FILE = 'glove.6B.300d.txt'\n",
        "tokenizer = Tokenizer(num_words=max_features)"
      ]
    },
    {
      "cell_type": "code",
      "execution_count": 40,
      "metadata": {},
      "outputs": [],
      "source": [
        "tokenizer.fit_on_texts(x_train)"
      ]
    },
    {
      "cell_type": "code",
      "execution_count": 41,
      "metadata": {},
      "outputs": [],
      "source": [
        "x_train_sequences = tokenizer.texts_to_sequences(x_train)\n",
        "x_test_sequences = tokenizer.texts_to_sequences(x_test)\n",
        "\n",
        "x_train_features = pad_sequences(x_train_sequences, maxlen=maxlen)\n",
        "x_test_features = pad_sequences(x_test_sequences, maxlen=maxlen)\n",
        "\n",
        "# Now x_train_features and x_test_features are ready to be used for model input\n"
      ]
    },
    {
      "cell_type": "code",
      "execution_count": 43,
      "metadata": {},
      "outputs": [
        {
          "name": "stdout",
          "output_type": "stream",
          "text": [
            "Embedding size: 300\n",
            "Mean of embeddings: -0.003905011573806405\n",
            "Standard deviation of embeddings: 0.3817702829837799\n"
          ]
        }
      ],
      "source": [
        "import numpy as np\n",
        "\n",
        "def get_coefs(word, *arr):\n",
        "    return word, np.asarray(arr, dtype='float32')\n",
        "\n",
        "# Specify the correct encoding, typically 'utf-8'\n",
        "with open(EMBEDDING_FILE, encoding='utf-8') as f:\n",
        "    embeddings_index = dict(get_coefs(*o.strip().split(\" \")) for o in f)\n",
        "\n",
        "# Convert the dictionary values to a list\n",
        "all_embs = np.stack(list(embeddings_index.values()))\n",
        "emb_mean, emb_std = all_embs.mean(), all_embs.std()\n",
        "embed_size = all_embs.shape[1]\n",
        "\n",
        "print(f\"Embedding size: {embed_size}\")\n",
        "print(f\"Mean of embeddings: {emb_mean}\")\n",
        "print(f\"Standard deviation of embeddings: {emb_std}\")\n"
      ]
    },
    {
      "cell_type": "code",
      "execution_count": 44,
      "metadata": {},
      "outputs": [
        {
          "name": "stdout",
          "output_type": "stream",
          "text": [
            "Collecting keras-tuner\n",
            "  Downloading keras_tuner-1.4.7-py3-none-any.whl.metadata (5.4 kB)\n",
            "Requirement already satisfied: keras in c:\\users\\esmaeil khoshnood\\appdata\\local\\packages\\pythonsoftwarefoundation.python.3.11_qbz5n2kfra8p0\\localcache\\local-packages\\python311\\site-packages (from keras-tuner) (3.5.0)\n",
            "Requirement already satisfied: packaging in c:\\users\\esmaeil khoshnood\\appdata\\local\\packages\\pythonsoftwarefoundation.python.3.11_qbz5n2kfra8p0\\localcache\\local-packages\\python311\\site-packages (from keras-tuner) (24.1)\n",
            "Requirement already satisfied: requests in c:\\users\\esmaeil khoshnood\\appdata\\local\\packages\\pythonsoftwarefoundation.python.3.11_qbz5n2kfra8p0\\localcache\\local-packages\\python311\\site-packages (from keras-tuner) (2.32.3)\n",
            "Collecting kt-legacy (from keras-tuner)\n",
            "  Downloading kt_legacy-1.0.5-py3-none-any.whl.metadata (221 bytes)\n",
            "Requirement already satisfied: absl-py in c:\\users\\esmaeil khoshnood\\appdata\\local\\packages\\pythonsoftwarefoundation.python.3.11_qbz5n2kfra8p0\\localcache\\local-packages\\python311\\site-packages (from keras->keras-tuner) (2.1.0)\n",
            "Requirement already satisfied: numpy in c:\\users\\esmaeil khoshnood\\appdata\\local\\packages\\pythonsoftwarefoundation.python.3.11_qbz5n2kfra8p0\\localcache\\local-packages\\python311\\site-packages (from keras->keras-tuner) (1.26.4)\n",
            "Requirement already satisfied: rich in c:\\users\\esmaeil khoshnood\\appdata\\local\\packages\\pythonsoftwarefoundation.python.3.11_qbz5n2kfra8p0\\localcache\\local-packages\\python311\\site-packages (from keras->keras-tuner) (13.7.1)\n",
            "Requirement already satisfied: namex in c:\\users\\esmaeil khoshnood\\appdata\\local\\packages\\pythonsoftwarefoundation.python.3.11_qbz5n2kfra8p0\\localcache\\local-packages\\python311\\site-packages (from keras->keras-tuner) (0.0.8)\n",
            "Requirement already satisfied: h5py in c:\\users\\esmaeil khoshnood\\appdata\\local\\packages\\pythonsoftwarefoundation.python.3.11_qbz5n2kfra8p0\\localcache\\local-packages\\python311\\site-packages (from keras->keras-tuner) (3.11.0)\n",
            "Requirement already satisfied: optree in c:\\users\\esmaeil khoshnood\\appdata\\local\\packages\\pythonsoftwarefoundation.python.3.11_qbz5n2kfra8p0\\localcache\\local-packages\\python311\\site-packages (from keras->keras-tuner) (0.12.1)\n",
            "Requirement already satisfied: ml-dtypes in c:\\users\\esmaeil khoshnood\\appdata\\local\\packages\\pythonsoftwarefoundation.python.3.11_qbz5n2kfra8p0\\localcache\\local-packages\\python311\\site-packages (from keras->keras-tuner) (0.4.0)\n",
            "Requirement already satisfied: charset-normalizer<4,>=2 in c:\\users\\esmaeil khoshnood\\appdata\\local\\packages\\pythonsoftwarefoundation.python.3.11_qbz5n2kfra8p0\\localcache\\local-packages\\python311\\site-packages (from requests->keras-tuner) (3.3.2)\n",
            "Requirement already satisfied: idna<4,>=2.5 in c:\\users\\esmaeil khoshnood\\appdata\\local\\packages\\pythonsoftwarefoundation.python.3.11_qbz5n2kfra8p0\\localcache\\local-packages\\python311\\site-packages (from requests->keras-tuner) (3.7)\n",
            "Requirement already satisfied: urllib3<3,>=1.21.1 in c:\\users\\esmaeil khoshnood\\appdata\\local\\packages\\pythonsoftwarefoundation.python.3.11_qbz5n2kfra8p0\\localcache\\local-packages\\python311\\site-packages (from requests->keras-tuner) (2.2.2)\n",
            "Requirement already satisfied: certifi>=2017.4.17 in c:\\users\\esmaeil khoshnood\\appdata\\local\\packages\\pythonsoftwarefoundation.python.3.11_qbz5n2kfra8p0\\localcache\\local-packages\\python311\\site-packages (from requests->keras-tuner) (2024.7.4)\n",
            "Requirement already satisfied: typing-extensions>=4.5.0 in c:\\users\\esmaeil khoshnood\\appdata\\local\\packages\\pythonsoftwarefoundation.python.3.11_qbz5n2kfra8p0\\localcache\\local-packages\\python311\\site-packages (from optree->keras->keras-tuner) (4.12.2)\n",
            "Requirement already satisfied: markdown-it-py>=2.2.0 in c:\\users\\esmaeil khoshnood\\appdata\\local\\packages\\pythonsoftwarefoundation.python.3.11_qbz5n2kfra8p0\\localcache\\local-packages\\python311\\site-packages (from rich->keras->keras-tuner) (3.0.0)\n",
            "Requirement already satisfied: pygments<3.0.0,>=2.13.0 in c:\\users\\esmaeil khoshnood\\appdata\\local\\packages\\pythonsoftwarefoundation.python.3.11_qbz5n2kfra8p0\\localcache\\local-packages\\python311\\site-packages (from rich->keras->keras-tuner) (2.18.0)\n",
            "Requirement already satisfied: mdurl~=0.1 in c:\\users\\esmaeil khoshnood\\appdata\\local\\packages\\pythonsoftwarefoundation.python.3.11_qbz5n2kfra8p0\\localcache\\local-packages\\python311\\site-packages (from markdown-it-py>=2.2.0->rich->keras->keras-tuner) (0.1.2)\n",
            "Downloading keras_tuner-1.4.7-py3-none-any.whl (129 kB)\n",
            "   ---------------------------------------- 0.0/129.1 kB ? eta -:--:--\n",
            "   ---------------------------------------- 129.1/129.1 kB 3.8 MB/s eta 0:00:00\n",
            "Downloading kt_legacy-1.0.5-py3-none-any.whl (9.6 kB)\n",
            "Installing collected packages: kt-legacy, keras-tuner\n",
            "Successfully installed keras-tuner-1.4.7 kt-legacy-1.0.5\n"
          ]
        },
        {
          "name": "stderr",
          "output_type": "stream",
          "text": [
            "\n",
            "[notice] A new release of pip is available: 24.0 -> 24.2\n",
            "[notice] To update, run: C:\\Users\\Esmaeil Khoshnood\\AppData\\Local\\Microsoft\\WindowsApps\\PythonSoftwareFoundation.Python.3.11_qbz5n2kfra8p0\\python.exe -m pip install --upgrade pip\n"
          ]
        },
        {
          "name": "stdout",
          "output_type": "stream",
          "text": [
            "Name: tensorflow\n",
            "Version: 2.17.0\n",
            "Summary: TensorFlow is an open source machine learning framework for everyone.\n",
            "Home-page: https://www.tensorflow.org/\n",
            "Author: Google Inc.\n",
            "Author-email: packages@tensorflow.org\n",
            "License: Apache 2.0\n",
            "Location: C:\\Users\\Esmaeil Khoshnood\\AppData\\Local\\Packages\\PythonSoftwareFoundation.Python.3.11_qbz5n2kfra8p0\\LocalCache\\local-packages\\Python311\\site-packages\n",
            "Requires: tensorflow-intel\n",
            "Required-by: \n",
            "---\n",
            "Name: keras\n",
            "Version: 3.5.0\n",
            "Summary: Multi-backend Keras.\n",
            "Home-page: https://github.com/keras-team/keras\n",
            "Author: Keras team\n",
            "Author-email: keras-users@googlegroups.com\n",
            "License: Apache License 2.0\n",
            "Location: C:\\Users\\Esmaeil Khoshnood\\AppData\\Local\\Packages\\PythonSoftwareFoundation.Python.3.11_qbz5n2kfra8p0\\LocalCache\\local-packages\\Python311\\site-packages\n",
            "Requires: absl-py, h5py, ml-dtypes, namex, numpy, optree, packaging, rich\n",
            "Required-by: keras-tuner, tensorflow-intel\n",
            "---\n",
            "Name: keras-tuner\n",
            "Version: 1.4.7\n",
            "Summary: A Hyperparameter Tuning Library for Keras\n",
            "Home-page: https://github.com/keras-team/keras-tuner\n",
            "Author: The KerasTuner authors\n",
            "Author-email: \n",
            "License: Apache License 2.0\n",
            "Location: C:\\Users\\Esmaeil Khoshnood\\AppData\\Local\\Packages\\PythonSoftwareFoundation.Python.3.11_qbz5n2kfra8p0\\LocalCache\\local-packages\\Python311\\site-packages\n",
            "Requires: keras, kt-legacy, packaging, requests\n",
            "Required-by: \n",
            "Collecting keras-models\n",
            "  Downloading keras_models-0.0.7-py3-none-any.whl.metadata (3.4 kB)\n",
            "Requirement already satisfied: keras in c:\\users\\esmaeil khoshnood\\appdata\\local\\packages\\pythonsoftwarefoundation.python.3.11_qbz5n2kfra8p0\\localcache\\local-packages\\python311\\site-packages (from keras-models) (3.5.0)\n",
            "Requirement already satisfied: numpy in c:\\users\\esmaeil khoshnood\\appdata\\local\\packages\\pythonsoftwarefoundation.python.3.11_qbz5n2kfra8p0\\localcache\\local-packages\\python311\\site-packages (from keras-models) (1.26.4)\n",
            "Collecting spacy (from keras-models)\n",
            "  Downloading spacy-3.7.5-cp311-cp311-win_amd64.whl.metadata (27 kB)\n",
            "Requirement already satisfied: Pillow in c:\\users\\esmaeil khoshnood\\appdata\\local\\packages\\pythonsoftwarefoundation.python.3.11_qbz5n2kfra8p0\\localcache\\local-packages\\python311\\site-packages (from keras-models) (10.4.0)\n",
            "Collecting opencv-python (from keras-models)\n",
            "  Downloading opencv_python-4.10.0.84-cp37-abi3-win_amd64.whl.metadata (20 kB)\n",
            "Collecting pathlib (from keras-models)\n",
            "  Downloading pathlib-1.0.1-py3-none-any.whl.metadata (5.1 kB)\n",
            "Requirement already satisfied: absl-py in c:\\users\\esmaeil khoshnood\\appdata\\local\\packages\\pythonsoftwarefoundation.python.3.11_qbz5n2kfra8p0\\localcache\\local-packages\\python311\\site-packages (from keras->keras-models) (2.1.0)\n",
            "Requirement already satisfied: rich in c:\\users\\esmaeil khoshnood\\appdata\\local\\packages\\pythonsoftwarefoundation.python.3.11_qbz5n2kfra8p0\\localcache\\local-packages\\python311\\site-packages (from keras->keras-models) (13.7.1)\n",
            "Requirement already satisfied: namex in c:\\users\\esmaeil khoshnood\\appdata\\local\\packages\\pythonsoftwarefoundation.python.3.11_qbz5n2kfra8p0\\localcache\\local-packages\\python311\\site-packages (from keras->keras-models) (0.0.8)\n",
            "Requirement already satisfied: h5py in c:\\users\\esmaeil khoshnood\\appdata\\local\\packages\\pythonsoftwarefoundation.python.3.11_qbz5n2kfra8p0\\localcache\\local-packages\\python311\\site-packages (from keras->keras-models) (3.11.0)\n",
            "Requirement already satisfied: optree in c:\\users\\esmaeil khoshnood\\appdata\\local\\packages\\pythonsoftwarefoundation.python.3.11_qbz5n2kfra8p0\\localcache\\local-packages\\python311\\site-packages (from keras->keras-models) (0.12.1)\n",
            "Requirement already satisfied: ml-dtypes in c:\\users\\esmaeil khoshnood\\appdata\\local\\packages\\pythonsoftwarefoundation.python.3.11_qbz5n2kfra8p0\\localcache\\local-packages\\python311\\site-packages (from keras->keras-models) (0.4.0)\n",
            "Requirement already satisfied: packaging in c:\\users\\esmaeil khoshnood\\appdata\\local\\packages\\pythonsoftwarefoundation.python.3.11_qbz5n2kfra8p0\\localcache\\local-packages\\python311\\site-packages (from keras->keras-models) (24.1)\n",
            "Collecting spacy-legacy<3.1.0,>=3.0.11 (from spacy->keras-models)\n",
            "  Downloading spacy_legacy-3.0.12-py2.py3-none-any.whl.metadata (2.8 kB)\n",
            "Collecting spacy-loggers<2.0.0,>=1.0.0 (from spacy->keras-models)\n",
            "  Downloading spacy_loggers-1.0.5-py3-none-any.whl.metadata (23 kB)\n",
            "Collecting murmurhash<1.1.0,>=0.28.0 (from spacy->keras-models)\n",
            "  Downloading murmurhash-1.0.10-cp311-cp311-win_amd64.whl.metadata (2.0 kB)\n",
            "Collecting cymem<2.1.0,>=2.0.2 (from spacy->keras-models)\n",
            "  Downloading cymem-2.0.8-cp311-cp311-win_amd64.whl.metadata (8.6 kB)\n",
            "Collecting preshed<3.1.0,>=3.0.2 (from spacy->keras-models)\n",
            "  Downloading preshed-3.0.9-cp311-cp311-win_amd64.whl.metadata (2.2 kB)\n",
            "Collecting thinc<8.3.0,>=8.2.2 (from spacy->keras-models)\n",
            "  Downloading thinc-8.2.5-cp311-cp311-win_amd64.whl.metadata (15 kB)\n",
            "Collecting wasabi<1.2.0,>=0.9.1 (from spacy->keras-models)\n",
            "  Downloading wasabi-1.1.3-py3-none-any.whl.metadata (28 kB)\n",
            "Collecting srsly<3.0.0,>=2.4.3 (from spacy->keras-models)\n",
            "  Downloading srsly-2.4.8-cp311-cp311-win_amd64.whl.metadata (20 kB)\n",
            "Collecting catalogue<2.1.0,>=2.0.6 (from spacy->keras-models)\n",
            "  Downloading catalogue-2.0.10-py3-none-any.whl.metadata (14 kB)\n",
            "Collecting weasel<0.5.0,>=0.1.0 (from spacy->keras-models)\n",
            "  Downloading weasel-0.4.1-py3-none-any.whl.metadata (4.6 kB)\n",
            "Collecting typer<1.0.0,>=0.3.0 (from spacy->keras-models)\n",
            "  Downloading typer-0.12.3-py3-none-any.whl.metadata (15 kB)\n",
            "Requirement already satisfied: tqdm<5.0.0,>=4.38.0 in c:\\users\\esmaeil khoshnood\\appdata\\local\\packages\\pythonsoftwarefoundation.python.3.11_qbz5n2kfra8p0\\localcache\\local-packages\\python311\\site-packages (from spacy->keras-models) (4.66.5)\n",
            "Requirement already satisfied: requests<3.0.0,>=2.13.0 in c:\\users\\esmaeil khoshnood\\appdata\\local\\packages\\pythonsoftwarefoundation.python.3.11_qbz5n2kfra8p0\\localcache\\local-packages\\python311\\site-packages (from spacy->keras-models) (2.32.3)\n",
            "Collecting pydantic!=1.8,!=1.8.1,<3.0.0,>=1.7.4 (from spacy->keras-models)\n",
            "  Downloading pydantic-2.8.2-py3-none-any.whl.metadata (125 kB)\n",
            "     ---------------------------------------- 0.0/125.2 kB ? eta -:--:--\n",
            "     -------------------------------------- 125.2/125.2 kB 3.7 MB/s eta 0:00:00\n",
            "Collecting jinja2 (from spacy->keras-models)\n",
            "  Downloading jinja2-3.1.4-py3-none-any.whl.metadata (2.6 kB)\n",
            "Requirement already satisfied: setuptools in c:\\program files\\windowsapps\\pythonsoftwarefoundation.python.3.11_3.11.2544.0_x64__qbz5n2kfra8p0\\lib\\site-packages (from spacy->keras-models) (65.5.0)\n",
            "Collecting langcodes<4.0.0,>=3.2.0 (from spacy->keras-models)\n",
            "  Downloading langcodes-3.4.0-py3-none-any.whl.metadata (29 kB)\n",
            "Collecting language-data>=1.2 (from langcodes<4.0.0,>=3.2.0->spacy->keras-models)\n",
            "  Downloading language_data-1.2.0-py3-none-any.whl.metadata (4.3 kB)\n",
            "Collecting annotated-types>=0.4.0 (from pydantic!=1.8,!=1.8.1,<3.0.0,>=1.7.4->spacy->keras-models)\n",
            "  Downloading annotated_types-0.7.0-py3-none-any.whl.metadata (15 kB)\n",
            "Collecting pydantic-core==2.20.1 (from pydantic!=1.8,!=1.8.1,<3.0.0,>=1.7.4->spacy->keras-models)\n",
            "  Downloading pydantic_core-2.20.1-cp311-none-win_amd64.whl.metadata (6.7 kB)\n",
            "Requirement already satisfied: typing-extensions>=4.6.1 in c:\\users\\esmaeil khoshnood\\appdata\\local\\packages\\pythonsoftwarefoundation.python.3.11_qbz5n2kfra8p0\\localcache\\local-packages\\python311\\site-packages (from pydantic!=1.8,!=1.8.1,<3.0.0,>=1.7.4->spacy->keras-models) (4.12.2)\n",
            "Requirement already satisfied: charset-normalizer<4,>=2 in c:\\users\\esmaeil khoshnood\\appdata\\local\\packages\\pythonsoftwarefoundation.python.3.11_qbz5n2kfra8p0\\localcache\\local-packages\\python311\\site-packages (from requests<3.0.0,>=2.13.0->spacy->keras-models) (3.3.2)\n",
            "Requirement already satisfied: idna<4,>=2.5 in c:\\users\\esmaeil khoshnood\\appdata\\local\\packages\\pythonsoftwarefoundation.python.3.11_qbz5n2kfra8p0\\localcache\\local-packages\\python311\\site-packages (from requests<3.0.0,>=2.13.0->spacy->keras-models) (3.7)\n",
            "Requirement already satisfied: urllib3<3,>=1.21.1 in c:\\users\\esmaeil khoshnood\\appdata\\local\\packages\\pythonsoftwarefoundation.python.3.11_qbz5n2kfra8p0\\localcache\\local-packages\\python311\\site-packages (from requests<3.0.0,>=2.13.0->spacy->keras-models) (2.2.2)\n",
            "Requirement already satisfied: certifi>=2017.4.17 in c:\\users\\esmaeil khoshnood\\appdata\\local\\packages\\pythonsoftwarefoundation.python.3.11_qbz5n2kfra8p0\\localcache\\local-packages\\python311\\site-packages (from requests<3.0.0,>=2.13.0->spacy->keras-models) (2024.7.4)\n",
            "Collecting blis<0.8.0,>=0.7.8 (from thinc<8.3.0,>=8.2.2->spacy->keras-models)\n",
            "  Downloading blis-0.7.11-cp311-cp311-win_amd64.whl.metadata (7.6 kB)\n",
            "Collecting confection<1.0.0,>=0.0.1 (from thinc<8.3.0,>=8.2.2->spacy->keras-models)\n",
            "  Downloading confection-0.1.5-py3-none-any.whl.metadata (19 kB)\n",
            "Requirement already satisfied: colorama in c:\\users\\esmaeil khoshnood\\appdata\\local\\packages\\pythonsoftwarefoundation.python.3.11_qbz5n2kfra8p0\\localcache\\local-packages\\python311\\site-packages (from tqdm<5.0.0,>=4.38.0->spacy->keras-models) (0.4.6)\n",
            "Requirement already satisfied: click>=8.0.0 in c:\\users\\esmaeil khoshnood\\appdata\\local\\packages\\pythonsoftwarefoundation.python.3.11_qbz5n2kfra8p0\\localcache\\local-packages\\python311\\site-packages (from typer<1.0.0,>=0.3.0->spacy->keras-models) (8.1.7)\n",
            "Collecting shellingham>=1.3.0 (from typer<1.0.0,>=0.3.0->spacy->keras-models)\n",
            "  Downloading shellingham-1.5.4-py2.py3-none-any.whl.metadata (3.5 kB)\n",
            "Requirement already satisfied: markdown-it-py>=2.2.0 in c:\\users\\esmaeil khoshnood\\appdata\\local\\packages\\pythonsoftwarefoundation.python.3.11_qbz5n2kfra8p0\\localcache\\local-packages\\python311\\site-packages (from rich->keras->keras-models) (3.0.0)\n",
            "Requirement already satisfied: pygments<3.0.0,>=2.13.0 in c:\\users\\esmaeil khoshnood\\appdata\\local\\packages\\pythonsoftwarefoundation.python.3.11_qbz5n2kfra8p0\\localcache\\local-packages\\python311\\site-packages (from rich->keras->keras-models) (2.18.0)\n",
            "Collecting cloudpathlib<1.0.0,>=0.7.0 (from weasel<0.5.0,>=0.1.0->spacy->keras-models)\n",
            "  Downloading cloudpathlib-0.18.1-py3-none-any.whl.metadata (14 kB)\n",
            "Requirement already satisfied: smart-open<8.0.0,>=5.2.1 in c:\\users\\esmaeil khoshnood\\appdata\\local\\packages\\pythonsoftwarefoundation.python.3.11_qbz5n2kfra8p0\\localcache\\local-packages\\python311\\site-packages (from weasel<0.5.0,>=0.1.0->spacy->keras-models) (7.0.4)\n",
            "Requirement already satisfied: MarkupSafe>=2.0 in c:\\users\\esmaeil khoshnood\\appdata\\local\\packages\\pythonsoftwarefoundation.python.3.11_qbz5n2kfra8p0\\localcache\\local-packages\\python311\\site-packages (from jinja2->spacy->keras-models) (2.1.5)\n",
            "Collecting marisa-trie>=0.7.7 (from language-data>=1.2->langcodes<4.0.0,>=3.2.0->spacy->keras-models)\n",
            "  Downloading marisa_trie-1.2.0-cp311-cp311-win_amd64.whl.metadata (9.0 kB)\n",
            "Requirement already satisfied: mdurl~=0.1 in c:\\users\\esmaeil khoshnood\\appdata\\local\\packages\\pythonsoftwarefoundation.python.3.11_qbz5n2kfra8p0\\localcache\\local-packages\\python311\\site-packages (from markdown-it-py>=2.2.0->rich->keras->keras-models) (0.1.2)\n",
            "Requirement already satisfied: wrapt in c:\\users\\esmaeil khoshnood\\appdata\\local\\packages\\pythonsoftwarefoundation.python.3.11_qbz5n2kfra8p0\\localcache\\local-packages\\python311\\site-packages (from smart-open<8.0.0,>=5.2.1->weasel<0.5.0,>=0.1.0->spacy->keras-models) (1.16.0)\n",
            "Downloading keras_models-0.0.7-py3-none-any.whl (18 kB)\n",
            "Downloading opencv_python-4.10.0.84-cp37-abi3-win_amd64.whl (38.8 MB)\n",
            "   ---------------------------------------- 0.0/38.8 MB ? eta -:--:--\n",
            "    --------------------------------------- 0.6/38.8 MB 20.5 MB/s eta 0:00:02\n",
            "   -- ------------------------------------- 2.3/38.8 MB 29.4 MB/s eta 0:00:02\n",
            "   ---- ----------------------------------- 4.1/38.8 MB 32.9 MB/s eta 0:00:02\n",
            "   ----- ---------------------------------- 5.6/38.8 MB 32.6 MB/s eta 0:00:02\n",
            "   ------ --------------------------------- 6.2/38.8 MB 28.2 MB/s eta 0:00:02\n",
            "   ------- -------------------------------- 6.8/38.8 MB 25.7 MB/s eta 0:00:02\n",
            "   -------- ------------------------------- 8.0/38.8 MB 24.5 MB/s eta 0:00:02\n",
            "   --------- ------------------------------ 8.8/38.8 MB 23.6 MB/s eta 0:00:02\n",
            "   ---------- ----------------------------- 10.0/38.8 MB 23.7 MB/s eta 0:00:02\n",
            "   ----------- ---------------------------- 11.4/38.8 MB 25.2 MB/s eta 0:00:02\n",
            "   ------------ --------------------------- 11.9/38.8 MB 22.6 MB/s eta 0:00:02\n",
            "   ------------- -------------------------- 13.5/38.8 MB 22.5 MB/s eta 0:00:02\n",
            "   --------------- ------------------------ 15.1/38.8 MB 22.6 MB/s eta 0:00:02\n",
            "   ----------------- ---------------------- 16.6/38.8 MB 24.2 MB/s eta 0:00:01\n",
            "   ------------------ --------------------- 18.1/38.8 MB 26.2 MB/s eta 0:00:01\n",
            "   -------------------- ------------------- 19.8/38.8 MB 29.7 MB/s eta 0:00:01\n",
            "   ---------------------- ----------------- 21.8/38.8 MB 32.7 MB/s eta 0:00:01\n",
            "   ----------------------- ---------------- 23.0/38.8 MB 34.4 MB/s eta 0:00:01\n",
            "   ------------------------ --------------- 24.1/38.8 MB 34.4 MB/s eta 0:00:01\n",
            "   -------------------------- ------------- 26.1/38.8 MB 34.4 MB/s eta 0:00:01\n",
            "   ---------------------------- ----------- 28.0/38.8 MB 36.4 MB/s eta 0:00:01\n",
            "   ------------------------------ --------- 30.0/38.8 MB 36.4 MB/s eta 0:00:01\n",
            "   -------------------------------- ------- 32.0/38.8 MB 36.4 MB/s eta 0:00:01\n",
            "   ---------------------------------- ----- 33.9/38.8 MB 43.7 MB/s eta 0:00:01\n",
            "   ------------------------------------ --- 35.8/38.8 MB 43.7 MB/s eta 0:00:01\n",
            "   -------------------------------------- - 37.3/38.8 MB 40.9 MB/s eta 0:00:01\n",
            "   ---------------------------------------  38.8/38.8 MB 38.5 MB/s eta 0:00:01\n",
            "   ---------------------------------------  38.8/38.8 MB 38.5 MB/s eta 0:00:01\n",
            "   ---------------------------------------  38.8/38.8 MB 38.5 MB/s eta 0:00:01\n",
            "   ---------------------------------------  38.8/38.8 MB 38.5 MB/s eta 0:00:01\n",
            "   ---------------------------------------- 38.8/38.8 MB 25.2 MB/s eta 0:00:00\n",
            "Downloading pathlib-1.0.1-py3-none-any.whl (14 kB)\n",
            "Downloading spacy-3.7.5-cp311-cp311-win_amd64.whl (12.1 MB)\n",
            "   ---------------------------------------- 0.0/12.1 MB ? eta -:--:--\n",
            "   ------- -------------------------------- 2.2/12.1 MB 46.6 MB/s eta 0:00:01\n",
            "   ------------ --------------------------- 3.6/12.1 MB 39.1 MB/s eta 0:00:01\n",
            "   ------------- -------------------------- 4.2/12.1 MB 30.0 MB/s eta 0:00:01\n",
            "   ---------------- ----------------------- 5.1/12.1 MB 27.2 MB/s eta 0:00:01\n",
            "   ---------------------- ----------------- 6.9/12.1 MB 27.5 MB/s eta 0:00:01\n",
            "   ----------------------------- ---------- 8.9/12.1 MB 29.9 MB/s eta 0:00:01\n",
            "   ----------------------------------- ---- 10.7/12.1 MB 31.2 MB/s eta 0:00:01\n",
            "   ---------------------------------------  12.1/12.1 MB 29.8 MB/s eta 0:00:01\n",
            "   ---------------------------------------  12.1/12.1 MB 29.8 MB/s eta 0:00:01\n",
            "   ---------------------------------------- 12.1/12.1 MB 25.2 MB/s eta 0:00:00\n",
            "Downloading catalogue-2.0.10-py3-none-any.whl (17 kB)\n",
            "Downloading cymem-2.0.8-cp311-cp311-win_amd64.whl (39 kB)\n",
            "Downloading langcodes-3.4.0-py3-none-any.whl (182 kB)\n",
            "   ---------------------------------------- 0.0/182.0 kB ? eta -:--:--\n",
            "   --------------------------------------- 182.0/182.0 kB 11.5 MB/s eta 0:00:00\n",
            "Downloading murmurhash-1.0.10-cp311-cp311-win_amd64.whl (25 kB)\n",
            "Downloading preshed-3.0.9-cp311-cp311-win_amd64.whl (122 kB)\n",
            "   ---------------------------------------- 0.0/122.3 kB ? eta -:--:--\n",
            "   ---------------------------------------- 122.3/122.3 kB 7.5 MB/s eta 0:00:00\n",
            "Downloading pydantic-2.8.2-py3-none-any.whl (423 kB)\n",
            "   ---------------------------------------- 0.0/423.9 kB ? eta -:--:--\n",
            "   --------------------------------------- 423.9/423.9 kB 13.3 MB/s eta 0:00:00\n",
            "Downloading pydantic_core-2.20.1-cp311-none-win_amd64.whl (1.9 MB)\n",
            "   ---------------------------------------- 0.0/1.9 MB ? eta -:--:--\n",
            "   ------------------------------------- -- 1.8/1.9 MB 56.8 MB/s eta 0:00:01\n",
            "   ---------------------------------------- 1.9/1.9 MB 30.5 MB/s eta 0:00:00\n",
            "Downloading spacy_legacy-3.0.12-py2.py3-none-any.whl (29 kB)\n",
            "Downloading spacy_loggers-1.0.5-py3-none-any.whl (22 kB)\n",
            "Downloading srsly-2.4.8-cp311-cp311-win_amd64.whl (479 kB)\n",
            "   ---------------------------------------- 0.0/479.7 kB ? eta -:--:--\n",
            "   --------------------------------------- 479.7/479.7 kB 15.1 MB/s eta 0:00:00\n",
            "Downloading thinc-8.2.5-cp311-cp311-win_amd64.whl (1.5 MB)\n",
            "   ---------------------------------------- 0.0/1.5 MB ? eta -:--:--\n",
            "   ---------------------------------------  1.5/1.5 MB 45.8 MB/s eta 0:00:01\n",
            "   ---------------------------------------- 1.5/1.5 MB 23.3 MB/s eta 0:00:00\n",
            "Downloading typer-0.12.3-py3-none-any.whl (47 kB)\n",
            "   ---------------------------------------- 0.0/47.2 kB ? eta -:--:--\n",
            "   ---------------------------------------- 47.2/47.2 kB 2.3 MB/s eta 0:00:00\n",
            "Downloading wasabi-1.1.3-py3-none-any.whl (27 kB)\n",
            "Downloading weasel-0.4.1-py3-none-any.whl (50 kB)\n",
            "   ---------------------------------------- 0.0/50.3 kB ? eta -:--:--\n",
            "   ---------------------------------------- 50.3/50.3 kB 2.7 MB/s eta 0:00:00\n",
            "Downloading jinja2-3.1.4-py3-none-any.whl (133 kB)\n",
            "   ---------------------------------------- 0.0/133.3 kB ? eta -:--:--\n",
            "   ---------------------------------------- 133.3/133.3 kB 7.7 MB/s eta 0:00:00\n",
            "Downloading annotated_types-0.7.0-py3-none-any.whl (13 kB)\n",
            "Downloading blis-0.7.11-cp311-cp311-win_amd64.whl (6.6 MB)\n",
            "   ---------------------------------------- 0.0/6.6 MB ? eta -:--:--\n",
            "   ------ --------------------------------- 1.0/6.6 MB 33.4 MB/s eta 0:00:01\n",
            "   --------------- ------------------------ 2.5/6.6 MB 40.1 MB/s eta 0:00:01\n",
            "   --------------- ------------------------ 2.5/6.6 MB 40.1 MB/s eta 0:00:01\n",
            "   --------------------- ------------------ 3.5/6.6 MB 22.4 MB/s eta 0:00:01\n",
            "   ------------------------------- -------- 5.2/6.6 MB 25.6 MB/s eta 0:00:01\n",
            "   ------------------------------------- -- 6.2/6.6 MB 24.9 MB/s eta 0:00:01\n",
            "   ---------------------------------------  6.6/6.6 MB 24.8 MB/s eta 0:00:01\n",
            "   ---------------------------------------- 6.6/6.6 MB 21.1 MB/s eta 0:00:00\n",
            "Downloading cloudpathlib-0.18.1-py3-none-any.whl (47 kB)\n",
            "   ---------------------------------------- 0.0/47.3 kB ? eta -:--:--\n",
            "   ---------------------------------------- 47.3/47.3 kB 2.3 MB/s eta 0:00:00\n",
            "Downloading confection-0.1.5-py3-none-any.whl (35 kB)\n",
            "Downloading language_data-1.2.0-py3-none-any.whl (5.4 MB)\n",
            "   ---------------------------------------- 0.0/5.4 MB ? eta -:--:--\n",
            "   --------------- ------------------------ 2.0/5.4 MB 42.9 MB/s eta 0:00:01\n",
            "   -------------------------- ------------- 3.6/5.4 MB 37.7 MB/s eta 0:00:01\n",
            "   -------------------------------------- - 5.2/5.4 MB 37.1 MB/s eta 0:00:01\n",
            "   ---------------------------------------  5.4/5.4 MB 34.2 MB/s eta 0:00:01\n",
            "   ---------------------------------------- 5.4/5.4 MB 26.4 MB/s eta 0:00:00\n",
            "Downloading shellingham-1.5.4-py2.py3-none-any.whl (9.8 kB)\n",
            "Downloading marisa_trie-1.2.0-cp311-cp311-win_amd64.whl (152 kB)\n",
            "   ---------------------------------------- 0.0/152.6 kB ? eta -:--:--\n",
            "   ---------------------------------------- 152.6/152.6 kB 9.5 MB/s eta 0:00:00\n",
            "Installing collected packages: pathlib, cymem, wasabi, spacy-loggers, spacy-legacy, shellingham, pydantic-core, opencv-python, murmurhash, marisa-trie, jinja2, cloudpathlib, catalogue, blis, annotated-types, srsly, pydantic, preshed, language-data, typer, langcodes, confection, weasel, thinc, spacy, keras-models\n",
            "Successfully installed annotated-types-0.7.0 blis-0.7.11 catalogue-2.0.10 cloudpathlib-0.18.1 confection-0.1.5 cymem-2.0.8 jinja2-3.1.4 keras-models-0.0.7 langcodes-3.4.0 language-data-1.2.0 marisa-trie-1.2.0 murmurhash-1.0.10 opencv-python-4.10.0.84 pathlib-1.0.1 preshed-3.0.9 pydantic-2.8.2 pydantic-core-2.20.1 shellingham-1.5.4 spacy-3.7.5 spacy-legacy-3.0.12 spacy-loggers-1.0.5 srsly-2.4.8 thinc-8.2.5 typer-0.12.3 wasabi-1.1.3 weasel-0.4.1\n"
          ]
        },
        {
          "name": "stderr",
          "output_type": "stream",
          "text": [
            "\n",
            "[notice] A new release of pip is available: 24.0 -> 24.2\n",
            "[notice] To update, run: C:\\Users\\Esmaeil Khoshnood\\AppData\\Local\\Microsoft\\WindowsApps\\PythonSoftwareFoundation.Python.3.11_qbz5n2kfra8p0\\python.exe -m pip install --upgrade pip\n",
            "ERROR: Could not find a version that satisfies the requirement keras-random (from versions: none)\n",
            "ERROR: No matching distribution found for keras-random\n",
            "\n",
            "[notice] A new release of pip is available: 24.0 -> 24.2\n",
            "[notice] To update, run: C:\\Users\\Esmaeil Khoshnood\\AppData\\Local\\Microsoft\\WindowsApps\\PythonSoftwareFoundation.Python.3.11_qbz5n2kfra8p0\\python.exe -m pip install --upgrade pip\n"
          ]
        }
      ],
      "source": [
        "! pip install keras-tuner\n",
        "! pip show tensorflow keras keras-tuner\n",
        "! pip install keras-models\n",
        "! pip install keras-random"
      ]
    },
    {
      "cell_type": "code",
      "execution_count": 45,
      "metadata": {},
      "outputs": [],
      "source": [
        "from sklearn.model_selection import train_test_split\n",
        "# Split the training data into train and validation sets\n",
        "X_train, X_val, y_train, y_val = train_test_split(\n",
        "    x_train_features, y_train, test_size=0.2, random_state=42\n",
        ")"
      ]
    },
    {
      "cell_type": "code",
      "execution_count": 46,
      "metadata": {},
      "outputs": [
        {
          "name": "stdout",
          "output_type": "stream",
          "text": [
            "Trial 10 Complete [01h 42m 32s]\n",
            "val_accuracy: 0.9836885929107666\n",
            "\n",
            "Best val_accuracy So Far: 0.9868396520614624\n",
            "Total elapsed time: 16h 53m 21s\n",
            "\n",
            "The hyperparameter search is complete. The optimal number of dense units is 16,\n",
            "the optimal dropout rate is 0.0, and the optimal learning rate is 0.003993492840731953.\n",
            "\n"
          ]
        },
        {
          "data": {
            "text/html": [
              "<pre style=\"white-space:pre;overflow-x:auto;line-height:normal;font-family:Menlo,'DejaVu Sans Mono',consolas,'Courier New',monospace\"><span style=\"font-weight: bold\">Model: \"functional_1\"</span>\n",
              "</pre>\n"
            ],
            "text/plain": [
              "\u001b[1mModel: \"functional_1\"\u001b[0m\n"
            ]
          },
          "metadata": {},
          "output_type": "display_data"
        },
        {
          "data": {
            "text/html": [
              "<pre style=\"white-space:pre;overflow-x:auto;line-height:normal;font-family:Menlo,'DejaVu Sans Mono',consolas,'Courier New',monospace\">┏━━━━━━━━━━━━━━━━━━━━━━━━━━━━━━━━━┳━━━━━━━━━━━━━━━━━━━━━━━━┳━━━━━━━━━━━━━━━┓\n",
              "┃<span style=\"font-weight: bold\"> Layer (type)                    </span>┃<span style=\"font-weight: bold\"> Output Shape           </span>┃<span style=\"font-weight: bold\">       Param # </span>┃\n",
              "┡━━━━━━━━━━━━━━━━━━━━━━━━━━━━━━━━━╇━━━━━━━━━━━━━━━━━━━━━━━━╇━━━━━━━━━━━━━━━┩\n",
              "│ input_layer_1 (<span style=\"color: #0087ff; text-decoration-color: #0087ff\">InputLayer</span>)      │ (<span style=\"color: #00d7ff; text-decoration-color: #00d7ff\">None</span>, <span style=\"color: #00af00; text-decoration-color: #00af00\">2000</span>)           │             <span style=\"color: #00af00; text-decoration-color: #00af00\">0</span> │\n",
              "├─────────────────────────────────┼────────────────────────┼───────────────┤\n",
              "│ embedding_1 (<span style=\"color: #0087ff; text-decoration-color: #0087ff\">Embedding</span>)         │ (<span style=\"color: #00d7ff; text-decoration-color: #00d7ff\">None</span>, <span style=\"color: #00af00; text-decoration-color: #00af00\">2000</span>, <span style=\"color: #00af00; text-decoration-color: #00af00\">100</span>)      │     <span style=\"color: #00af00; text-decoration-color: #00af00\">5,000,000</span> │\n",
              "├─────────────────────────────────┼────────────────────────┼───────────────┤\n",
              "│ bidirectional_1 (<span style=\"color: #0087ff; text-decoration-color: #0087ff\">Bidirectional</span>) │ (<span style=\"color: #00d7ff; text-decoration-color: #00d7ff\">None</span>, <span style=\"color: #00af00; text-decoration-color: #00af00\">2000</span>, <span style=\"color: #00af00; text-decoration-color: #00af00\">128</span>)      │        <span style=\"color: #00af00; text-decoration-color: #00af00\">63,744</span> │\n",
              "├─────────────────────────────────┼────────────────────────┼───────────────┤\n",
              "│ global_max_pooling1d_1          │ (<span style=\"color: #00d7ff; text-decoration-color: #00d7ff\">None</span>, <span style=\"color: #00af00; text-decoration-color: #00af00\">128</span>)            │             <span style=\"color: #00af00; text-decoration-color: #00af00\">0</span> │\n",
              "│ (<span style=\"color: #0087ff; text-decoration-color: #0087ff\">GlobalMaxPooling1D</span>)            │                        │               │\n",
              "├─────────────────────────────────┼────────────────────────┼───────────────┤\n",
              "│ dense_2 (<span style=\"color: #0087ff; text-decoration-color: #0087ff\">Dense</span>)                 │ (<span style=\"color: #00d7ff; text-decoration-color: #00d7ff\">None</span>, <span style=\"color: #00af00; text-decoration-color: #00af00\">16</span>)             │         <span style=\"color: #00af00; text-decoration-color: #00af00\">2,064</span> │\n",
              "├─────────────────────────────────┼────────────────────────┼───────────────┤\n",
              "│ dropout_1 (<span style=\"color: #0087ff; text-decoration-color: #0087ff\">Dropout</span>)             │ (<span style=\"color: #00d7ff; text-decoration-color: #00d7ff\">None</span>, <span style=\"color: #00af00; text-decoration-color: #00af00\">16</span>)             │             <span style=\"color: #00af00; text-decoration-color: #00af00\">0</span> │\n",
              "├─────────────────────────────────┼────────────────────────┼───────────────┤\n",
              "│ dense_3 (<span style=\"color: #0087ff; text-decoration-color: #0087ff\">Dense</span>)                 │ (<span style=\"color: #00d7ff; text-decoration-color: #00d7ff\">None</span>, <span style=\"color: #00af00; text-decoration-color: #00af00\">1</span>)              │            <span style=\"color: #00af00; text-decoration-color: #00af00\">17</span> │\n",
              "└─────────────────────────────────┴────────────────────────┴───────────────┘\n",
              "</pre>\n"
            ],
            "text/plain": [
              "┏━━━━━━━━━━━━━━━━━━━━━━━━━━━━━━━━━┳━━━━━━━━━━━━━━━━━━━━━━━━┳━━━━━━━━━━━━━━━┓\n",
              "┃\u001b[1m \u001b[0m\u001b[1mLayer (type)                   \u001b[0m\u001b[1m \u001b[0m┃\u001b[1m \u001b[0m\u001b[1mOutput Shape          \u001b[0m\u001b[1m \u001b[0m┃\u001b[1m \u001b[0m\u001b[1m      Param #\u001b[0m\u001b[1m \u001b[0m┃\n",
              "┡━━━━━━━━━━━━━━━━━━━━━━━━━━━━━━━━━╇━━━━━━━━━━━━━━━━━━━━━━━━╇━━━━━━━━━━━━━━━┩\n",
              "│ input_layer_1 (\u001b[38;5;33mInputLayer\u001b[0m)      │ (\u001b[38;5;45mNone\u001b[0m, \u001b[38;5;34m2000\u001b[0m)           │             \u001b[38;5;34m0\u001b[0m │\n",
              "├─────────────────────────────────┼────────────────────────┼───────────────┤\n",
              "│ embedding_1 (\u001b[38;5;33mEmbedding\u001b[0m)         │ (\u001b[38;5;45mNone\u001b[0m, \u001b[38;5;34m2000\u001b[0m, \u001b[38;5;34m100\u001b[0m)      │     \u001b[38;5;34m5,000,000\u001b[0m │\n",
              "├─────────────────────────────────┼────────────────────────┼───────────────┤\n",
              "│ bidirectional_1 (\u001b[38;5;33mBidirectional\u001b[0m) │ (\u001b[38;5;45mNone\u001b[0m, \u001b[38;5;34m2000\u001b[0m, \u001b[38;5;34m128\u001b[0m)      │        \u001b[38;5;34m63,744\u001b[0m │\n",
              "├─────────────────────────────────┼────────────────────────┼───────────────┤\n",
              "│ global_max_pooling1d_1          │ (\u001b[38;5;45mNone\u001b[0m, \u001b[38;5;34m128\u001b[0m)            │             \u001b[38;5;34m0\u001b[0m │\n",
              "│ (\u001b[38;5;33mGlobalMaxPooling1D\u001b[0m)            │                        │               │\n",
              "├─────────────────────────────────┼────────────────────────┼───────────────┤\n",
              "│ dense_2 (\u001b[38;5;33mDense\u001b[0m)                 │ (\u001b[38;5;45mNone\u001b[0m, \u001b[38;5;34m16\u001b[0m)             │         \u001b[38;5;34m2,064\u001b[0m │\n",
              "├─────────────────────────────────┼────────────────────────┼───────────────┤\n",
              "│ dropout_1 (\u001b[38;5;33mDropout\u001b[0m)             │ (\u001b[38;5;45mNone\u001b[0m, \u001b[38;5;34m16\u001b[0m)             │             \u001b[38;5;34m0\u001b[0m │\n",
              "├─────────────────────────────────┼────────────────────────┼───────────────┤\n",
              "│ dense_3 (\u001b[38;5;33mDense\u001b[0m)                 │ (\u001b[38;5;45mNone\u001b[0m, \u001b[38;5;34m1\u001b[0m)              │            \u001b[38;5;34m17\u001b[0m │\n",
              "└─────────────────────────────────┴────────────────────────┴───────────────┘\n"
            ]
          },
          "metadata": {},
          "output_type": "display_data"
        },
        {
          "data": {
            "text/html": [
              "<pre style=\"white-space:pre;overflow-x:auto;line-height:normal;font-family:Menlo,'DejaVu Sans Mono',consolas,'Courier New',monospace\"><span style=\"font-weight: bold\"> Total params: </span><span style=\"color: #00af00; text-decoration-color: #00af00\">5,065,825</span> (19.32 MB)\n",
              "</pre>\n"
            ],
            "text/plain": [
              "\u001b[1m Total params: \u001b[0m\u001b[38;5;34m5,065,825\u001b[0m (19.32 MB)\n"
            ]
          },
          "metadata": {},
          "output_type": "display_data"
        },
        {
          "data": {
            "text/html": [
              "<pre style=\"white-space:pre;overflow-x:auto;line-height:normal;font-family:Menlo,'DejaVu Sans Mono',consolas,'Courier New',monospace\"><span style=\"font-weight: bold\"> Trainable params: </span><span style=\"color: #00af00; text-decoration-color: #00af00\">5,065,825</span> (19.32 MB)\n",
              "</pre>\n"
            ],
            "text/plain": [
              "\u001b[1m Trainable params: \u001b[0m\u001b[38;5;34m5,065,825\u001b[0m (19.32 MB)\n"
            ]
          },
          "metadata": {},
          "output_type": "display_data"
        },
        {
          "data": {
            "text/html": [
              "<pre style=\"white-space:pre;overflow-x:auto;line-height:normal;font-family:Menlo,'DejaVu Sans Mono',consolas,'Courier New',monospace\"><span style=\"font-weight: bold\"> Non-trainable params: </span><span style=\"color: #00af00; text-decoration-color: #00af00\">0</span> (0.00 B)\n",
              "</pre>\n"
            ],
            "text/plain": [
              "\u001b[1m Non-trainable params: \u001b[0m\u001b[38;5;34m0\u001b[0m (0.00 B)\n"
            ]
          },
          "metadata": {},
          "output_type": "display_data"
        },
        {
          "name": "stdout",
          "output_type": "stream",
          "text": [
            "None\n"
          ]
        }
      ],
      "source": [
        "import numpy as np\n",
        "import keras_tuner as kt\n",
        "from keras.layers import Input, Embedding, Bidirectional, GRU, GlobalMaxPool1D, Dense, Dropout\n",
        "from keras.models import Model\n",
        "from keras.optimizers import Adam\n",
        "\n",
        "# Define hyperparameters\n",
        "max_features = 50000  # Maximum number of words to use (vocabulary size)\n",
        "embed_size = 100      # Update this to match the dimension of your pre-trained embeddings\n",
        "maxlen = 2000         # Maximum length of input sequences\n",
        "gru_units = 64        # Number of units in the GRU layer\n",
        "\n",
        "# Embedding initialization parameters\n",
        "emb_mean = 0.0\n",
        "emb_std = 1.0\n",
        "\n",
        "word_index = tokenizer.word_index\n",
        "nb_words = min(max_features, len(word_index))\n",
        "\n",
        "# Initialize the embedding matrix with random values\n",
        "embedding_matrix = np.random.normal(emb_mean, emb_std, (nb_words, embed_size))\n",
        "\n",
        "# Populate the embedding matrix with pre-trained word vectors\n",
        "for word, i in word_index.items():\n",
        "    if i >= max_features:\n",
        "        continue\n",
        "    embedding_vector = embeddings_index.get(word)\n",
        "    if embedding_vector is not None and len(embedding_vector) == embed_size:\n",
        "        embedding_matrix[i] = embedding_vector\n",
        "\n",
        "# Define the model building function\n",
        "def build_model(hp):\n",
        "    inp = Input(shape=(maxlen,))\n",
        "    x = Embedding(\n",
        "        input_dim=nb_words,\n",
        "        output_dim=embed_size,\n",
        "        weights=[embedding_matrix],\n",
        "        input_length=maxlen,\n",
        "        trainable=True,  # Allow fine-tuning of embeddings\n",
        "    )(inp)\n",
        "    \n",
        "    x = Bidirectional(GRU(units=gru_units, return_sequences=True, dropout=hp.Float('gru_dropout', 0.0, 0.5, step=0.1)))(x)\n",
        "    x = GlobalMaxPool1D()(x)\n",
        "    x = Dense(units=hp.Int('dense_units', min_value=8, max_value=64, step=8), activation=\"relu\")(x)\n",
        "    x = Dropout(rate=hp.Float('dropout_rate', 0.0, 0.5, step=0.1))(x)\n",
        "    x = Dense(units=1, activation=\"sigmoid\")(x)\n",
        "\n",
        "    # Compile the model\n",
        "    optimizer = Adam(learning_rate=hp.Float('learning_rate', 1e-4, 1e-2, sampling='log'))\n",
        "    model = Model(inputs=inp, outputs=x)\n",
        "    model.compile(loss=\"binary_crossentropy\", optimizer=optimizer, metrics=[\"accuracy\"])\n",
        "    \n",
        "    return model\n",
        "\n",
        "# Define the tuner\n",
        "tuner = kt.RandomSearch(\n",
        "    build_model,\n",
        "    objective='val_accuracy',\n",
        "    max_trials=10,  # Number of different models to try\n",
        "    executions_per_trial=1,  # Number of models to train per trial\n",
        "    directory='tuner_results',  # Directory to save results\n",
        "    project_name='text_classification_tuning'\n",
        ")\n",
        "\n",
        "# Perform hyperparameter search\n",
        "tuner.search(X_train, y_train, epochs=5, validation_data=(X_val, y_val))\n",
        "\n",
        "# Get the best hyperparameters\n",
        "best_hps = tuner.get_best_hyperparameters(num_trials=1)[0]\n",
        "\n",
        "print(f\"\"\"\n",
        "The hyperparameter search is complete. The optimal number of dense units is {best_hps.get('dense_units')},\n",
        "the optimal dropout rate is {best_hps.get('dropout_rate')}, and the optimal learning rate is {best_hps.get('learning_rate')}.\n",
        "\"\"\")\n",
        "\n",
        "# Build the best model\n",
        "model = tuner.hypermodel.build(best_hps)\n",
        "\n",
        "# Display the model summary\n",
        "print(model.summary())\n"
      ]
    },
    {
      "cell_type": "code",
      "execution_count": 47,
      "metadata": {},
      "outputs": [
        {
          "name": "stdout",
          "output_type": "stream",
          "text": [
            "x_train_features shape: (26972, 2000)\n",
            "y_train shape: (21577,)\n",
            "x_test_features shape: (6744, 2000)\n",
            "y_test shape: (6744,)\n"
          ]
        }
      ],
      "source": [
        "print(f\"x_train_features shape: {x_train_features.shape}\")\n",
        "print(f\"y_train shape: {y_train.shape}\")\n",
        "print(f\"x_test_features shape: {x_test_features.shape}\")\n",
        "print(f\"y_test shape: {y_test.shape}\")"
      ]
    },
    {
      "cell_type": "code",
      "execution_count": 49,
      "metadata": {},
      "outputs": [
        {
          "name": "stdout",
          "output_type": "stream",
          "text": [
            "Epoch 1/20\n",
            "\u001b[1m43/43\u001b[0m \u001b[32m━━━━━━━━━━━━━━━━━━━━\u001b[0m\u001b[37m\u001b[0m \u001b[1m479s\u001b[0m 11s/step - accuracy: 0.5043 - loss: 0.7069 - val_accuracy: 0.4945 - val_loss: 0.6940\n",
            "Epoch 2/20\n",
            "\u001b[1m43/43\u001b[0m \u001b[32m━━━━━━━━━━━━━━━━━━━━\u001b[0m\u001b[37m\u001b[0m \u001b[1m461s\u001b[0m 11s/step - accuracy: 0.5172 - loss: 0.6924 - val_accuracy: 0.5163 - val_loss: 0.6955\n",
            "Epoch 3/20\n",
            "\u001b[1m43/43\u001b[0m \u001b[32m━━━━━━━━━━━━━━━━━━━━\u001b[0m\u001b[37m\u001b[0m \u001b[1m446s\u001b[0m 10s/step - accuracy: 0.5109 - loss: 0.6925 - val_accuracy: 0.4640 - val_loss: 0.7002\n",
            "Epoch 4/20\n",
            "\u001b[1m43/43\u001b[0m \u001b[32m━━━━━━━━━━━━━━━━━━━━\u001b[0m\u001b[37m\u001b[0m \u001b[1m446s\u001b[0m 10s/step - accuracy: 0.5330 - loss: 0.6891 - val_accuracy: 0.4616 - val_loss: 0.7005\n",
            "Epoch 5/20\n",
            "\u001b[1m43/43\u001b[0m \u001b[32m━━━━━━━━━━━━━━━━━━━━\u001b[0m\u001b[37m\u001b[0m \u001b[1m448s\u001b[0m 10s/step - accuracy: 0.5522 - loss: 0.6847 - val_accuracy: 0.4815 - val_loss: 0.7095\n",
            "Epoch 6/20\n",
            "\u001b[1m43/43\u001b[0m \u001b[32m━━━━━━━━━━━━━━━━━━━━\u001b[0m\u001b[37m\u001b[0m \u001b[1m448s\u001b[0m 10s/step - accuracy: 0.5691 - loss: 0.6746 - val_accuracy: 0.4801 - val_loss: 0.7108\n",
            "Epoch 7/20\n",
            "\u001b[1m43/43\u001b[0m \u001b[32m━━━━━━━━━━━━━━━━━━━━\u001b[0m\u001b[37m\u001b[0m \u001b[1m438s\u001b[0m 10s/step - accuracy: 0.6121 - loss: 0.6593 - val_accuracy: 0.4911 - val_loss: 0.7334\n",
            "Epoch 8/20\n",
            "\u001b[1m43/43\u001b[0m \u001b[32m━━━━━━━━━━━━━━━━━━━━\u001b[0m\u001b[37m\u001b[0m \u001b[1m446s\u001b[0m 10s/step - accuracy: 0.6258 - loss: 0.6413 - val_accuracy: 0.4901 - val_loss: 0.7635\n",
            "Epoch 9/20\n",
            "\u001b[1m43/43\u001b[0m \u001b[32m━━━━━━━━━━━━━━━━━━━━\u001b[0m\u001b[37m\u001b[0m \u001b[1m448s\u001b[0m 10s/step - accuracy: 0.6492 - loss: 0.6184 - val_accuracy: 0.4640 - val_loss: 0.8168\n",
            "Epoch 10/20\n",
            "\u001b[1m43/43\u001b[0m \u001b[32m━━━━━━━━━━━━━━━━━━━━\u001b[0m\u001b[37m\u001b[0m \u001b[1m445s\u001b[0m 10s/step - accuracy: 0.6805 - loss: 0.5880 - val_accuracy: 0.4953 - val_loss: 0.8165\n",
            "Epoch 11/20\n",
            "\u001b[1m43/43\u001b[0m \u001b[32m━━━━━━━━━━━━━━━━━━━━\u001b[0m\u001b[37m\u001b[0m \u001b[1m427s\u001b[0m 10s/step - accuracy: 0.6953 - loss: 0.5696 - val_accuracy: 0.5019 - val_loss: 0.8736\n",
            "Epoch 12/20\n",
            "\u001b[1m43/43\u001b[0m \u001b[32m━━━━━━━━━━━━━━━━━━━━\u001b[0m\u001b[37m\u001b[0m \u001b[1m440s\u001b[0m 10s/step - accuracy: 0.7138 - loss: 0.5444 - val_accuracy: 0.5040 - val_loss: 0.8803\n",
            "Epoch 13/20\n",
            "\u001b[1m43/43\u001b[0m \u001b[32m━━━━━━━━━━━━━━━━━━━━\u001b[0m\u001b[37m\u001b[0m \u001b[1m448s\u001b[0m 10s/step - accuracy: 0.7311 - loss: 0.5219 - val_accuracy: 0.4951 - val_loss: 0.9412\n",
            "Epoch 14/20\n",
            "\u001b[1m43/43\u001b[0m \u001b[32m━━━━━━━━━━━━━━━━━━━━\u001b[0m\u001b[37m\u001b[0m \u001b[1m443s\u001b[0m 10s/step - accuracy: 0.7472 - loss: 0.4930 - val_accuracy: 0.5018 - val_loss: 0.9825\n",
            "Epoch 15/20\n",
            "\u001b[1m43/43\u001b[0m \u001b[32m━━━━━━━━━━━━━━━━━━━━\u001b[0m\u001b[37m\u001b[0m \u001b[1m449s\u001b[0m 10s/step - accuracy: 0.7627 - loss: 0.4703 - val_accuracy: 0.5034 - val_loss: 1.0157\n",
            "Epoch 16/20\n",
            "\u001b[1m43/43\u001b[0m \u001b[32m━━━━━━━━━━━━━━━━━━━━\u001b[0m\u001b[37m\u001b[0m \u001b[1m436s\u001b[0m 10s/step - accuracy: 0.7826 - loss: 0.4430 - val_accuracy: 0.4970 - val_loss: 1.0428\n",
            "Epoch 17/20\n",
            "\u001b[1m43/43\u001b[0m \u001b[32m━━━━━━━━━━━━━━━━━━━━\u001b[0m\u001b[37m\u001b[0m \u001b[1m433s\u001b[0m 10s/step - accuracy: 0.7863 - loss: 0.4358 - val_accuracy: 0.4933 - val_loss: 1.1301\n",
            "Epoch 18/20\n",
            "\u001b[1m43/43\u001b[0m \u001b[32m━━━━━━━━━━━━━━━━━━━━\u001b[0m\u001b[37m\u001b[0m \u001b[1m444s\u001b[0m 10s/step - accuracy: 0.7962 - loss: 0.4204 - val_accuracy: 0.5030 - val_loss: 1.1306\n",
            "Epoch 19/20\n",
            "\u001b[1m43/43\u001b[0m \u001b[32m━━━━━━━━━━━━━━━━━━━━\u001b[0m\u001b[37m\u001b[0m \u001b[1m450s\u001b[0m 10s/step - accuracy: 0.8042 - loss: 0.4051 - val_accuracy: 0.4917 - val_loss: 1.1647\n",
            "Epoch 20/20\n",
            "\u001b[1m43/43\u001b[0m \u001b[32m━━━━━━━━━━━━━━━━━━━━\u001b[0m\u001b[37m\u001b[0m \u001b[1m446s\u001b[0m 10s/step - accuracy: 0.8121 - loss: 0.3921 - val_accuracy: 0.4853 - val_loss: 1.2654\n"
          ]
        }
      ],
      "source": [
        "# Assuming x_train_features is larger than y_train\n",
        "min_train_samples = min(x_train_features.shape[0], y_train.shape[0])\n",
        "x_train_features = x_train_features[:min_train_samples]\n",
        "y_train = y_train[:min_train_samples]\n",
        "\n",
        "# Assuming x_test_features is larger than y_test\n",
        "min_test_samples = min(x_test_features.shape[0], y_test.shape[0])\n",
        "x_test_features = x_test_features[:min_test_samples]\n",
        "y_test = y_test[:min_test_samples]\n",
        "\n",
        "# After aligning the data, you can proceed with training\n",
        "history = model.fit(x_train_features, y_train, batch_size=512, epochs=20, \n",
        "                    validation_data=(x_test_features, y_test))\n",
        "\n"
      ]
    },
    {
      "cell_type": "code",
      "execution_count": 50,
      "metadata": {},
      "outputs": [
        {
          "data": {
            "image/png": "[encoded data removed]",
            "text/plain": [
              "<Figure size 640x480 with 1 Axes>"
            ]
          },
          "metadata": {},
          "output_type": "display_data"
        }
      ],
      "source": [
        "plt.plot(history.history['accuracy'])\n",
        "plt.plot(history.history['val_accuracy'])\n",
        "plt.title('model accuracy')\n",
        "plt.ylabel('accuracy')\n",
        "plt.xlabel('epoch')\n",
        "plt.legend(['train', 'test'], loc='upper left')\n",
        "plt.show()"
      ]
    },
    {
      "cell_type": "code",
      "execution_count": 51,
      "metadata": {},
      "outputs": [],
      "source": [
        "from sklearn.metrics import confusion_matrix,f1_score, precision_score,recall_score\n"
      ]
    },
    {
      "cell_type": "code",
      "execution_count": 52,
      "metadata": {},
      "outputs": [
        {
          "name": "stdout",
          "output_type": "stream",
          "text": [
            "\u001b[1m211/211\u001b[0m \u001b[32m━━━━━━━━━━━━━━━━━━━━\u001b[0m\u001b[37m\u001b[0m \u001b[1m100s\u001b[0m 466ms/step\n"
          ]
        }
      ],
      "source": [
        "y_predict  = [1 if o>0.5 else 0 for o in model.predict(x_test_features)]"
      ]
    },
    {
      "cell_type": "code",
      "execution_count": 53,
      "metadata": {},
      "outputs": [
        {
          "data": {
            "text/plain": [
              "array([[1307, 1969],\n",
              "       [1502, 1966]], dtype=int64)"
            ]
          },
          "execution_count": 53,
          "metadata": {},
          "output_type": "execute_result"
        }
      ],
      "source": [
        "confusion_matrix(y_test,y_predict)"
      ]
    },
    {
      "cell_type": "code",
      "execution_count": 54,
      "metadata": {},
      "outputs": [
        {
          "name": "stdout",
          "output_type": "stream",
          "text": [
            "Precision: 49.96%\n",
            "Recall: 56.69%\n",
            "Accuracy: 48.53%\n",
            "F1 Score: 53.11\n"
          ]
        }
      ],
      "source": [
        "from sklearn.metrics import confusion_matrix, precision_score, recall_score, f1_score, accuracy_score\n",
        "\n",
        "\n",
        "tn, fp, fn, tp = confusion_matrix(y_test, y_predict).ravel()\n",
        "\n",
        "print(\"Precision: {:.2f}%\".format(100 * precision_score(y_test, y_predict)))\n",
        "print(\"Recall: {:.2f}%\".format(100 * recall_score(y_test, y_predict)))\n",
        "print(\"Accuracy: {:.2f}%\".format(100 * accuracy_score(y_test, y_predict)))\n",
        "print(\"F1 Score: {:.2f}\".format(100 * f1_score(y_test, y_predict)))\n"
      ]
    },
    {
      "cell_type": "code",
      "execution_count": 55,
      "metadata": {},
      "outputs": [],
      "source": [
        "import matplotlib.pyplot as plt\n",
        "from sklearn.metrics import confusion_matrix\n",
        "import itertools\n",
        "\n",
        "cnf_matrix = confusion_matrix(y_test,y_predict)\n",
        "\n",
        "def plot_confusion_matrix(cm, classes,\n",
        "                          normalize=False,\n",
        "                          title='Confusion matrix',\n",
        "                          cmap=plt.cm.Blues):\n",
        "    \"\"\"\n",
        "    This function prints and plots the confusion matrix.\n",
        "    Normalization can be applied by setting `normalize=True`.\n",
        "    \"\"\"\n",
        "    if normalize:\n",
        "        cm = cm.astype('float') / cm.sum(axis=1)[:, np.newaxis]\n",
        "        print(\"Normalized confusion matrix\")\n",
        "    else:\n",
        "        print('Confusion matrix, without normalization')\n",
        "\n",
        "    print(cm)\n",
        "\n",
        "    plt.imshow(cm, interpolation='nearest', cmap=cmap)\n",
        "    plt.title(title)\n",
        "    plt.colorbar()\n",
        "    tick_marks = np.arange(len(classes))\n",
        "    plt.xticks(tick_marks, classes, rotation=45)\n",
        "    plt.yticks(tick_marks, classes)\n",
        "\n",
        "    fmt = '.2f' if normalize else 'd'\n",
        "    thresh = cm.max() / 2.\n",
        "    for i, j in itertools.product(range(cm.shape[0]), range(cm.shape[1])):\n",
        "        plt.text(j, i, format(cm[i, j], fmt),\n",
        "                 horizontalalignment=\"center\",\n",
        "                 color=\"white\" if cm[i, j] > thresh else \"black\")\n",
        "\n",
        "    plt.ylabel('True label')\n",
        "    plt.xlabel('Predicted label')\n",
        "    plt.tight_layout()"
      ]
    },
    {
      "cell_type": "code",
      "execution_count": 56,
      "metadata": {},
      "outputs": [
        {
          "name": "stdout",
          "output_type": "stream",
          "text": [
            "Confusion matrix, without normalization\n",
            "[[1307 1969]\n",
            " [1502 1966]]\n"
          ]
        },
        {
          "data": {
            "image/png": "[encoded data removed]",
            "text/plain": [
              "<Figure size 640x480 with 2 Axes>"
            ]
          },
          "metadata": {},
          "output_type": "display_data"
        }
      ],
      "source": [
        "plt.figure()\n",
        "plot_confusion_matrix(cnf_matrix, classes=['Non Spam','Spam'], normalize=False,\n",
        "                      title='Confusion matrix')"
      ]
    },
    {
      "cell_type": "markdown",
      "metadata": {},
      "source": [
        "## GRU with Pre-trained Word Embedding GloVe"
      ]
    },
    {
      "cell_type": "code",
      "execution_count": 70,
      "metadata": {},
      "outputs": [
        {
          "data": {
            "text/html": [
              "<pre style=\"white-space:pre;overflow-x:auto;line-height:normal;font-family:Menlo,'DejaVu Sans Mono',consolas,'Courier New',monospace\"><span style=\"font-weight: bold\">Model: \"functional_4\"</span>\n",
              "</pre>\n"
            ],
            "text/plain": [
              "\u001b[1mModel: \"functional_4\"\u001b[0m\n"
            ]
          },
          "metadata": {},
          "output_type": "display_data"
        },
        {
          "data": {
            "text/html": [
              "<pre style=\"white-space:pre;overflow-x:auto;line-height:normal;font-family:Menlo,'DejaVu Sans Mono',consolas,'Courier New',monospace\">┏━━━━━━━━━━━━━━━━━━━━━━━━━━━━━━━━━┳━━━━━━━━━━━━━━━━━━━━━━━━┳━━━━━━━━━━━━━━━┓\n",
              "┃<span style=\"font-weight: bold\"> Layer (type)                    </span>┃<span style=\"font-weight: bold\"> Output Shape           </span>┃<span style=\"font-weight: bold\">       Param # </span>┃\n",
              "┡━━━━━━━━━━━━━━━━━━━━━━━━━━━━━━━━━╇━━━━━━━━━━━━━━━━━━━━━━━━╇━━━━━━━━━━━━━━━┩\n",
              "│ input_layer_4 (<span style=\"color: #0087ff; text-decoration-color: #0087ff\">InputLayer</span>)      │ (<span style=\"color: #00d7ff; text-decoration-color: #00d7ff\">None</span>, <span style=\"color: #00af00; text-decoration-color: #00af00\">2000</span>)           │             <span style=\"color: #00af00; text-decoration-color: #00af00\">0</span> │\n",
              "├─────────────────────────────────┼────────────────────────┼───────────────┤\n",
              "│ embedding_4 (<span style=\"color: #0087ff; text-decoration-color: #0087ff\">Embedding</span>)         │ (<span style=\"color: #00d7ff; text-decoration-color: #00d7ff\">None</span>, <span style=\"color: #00af00; text-decoration-color: #00af00\">2000</span>, <span style=\"color: #00af00; text-decoration-color: #00af00\">300</span>)      │    <span style=\"color: #00af00; text-decoration-color: #00af00\">15,000,000</span> │\n",
              "├─────────────────────────────────┼────────────────────────┼───────────────┤\n",
              "│ bidirectional_4 (<span style=\"color: #0087ff; text-decoration-color: #0087ff\">Bidirectional</span>) │ (<span style=\"color: #00d7ff; text-decoration-color: #00d7ff\">None</span>, <span style=\"color: #00af00; text-decoration-color: #00af00\">2000</span>, <span style=\"color: #00af00; text-decoration-color: #00af00\">128</span>)      │       <span style=\"color: #00af00; text-decoration-color: #00af00\">140,544</span> │\n",
              "├─────────────────────────────────┼────────────────────────┼───────────────┤\n",
              "│ global_max_pooling1d_4          │ (<span style=\"color: #00d7ff; text-decoration-color: #00d7ff\">None</span>, <span style=\"color: #00af00; text-decoration-color: #00af00\">128</span>)            │             <span style=\"color: #00af00; text-decoration-color: #00af00\">0</span> │\n",
              "│ (<span style=\"color: #0087ff; text-decoration-color: #0087ff\">GlobalMaxPooling1D</span>)            │                        │               │\n",
              "├─────────────────────────────────┼────────────────────────┼───────────────┤\n",
              "│ dense_8 (<span style=\"color: #0087ff; text-decoration-color: #0087ff\">Dense</span>)                 │ (<span style=\"color: #00d7ff; text-decoration-color: #00d7ff\">None</span>, <span style=\"color: #00af00; text-decoration-color: #00af00\">16</span>)             │         <span style=\"color: #00af00; text-decoration-color: #00af00\">2,064</span> │\n",
              "├─────────────────────────────────┼────────────────────────┼───────────────┤\n",
              "│ dropout_4 (<span style=\"color: #0087ff; text-decoration-color: #0087ff\">Dropout</span>)             │ (<span style=\"color: #00d7ff; text-decoration-color: #00d7ff\">None</span>, <span style=\"color: #00af00; text-decoration-color: #00af00\">16</span>)             │             <span style=\"color: #00af00; text-decoration-color: #00af00\">0</span> │\n",
              "├─────────────────────────────────┼────────────────────────┼───────────────┤\n",
              "│ dense_9 (<span style=\"color: #0087ff; text-decoration-color: #0087ff\">Dense</span>)                 │ (<span style=\"color: #00d7ff; text-decoration-color: #00d7ff\">None</span>, <span style=\"color: #00af00; text-decoration-color: #00af00\">1</span>)              │            <span style=\"color: #00af00; text-decoration-color: #00af00\">17</span> │\n",
              "└─────────────────────────────────┴────────────────────────┴───────────────┘\n",
              "</pre>\n"
            ],
            "text/plain": [
              "┏━━━━━━━━━━━━━━━━━━━━━━━━━━━━━━━━━┳━━━━━━━━━━━━━━━━━━━━━━━━┳━━━━━━━━━━━━━━━┓\n",
              "┃\u001b[1m \u001b[0m\u001b[1mLayer (type)                   \u001b[0m\u001b[1m \u001b[0m┃\u001b[1m \u001b[0m\u001b[1mOutput Shape          \u001b[0m\u001b[1m \u001b[0m┃\u001b[1m \u001b[0m\u001b[1m      Param #\u001b[0m\u001b[1m \u001b[0m┃\n",
              "┡━━━━━━━━━━━━━━━━━━━━━━━━━━━━━━━━━╇━━━━━━━━━━━━━━━━━━━━━━━━╇━━━━━━━━━━━━━━━┩\n",
              "│ input_layer_4 (\u001b[38;5;33mInputLayer\u001b[0m)      │ (\u001b[38;5;45mNone\u001b[0m, \u001b[38;5;34m2000\u001b[0m)           │             \u001b[38;5;34m0\u001b[0m │\n",
              "├─────────────────────────────────┼────────────────────────┼───────────────┤\n",
              "│ embedding_4 (\u001b[38;5;33mEmbedding\u001b[0m)         │ (\u001b[38;5;45mNone\u001b[0m, \u001b[38;5;34m2000\u001b[0m, \u001b[38;5;34m300\u001b[0m)      │    \u001b[38;5;34m15,000,000\u001b[0m │\n",
              "├─────────────────────────────────┼────────────────────────┼───────────────┤\n",
              "│ bidirectional_4 (\u001b[38;5;33mBidirectional\u001b[0m) │ (\u001b[38;5;45mNone\u001b[0m, \u001b[38;5;34m2000\u001b[0m, \u001b[38;5;34m128\u001b[0m)      │       \u001b[38;5;34m140,544\u001b[0m │\n",
              "├─────────────────────────────────┼────────────────────────┼───────────────┤\n",
              "│ global_max_pooling1d_4          │ (\u001b[38;5;45mNone\u001b[0m, \u001b[38;5;34m128\u001b[0m)            │             \u001b[38;5;34m0\u001b[0m │\n",
              "│ (\u001b[38;5;33mGlobalMaxPooling1D\u001b[0m)            │                        │               │\n",
              "├─────────────────────────────────┼────────────────────────┼───────────────┤\n",
              "│ dense_8 (\u001b[38;5;33mDense\u001b[0m)                 │ (\u001b[38;5;45mNone\u001b[0m, \u001b[38;5;34m16\u001b[0m)             │         \u001b[38;5;34m2,064\u001b[0m │\n",
              "├─────────────────────────────────┼────────────────────────┼───────────────┤\n",
              "│ dropout_4 (\u001b[38;5;33mDropout\u001b[0m)             │ (\u001b[38;5;45mNone\u001b[0m, \u001b[38;5;34m16\u001b[0m)             │             \u001b[38;5;34m0\u001b[0m │\n",
              "├─────────────────────────────────┼────────────────────────┼───────────────┤\n",
              "│ dense_9 (\u001b[38;5;33mDense\u001b[0m)                 │ (\u001b[38;5;45mNone\u001b[0m, \u001b[38;5;34m1\u001b[0m)              │            \u001b[38;5;34m17\u001b[0m │\n",
              "└─────────────────────────────────┴────────────────────────┴───────────────┘\n"
            ]
          },
          "metadata": {},
          "output_type": "display_data"
        },
        {
          "data": {
            "text/html": [
              "<pre style=\"white-space:pre;overflow-x:auto;line-height:normal;font-family:Menlo,'DejaVu Sans Mono',consolas,'Courier New',monospace\"><span style=\"font-weight: bold\"> Total params: </span><span style=\"color: #00af00; text-decoration-color: #00af00\">15,142,625</span> (57.76 MB)\n",
              "</pre>\n"
            ],
            "text/plain": [
              "\u001b[1m Total params: \u001b[0m\u001b[38;5;34m15,142,625\u001b[0m (57.76 MB)\n"
            ]
          },
          "metadata": {},
          "output_type": "display_data"
        },
        {
          "data": {
            "text/html": [
              "<pre style=\"white-space:pre;overflow-x:auto;line-height:normal;font-family:Menlo,'DejaVu Sans Mono',consolas,'Courier New',monospace\"><span style=\"font-weight: bold\"> Trainable params: </span><span style=\"color: #00af00; text-decoration-color: #00af00\">15,142,625</span> (57.76 MB)\n",
              "</pre>\n"
            ],
            "text/plain": [
              "\u001b[1m Trainable params: \u001b[0m\u001b[38;5;34m15,142,625\u001b[0m (57.76 MB)\n"
            ]
          },
          "metadata": {},
          "output_type": "display_data"
        },
        {
          "data": {
            "text/html": [
              "<pre style=\"white-space:pre;overflow-x:auto;line-height:normal;font-family:Menlo,'DejaVu Sans Mono',consolas,'Courier New',monospace\"><span style=\"font-weight: bold\"> Non-trainable params: </span><span style=\"color: #00af00; text-decoration-color: #00af00\">0</span> (0.00 B)\n",
              "</pre>\n"
            ],
            "text/plain": [
              "\u001b[1m Non-trainable params: \u001b[0m\u001b[38;5;34m0\u001b[0m (0.00 B)\n"
            ]
          },
          "metadata": {},
          "output_type": "display_data"
        },
        {
          "name": "stdout",
          "output_type": "stream",
          "text": [
            "None\n"
          ]
        }
      ],
      "source": [
        "word_index = tokenizer.word_index\n",
        "nb_words = min(max_features, len(word_index))\n",
        "embedding_matrix = np.random.normal(emb_mean, emb_std, (nb_words, embed_size))\n",
        "for word, i in word_index.items():\n",
        "    if i >= max_features: continue\n",
        "    embedding_vector = embeddings_index.get(word)\n",
        "    if embedding_vector is not None: embedding_matrix[i] = embedding_vector\n",
        "        \n",
        "inp = Input(shape=(maxlen,))\n",
        "x = Embedding(max_features, embed_size, weights=[embedding_matrix])(inp)\n",
        "x = Bidirectional(GRU(64, return_sequences=True))(x)\n",
        "x = GlobalMaxPool1D()(x)\n",
        "x = Dense(16, activation=\"relu\")(x)\n",
        "x = Dropout(0.1)(x)\n",
        "x = Dense(1, activation=\"sigmoid\")(x)\n",
        "model = Model(inputs=inp, outputs=x)\n",
        "model.compile(loss='binary_crossentropy', optimizer='adam', metrics=['accuracy'])\n",
        "print(model.summary())"
      ]
    },
    {
      "cell_type": "code",
      "execution_count": null,
      "metadata": {},
      "outputs": [],
      "source": [
        "model.layers[1].trainable = False"
      ]
    },
    {
      "cell_type": "code",
      "execution_count": null,
      "metadata": {},
      "outputs": [
        {
          "name": "stdout",
          "output_type": "stream",
          "text": [
            "Epoch 1/20\n",
            "\u001b[1m53/53\u001b[0m \u001b[32m━━━━━━━━━━━━━━━━━━━━\u001b[0m\u001b[37m\u001b[0m \u001b[1m1721s\u001b[0m 33s/step - accuracy: 0.7561 - loss: 0.5416 - val_accuracy: 0.9442 - val_loss: 0.1596\n",
            "Epoch 2/20\n",
            "\u001b[1m53/53\u001b[0m \u001b[32m━━━━━━━━━━━━━━━━━━━━\u001b[0m\u001b[37m\u001b[0m \u001b[1m2718s\u001b[0m 52s/step - accuracy: 0.9513 - loss: 0.1422 - val_accuracy: 0.9655 - val_loss: 0.0990\n",
            "Epoch 3/20\n",
            "\u001b[1m53/53\u001b[0m \u001b[32m━━━━━━━━━━━━━━━━━━━━\u001b[0m\u001b[37m\u001b[0m \u001b[1m3751s\u001b[0m 71s/step - accuracy: 0.9711 - loss: 0.0867 - val_accuracy: 0.9724 - val_loss: 0.0737\n",
            "Epoch 4/20\n",
            "\u001b[1m53/53\u001b[0m \u001b[32m━━━━━━━━━━━━━━━━━━━━\u001b[0m\u001b[37m\u001b[0m \u001b[1m4108s\u001b[0m 78s/step - accuracy: 0.9815 - loss: 0.0590 - val_accuracy: 0.9743 - val_loss: 0.0710\n",
            "Epoch 5/20\n",
            "\u001b[1m53/53\u001b[0m \u001b[32m━━━━━━━━━━━━━━━━━━━━\u001b[0m\u001b[37m\u001b[0m \u001b[1m4142s\u001b[0m 78s/step - accuracy: 0.9850 - loss: 0.0472 - val_accuracy: 0.9786 - val_loss: 0.0593\n",
            "Epoch 6/20\n",
            "\u001b[1m53/53\u001b[0m \u001b[32m━━━━━━━━━━━━━━━━━━━━\u001b[0m\u001b[37m\u001b[0m \u001b[1m4160s\u001b[0m 79s/step - accuracy: 0.9892 - loss: 0.0365 - val_accuracy: 0.9803 - val_loss: 0.0599\n",
            "Epoch 7/20\n",
            "\u001b[1m53/53\u001b[0m \u001b[32m━━━━━━━━━━━━━━━━━━━━\u001b[0m\u001b[37m\u001b[0m \u001b[1m4174s\u001b[0m 79s/step - accuracy: 0.9911 - loss: 0.0294 - val_accuracy: 0.9806 - val_loss: 0.0561\n",
            "Epoch 8/20\n",
            "\u001b[1m53/53\u001b[0m \u001b[32m━━━━━━━━━━━━━━━━━━━━\u001b[0m\u001b[37m\u001b[0m \u001b[1m4158s\u001b[0m 79s/step - accuracy: 0.9934 - loss: 0.0228 - val_accuracy: 0.9806 - val_loss: 0.0531\n",
            "Epoch 9/20\n",
            "\u001b[1m53/53\u001b[0m \u001b[32m━━━━━━━━━━━━━━━━━━━━\u001b[0m\u001b[37m\u001b[0m \u001b[1m4140s\u001b[0m 78s/step - accuracy: 0.9949 - loss: 0.0203 - val_accuracy: 0.9784 - val_loss: 0.0639\n",
            "Epoch 10/20\n",
            "\u001b[1m53/53\u001b[0m \u001b[32m━━━━━━━━━━━━━━━━━━━━\u001b[0m\u001b[37m\u001b[0m \u001b[1m4122s\u001b[0m 78s/step - accuracy: 0.9952 - loss: 0.0178 - val_accuracy: 0.9821 - val_loss: 0.0576\n",
            "Epoch 11/20\n",
            "\u001b[1m53/53\u001b[0m \u001b[32m━━━━━━━━━━━━━━━━━━━━\u001b[0m\u001b[37m\u001b[0m \u001b[1m4115s\u001b[0m 78s/step - accuracy: 0.9967 - loss: 0.0126 - val_accuracy: 0.9827 - val_loss: 0.0587\n",
            "Epoch 12/20\n",
            "\u001b[1m53/53\u001b[0m \u001b[32m━━━━━━━━━━━━━━━━━━━━\u001b[0m\u001b[37m\u001b[0m \u001b[1m4095s\u001b[0m 77s/step - accuracy: 0.9972 - loss: 0.0098 - val_accuracy: 0.9804 - val_loss: 0.0653\n",
            "Epoch 13/20\n",
            "\u001b[1m53/53\u001b[0m \u001b[32m━━━━━━━━━━━━━━━━━━━━\u001b[0m\u001b[37m\u001b[0m \u001b[1m3680s\u001b[0m 69s/step - accuracy: 0.9975 - loss: 0.0094 - val_accuracy: 0.9825 - val_loss: 0.0625\n",
            "Epoch 14/20\n",
            "\u001b[1m53/53\u001b[0m \u001b[32m━━━━━━━━━━━━━━━━━━━━\u001b[0m\u001b[37m\u001b[0m \u001b[1m3648s\u001b[0m 69s/step - accuracy: 0.9981 - loss: 0.0072 - val_accuracy: 0.9829 - val_loss: 0.0632\n",
            "Epoch 15/20\n",
            "\u001b[1m53/53\u001b[0m \u001b[32m━━━━━━━━━━━━━━━━━━━━\u001b[0m\u001b[37m\u001b[0m \u001b[1m3745s\u001b[0m 71s/step - accuracy: 0.9978 - loss: 0.0078 - val_accuracy: 0.9800 - val_loss: 0.0832\n",
            "Epoch 16/20\n",
            "\u001b[1m53/53\u001b[0m \u001b[32m━━━━━━━━━━━━━━━━━━━━\u001b[0m\u001b[37m\u001b[0m \u001b[1m3902s\u001b[0m 74s/step - accuracy: 0.9970 - loss: 0.0102 - val_accuracy: 0.9827 - val_loss: 0.0571\n",
            "Epoch 17/20\n",
            "\u001b[1m53/53\u001b[0m \u001b[32m━━━━━━━━━━━━━━━━━━━━\u001b[0m\u001b[37m\u001b[0m \u001b[1m3800s\u001b[0m 72s/step - accuracy: 0.9973 - loss: 0.0090 - val_accuracy: 0.9824 - val_loss: 0.0635\n",
            "Epoch 18/20\n",
            "\u001b[1m53/53\u001b[0m \u001b[32m━━━━━━━━━━━━━━━━━━━━\u001b[0m\u001b[37m\u001b[0m \u001b[1m3818s\u001b[0m 72s/step - accuracy: 0.9975 - loss: 0.0083 - val_accuracy: 0.9832 - val_loss: 0.0653\n",
            "Epoch 19/20\n",
            "\u001b[1m53/53\u001b[0m \u001b[32m━━━━━━━━━━━━━━━━━━━━\u001b[0m\u001b[37m\u001b[0m \u001b[1m3776s\u001b[0m 71s/step - accuracy: 0.9972 - loss: 0.0087 - val_accuracy: 0.9829 - val_loss: 0.0639\n",
            "Epoch 20/20\n",
            "\u001b[1m53/53\u001b[0m \u001b[32m━━━━━━━━━━━━━━━━━━━━\u001b[0m\u001b[37m\u001b[0m \u001b[1m3766s\u001b[0m 71s/step - accuracy: 0.9981 - loss: 0.0066 - val_accuracy: 0.9831 - val_loss: 0.0686\n"
          ]
        }
      ],
      "source": [
        "history = model.fit(x_train_features,y_train, batch_size=512, epochs=20, \n",
        "          validation_data=(x_test_features, y_test))\n",
        "\n"
      ]
    },
    {
      "cell_type": "code",
      "execution_count": null,
      "metadata": {},
      "outputs": [
        {
          "data": {
            "image/png": "[encoded data removed]",
            "text/plain": [
              "<Figure size 640x480 with 1 Axes>"
            ]
          },
          "metadata": {},
          "output_type": "display_data"
        }
      ],
      "source": [
        "plt.plot(history.history['accuracy'])\n",
        "plt.plot(history.history['val_accuracy'])\n",
        "plt.title('model accuracy')\n",
        "plt.ylabel('accuracy')\n",
        "plt.xlabel('epoch')\n",
        "plt.legend(['train', 'test'], loc='upper left')\n",
        "plt.show()"
      ]
    },
    {
      "cell_type": "code",
      "execution_count": null,
      "metadata": {},
      "outputs": [],
      "source": [
        "from sklearn.metrics import confusion_matrix,f1_score, precision_score,recall_score"
      ]
    },
    {
      "cell_type": "code",
      "execution_count": null,
      "metadata": {},
      "outputs": [
        {
          "name": "stdout",
          "output_type": "stream",
          "text": [
            "\u001b[1m211/211\u001b[0m \u001b[32m━━━━━━━━━━━━━━━━━━━━\u001b[0m\u001b[37m\u001b[0m \u001b[1m190s\u001b[0m 884ms/step\n"
          ]
        }
      ],
      "source": [
        "y_predict  = [1 if o>0.5 else 0 for o in model.predict(x_test_features)]"
      ]
    },
    {
      "cell_type": "code",
      "execution_count": null,
      "metadata": {},
      "outputs": [
        {
          "data": {
            "text/plain": [
              "array([[3185,   91],\n",
              "       [  23, 3445]], dtype=int64)"
            ]
          },
          "execution_count": 45,
          "metadata": {},
          "output_type": "execute_result"
        }
      ],
      "source": [
        "confusion_matrix(y_test,y_predict)"
      ]
    },
    {
      "cell_type": "code",
      "execution_count": null,
      "metadata": {},
      "outputs": [
        {
          "name": "stdout",
          "output_type": "stream",
          "text": [
            "Precision: 97.43%\n",
            "Recall: 99.34%\n",
            "Accuracy: 98.31%\n",
            "F1 Score: 98.37\n"
          ]
        }
      ],
      "source": [
        "from sklearn.metrics import confusion_matrix, precision_score, recall_score, f1_score, accuracy_score\n",
        "\n",
        "\n",
        "tn, fp, fn, tp = confusion_matrix(y_test, y_predict).ravel()\n",
        "\n",
        "print(\"Precision: {:.2f}%\".format(100 * precision_score(y_test, y_predict)))\n",
        "print(\"Recall: {:.2f}%\".format(100 * recall_score(y_test, y_predict)))\n",
        "print(\"Accuracy: {:.2f}%\".format(100 * accuracy_score(y_test, y_predict)))\n",
        "print(\"F1 Score: {:.2f}\".format(100 * f1_score(y_test, y_predict)))\n"
      ]
    },
    {
      "cell_type": "code",
      "execution_count": null,
      "metadata": {},
      "outputs": [],
      "source": [
        "import matplotlib.pyplot as plt\n",
        "from sklearn.metrics import confusion_matrix\n",
        "import itertools\n",
        "\n",
        "cnf_matrix = confusion_matrix(y_test,y_predict)\n",
        "\n",
        "def plot_confusion_matrix(cm, classes,\n",
        "                          normalize=False,\n",
        "                          title='Confusion matrix',\n",
        "                          cmap=plt.cm.Blues):\n",
        "    \"\"\"\n",
        "    This function prints and plots the confusion matrix.\n",
        "    Normalization can be applied by setting `normalize=True`.\n",
        "    \"\"\"\n",
        "    if normalize:\n",
        "        cm = cm.astype('float') / cm.sum(axis=1)[:, np.newaxis]\n",
        "        print(\"Normalized confusion matrix\")\n",
        "    else:\n",
        "        print('Confusion matrix, without normalization')\n",
        "\n",
        "    print(cm)\n",
        "\n",
        "    plt.imshow(cm, interpolation='nearest', cmap=cmap)\n",
        "    plt.title(title)\n",
        "    plt.colorbar()\n",
        "    tick_marks = np.arange(len(classes))\n",
        "    plt.xticks(tick_marks, classes, rotation=45)\n",
        "    plt.yticks(tick_marks, classes)\n",
        "\n",
        "    fmt = '.2f' if normalize else 'd'\n",
        "    thresh = cm.max() / 2.\n",
        "    for i, j in itertools.product(range(cm.shape[0]), range(cm.shape[1])):\n",
        "        plt.text(j, i, format(cm[i, j], fmt),\n",
        "                 horizontalalignment=\"center\",\n",
        "                 color=\"white\" if cm[i, j] > thresh else \"black\")\n",
        "\n",
        "    plt.ylabel('True label')\n",
        "    plt.xlabel('Predicted label')\n",
        "    plt.tight_layout()"
      ]
    },
    {
      "cell_type": "code",
      "execution_count": null,
      "metadata": {},
      "outputs": [
        {
          "name": "stdout",
          "output_type": "stream",
          "text": [
            "Confusion matrix, without normalization\n",
            "[[3185   91]\n",
            " [  23 3445]]\n"
          ]
        },
        {
          "data": {
            "image/png": "[encoded data removed]",
            "text/plain": [
              "<Figure size 640x480 with 2 Axes>"
            ]
          },
          "metadata": {},
          "output_type": "display_data"
        }
      ],
      "source": [
        "plt.figure()\n",
        "plot_confusion_matrix(cnf_matrix, classes=['Non Spam','Spam'], normalize=False,\n",
        "                      title='Confusion matrix')"
      ]
    }
  ],
  "metadata": {
    "colab": {
      "provenance": []
    },
    "kernelspec": {
      "display_name": "Python 3",
      "name": "python3"
    },
    "language_info": {
      "codemirror_mode": {
        "name": "ipython",
        "version": 3
      },
      "file_extension": ".py",
      "mimetype": "text/x-python",
      "name": "python",
      "nbconvert_exporter": "python",
      "pygments_lexer": "ipython3",
      "version": "3.11.9"
    }
  },
  "nbformat": 4,
  "nbformat_minor": 0
}
